{
 "cells": [
  {
   "cell_type": "markdown",
   "metadata": {},
   "source": [
    "# Clustering Crypto"
   ]
  },
  {
   "cell_type": "code",
   "execution_count": 23,
   "metadata": {},
   "outputs": [],
   "source": [
    "# Initial imports\n",
    "import requests\n",
    "import pandas as pd\n",
    "import matplotlib.pyplot as plt\n",
    "import hvplot.pandas\n",
    "import plotly.express as px\n",
    "from sklearn.preprocessing import StandardScaler, MinMaxScaler\n",
    "from sklearn.decomposition import PCA\n",
    "from sklearn.cluster import KMeans\n",
    "from pathlib import Path"
   ]
  },
  {
   "cell_type": "markdown",
   "metadata": {},
   "source": [
    "### Fetching Cryptocurrency Data"
   ]
  },
  {
   "cell_type": "code",
   "execution_count": 18,
   "metadata": {},
   "outputs": [],
   "source": [
    "# Use the following endpoint to fetch json data\n",
    "url = \"https://min-api.cryptocompare.com/data/all/coinlist\""
   ]
  },
  {
   "cell_type": "code",
   "execution_count": null,
   "metadata": {},
   "outputs": [],
   "source": [
    "# Create a DataFrame \n",
    "crypto_df = pd.DataFrame"
   ]
  },
  {
   "cell_type": "code",
   "execution_count": 33,
   "metadata": {},
   "outputs": [
    {
     "name": "stdout",
     "output_type": "stream",
     "text": [
      "(1252, 7)\n"
     ]
    },
    {
     "data": {
      "text/html": [
       "<div>\n",
       "<style scoped>\n",
       "    .dataframe tbody tr th:only-of-type {\n",
       "        vertical-align: middle;\n",
       "    }\n",
       "\n",
       "    .dataframe tbody tr th {\n",
       "        vertical-align: top;\n",
       "    }\n",
       "\n",
       "    .dataframe thead th {\n",
       "        text-align: right;\n",
       "    }\n",
       "</style>\n",
       "<table border=\"1\" class=\"dataframe\">\n",
       "  <thead>\n",
       "    <tr style=\"text-align: right;\">\n",
       "      <th></th>\n",
       "      <th>Unnamed: 0</th>\n",
       "      <th>CoinName</th>\n",
       "      <th>Algorithm</th>\n",
       "      <th>IsTrading</th>\n",
       "      <th>ProofType</th>\n",
       "      <th>TotalCoinsMined</th>\n",
       "      <th>TotalCoinSupply</th>\n",
       "    </tr>\n",
       "  </thead>\n",
       "  <tbody>\n",
       "    <tr>\n",
       "      <th>0</th>\n",
       "      <td>42</td>\n",
       "      <td>42 Coin</td>\n",
       "      <td>Scrypt</td>\n",
       "      <td>True</td>\n",
       "      <td>PoW/PoS</td>\n",
       "      <td>4.199995e+01</td>\n",
       "      <td>42</td>\n",
       "    </tr>\n",
       "    <tr>\n",
       "      <th>1</th>\n",
       "      <td>365</td>\n",
       "      <td>365Coin</td>\n",
       "      <td>X11</td>\n",
       "      <td>True</td>\n",
       "      <td>PoW/PoS</td>\n",
       "      <td>NaN</td>\n",
       "      <td>2300000000</td>\n",
       "    </tr>\n",
       "    <tr>\n",
       "      <th>2</th>\n",
       "      <td>404</td>\n",
       "      <td>404Coin</td>\n",
       "      <td>Scrypt</td>\n",
       "      <td>True</td>\n",
       "      <td>PoW/PoS</td>\n",
       "      <td>1.055185e+09</td>\n",
       "      <td>532000000</td>\n",
       "    </tr>\n",
       "    <tr>\n",
       "      <th>3</th>\n",
       "      <td>611</td>\n",
       "      <td>SixEleven</td>\n",
       "      <td>SHA-256</td>\n",
       "      <td>True</td>\n",
       "      <td>PoW</td>\n",
       "      <td>NaN</td>\n",
       "      <td>611000</td>\n",
       "    </tr>\n",
       "    <tr>\n",
       "      <th>4</th>\n",
       "      <td>808</td>\n",
       "      <td>808</td>\n",
       "      <td>SHA-256</td>\n",
       "      <td>True</td>\n",
       "      <td>PoW/PoS</td>\n",
       "      <td>0.000000e+00</td>\n",
       "      <td>0</td>\n",
       "    </tr>\n",
       "  </tbody>\n",
       "</table>\n",
       "</div>"
      ],
      "text/plain": [
       "  Unnamed: 0   CoinName Algorithm  IsTrading ProofType  TotalCoinsMined  \\\n",
       "0         42    42 Coin    Scrypt       True   PoW/PoS     4.199995e+01   \n",
       "1        365    365Coin       X11       True   PoW/PoS              NaN   \n",
       "2        404    404Coin    Scrypt       True   PoW/PoS     1.055185e+09   \n",
       "3        611  SixEleven   SHA-256       True       PoW              NaN   \n",
       "4        808        808   SHA-256       True   PoW/PoS     0.000000e+00   \n",
       "\n",
       "  TotalCoinSupply  \n",
       "0              42  \n",
       "1      2300000000  \n",
       "2       532000000  \n",
       "3          611000  \n",
       "4               0  "
      ]
     },
     "execution_count": 33,
     "metadata": {},
     "output_type": "execute_result"
    }
   ],
   "source": [
    "# Alternatively, use the provided csv file:\n",
    "# file_path = Path(\"Resources/crypto_data.csv\")\n",
    "file_path = Path(\"Resources/crypto_data.csv\")\n",
    "crypto_df = pd.read_csv(file_path)\n",
    "print(crypto_df.shape)\n",
    "crypto_df.head()\n",
    "# Create a DataFrame"
   ]
  },
  {
   "cell_type": "markdown",
   "metadata": {},
   "source": [
    "### Data Preprocessing"
   ]
  },
  {
   "cell_type": "code",
   "execution_count": 34,
   "metadata": {},
   "outputs": [],
   "source": [
    "# Keep only necessary columns:\n",
    "# 'CoinName','Algorithm','IsTrading','ProofType','TotalCoinsMined','TotalCoinSupply'\n",
    "crypto_df.drop(columns=['Unnamed: 0'], inplace=True)"
   ]
  },
  {
   "cell_type": "code",
   "execution_count": 35,
   "metadata": {},
   "outputs": [
    {
     "data": {
      "text/html": [
       "<div>\n",
       "<style scoped>\n",
       "    .dataframe tbody tr th:only-of-type {\n",
       "        vertical-align: middle;\n",
       "    }\n",
       "\n",
       "    .dataframe tbody tr th {\n",
       "        vertical-align: top;\n",
       "    }\n",
       "\n",
       "    .dataframe thead th {\n",
       "        text-align: right;\n",
       "    }\n",
       "</style>\n",
       "<table border=\"1\" class=\"dataframe\">\n",
       "  <thead>\n",
       "    <tr style=\"text-align: right;\">\n",
       "      <th></th>\n",
       "      <th>CoinName</th>\n",
       "      <th>Algorithm</th>\n",
       "      <th>IsTrading</th>\n",
       "      <th>ProofType</th>\n",
       "      <th>TotalCoinsMined</th>\n",
       "      <th>TotalCoinSupply</th>\n",
       "    </tr>\n",
       "  </thead>\n",
       "  <tbody>\n",
       "    <tr>\n",
       "      <th>0</th>\n",
       "      <td>42 Coin</td>\n",
       "      <td>Scrypt</td>\n",
       "      <td>True</td>\n",
       "      <td>PoW/PoS</td>\n",
       "      <td>4.199995e+01</td>\n",
       "      <td>42</td>\n",
       "    </tr>\n",
       "    <tr>\n",
       "      <th>1</th>\n",
       "      <td>365Coin</td>\n",
       "      <td>X11</td>\n",
       "      <td>True</td>\n",
       "      <td>PoW/PoS</td>\n",
       "      <td>NaN</td>\n",
       "      <td>2300000000</td>\n",
       "    </tr>\n",
       "    <tr>\n",
       "      <th>2</th>\n",
       "      <td>404Coin</td>\n",
       "      <td>Scrypt</td>\n",
       "      <td>True</td>\n",
       "      <td>PoW/PoS</td>\n",
       "      <td>1.055185e+09</td>\n",
       "      <td>532000000</td>\n",
       "    </tr>\n",
       "    <tr>\n",
       "      <th>3</th>\n",
       "      <td>SixEleven</td>\n",
       "      <td>SHA-256</td>\n",
       "      <td>True</td>\n",
       "      <td>PoW</td>\n",
       "      <td>NaN</td>\n",
       "      <td>611000</td>\n",
       "    </tr>\n",
       "    <tr>\n",
       "      <th>4</th>\n",
       "      <td>808</td>\n",
       "      <td>SHA-256</td>\n",
       "      <td>True</td>\n",
       "      <td>PoW/PoS</td>\n",
       "      <td>0.000000e+00</td>\n",
       "      <td>0</td>\n",
       "    </tr>\n",
       "  </tbody>\n",
       "</table>\n",
       "</div>"
      ],
      "text/plain": [
       "    CoinName Algorithm  IsTrading ProofType  TotalCoinsMined TotalCoinSupply\n",
       "0    42 Coin    Scrypt       True   PoW/PoS     4.199995e+01              42\n",
       "1    365Coin       X11       True   PoW/PoS              NaN      2300000000\n",
       "2    404Coin    Scrypt       True   PoW/PoS     1.055185e+09       532000000\n",
       "3  SixEleven   SHA-256       True       PoW              NaN          611000\n",
       "4        808   SHA-256       True   PoW/PoS     0.000000e+00               0"
      ]
     },
     "execution_count": 35,
     "metadata": {},
     "output_type": "execute_result"
    }
   ],
   "source": [
    "crypto_df.head()"
   ]
  },
  {
   "cell_type": "code",
   "execution_count": 36,
   "metadata": {},
   "outputs": [],
   "source": [
    "# Keep only cryptocurrencies that are trading\n",
    "non_trading = crypto_df[crypto_df[\"IsTrading\"] == False].index\n",
    "crypto_df.drop(non_trading , inplace=True)"
   ]
  },
  {
   "cell_type": "code",
   "execution_count": 37,
   "metadata": {},
   "outputs": [
    {
     "data": {
      "text/html": [
       "<div>\n",
       "<style scoped>\n",
       "    .dataframe tbody tr th:only-of-type {\n",
       "        vertical-align: middle;\n",
       "    }\n",
       "\n",
       "    .dataframe tbody tr th {\n",
       "        vertical-align: top;\n",
       "    }\n",
       "\n",
       "    .dataframe thead th {\n",
       "        text-align: right;\n",
       "    }\n",
       "</style>\n",
       "<table border=\"1\" class=\"dataframe\">\n",
       "  <thead>\n",
       "    <tr style=\"text-align: right;\">\n",
       "      <th></th>\n",
       "      <th>CoinName</th>\n",
       "      <th>Algorithm</th>\n",
       "      <th>IsTrading</th>\n",
       "      <th>ProofType</th>\n",
       "      <th>TotalCoinsMined</th>\n",
       "      <th>TotalCoinSupply</th>\n",
       "    </tr>\n",
       "  </thead>\n",
       "  <tbody>\n",
       "    <tr>\n",
       "      <th>0</th>\n",
       "      <td>42 Coin</td>\n",
       "      <td>Scrypt</td>\n",
       "      <td>True</td>\n",
       "      <td>PoW/PoS</td>\n",
       "      <td>4.199995e+01</td>\n",
       "      <td>42</td>\n",
       "    </tr>\n",
       "    <tr>\n",
       "      <th>1</th>\n",
       "      <td>365Coin</td>\n",
       "      <td>X11</td>\n",
       "      <td>True</td>\n",
       "      <td>PoW/PoS</td>\n",
       "      <td>NaN</td>\n",
       "      <td>2300000000</td>\n",
       "    </tr>\n",
       "    <tr>\n",
       "      <th>2</th>\n",
       "      <td>404Coin</td>\n",
       "      <td>Scrypt</td>\n",
       "      <td>True</td>\n",
       "      <td>PoW/PoS</td>\n",
       "      <td>1.055185e+09</td>\n",
       "      <td>532000000</td>\n",
       "    </tr>\n",
       "    <tr>\n",
       "      <th>3</th>\n",
       "      <td>SixEleven</td>\n",
       "      <td>SHA-256</td>\n",
       "      <td>True</td>\n",
       "      <td>PoW</td>\n",
       "      <td>NaN</td>\n",
       "      <td>611000</td>\n",
       "    </tr>\n",
       "    <tr>\n",
       "      <th>4</th>\n",
       "      <td>808</td>\n",
       "      <td>SHA-256</td>\n",
       "      <td>True</td>\n",
       "      <td>PoW/PoS</td>\n",
       "      <td>0.000000e+00</td>\n",
       "      <td>0</td>\n",
       "    </tr>\n",
       "  </tbody>\n",
       "</table>\n",
       "</div>"
      ],
      "text/plain": [
       "    CoinName Algorithm  IsTrading ProofType  TotalCoinsMined TotalCoinSupply\n",
       "0    42 Coin    Scrypt       True   PoW/PoS     4.199995e+01              42\n",
       "1    365Coin       X11       True   PoW/PoS              NaN      2300000000\n",
       "2    404Coin    Scrypt       True   PoW/PoS     1.055185e+09       532000000\n",
       "3  SixEleven   SHA-256       True       PoW              NaN          611000\n",
       "4        808   SHA-256       True   PoW/PoS     0.000000e+00               0"
      ]
     },
     "execution_count": 37,
     "metadata": {},
     "output_type": "execute_result"
    }
   ],
   "source": [
    "crypto_df.head()"
   ]
  },
  {
   "cell_type": "code",
   "execution_count": 38,
   "metadata": {},
   "outputs": [],
   "source": [
    "# Keep only cryptocurrencies with a working algorithm\n",
    "crypto_df= crypto_df[crypto_df['Algorithm']!= 'N/A']"
   ]
  },
  {
   "cell_type": "code",
   "execution_count": 40,
   "metadata": {},
   "outputs": [
    {
     "data": {
      "text/html": [
       "<div>\n",
       "<style scoped>\n",
       "    .dataframe tbody tr th:only-of-type {\n",
       "        vertical-align: middle;\n",
       "    }\n",
       "\n",
       "    .dataframe tbody tr th {\n",
       "        vertical-align: top;\n",
       "    }\n",
       "\n",
       "    .dataframe thead th {\n",
       "        text-align: right;\n",
       "    }\n",
       "</style>\n",
       "<table border=\"1\" class=\"dataframe\">\n",
       "  <thead>\n",
       "    <tr style=\"text-align: right;\">\n",
       "      <th></th>\n",
       "      <th>CoinName</th>\n",
       "      <th>Algorithm</th>\n",
       "      <th>IsTrading</th>\n",
       "      <th>ProofType</th>\n",
       "      <th>TotalCoinsMined</th>\n",
       "      <th>TotalCoinSupply</th>\n",
       "    </tr>\n",
       "  </thead>\n",
       "  <tbody>\n",
       "    <tr>\n",
       "      <th>0</th>\n",
       "      <td>42 Coin</td>\n",
       "      <td>Scrypt</td>\n",
       "      <td>True</td>\n",
       "      <td>PoW/PoS</td>\n",
       "      <td>4.199995e+01</td>\n",
       "      <td>42</td>\n",
       "    </tr>\n",
       "    <tr>\n",
       "      <th>1</th>\n",
       "      <td>365Coin</td>\n",
       "      <td>X11</td>\n",
       "      <td>True</td>\n",
       "      <td>PoW/PoS</td>\n",
       "      <td>NaN</td>\n",
       "      <td>2300000000</td>\n",
       "    </tr>\n",
       "    <tr>\n",
       "      <th>2</th>\n",
       "      <td>404Coin</td>\n",
       "      <td>Scrypt</td>\n",
       "      <td>True</td>\n",
       "      <td>PoW/PoS</td>\n",
       "      <td>1.055185e+09</td>\n",
       "      <td>532000000</td>\n",
       "    </tr>\n",
       "    <tr>\n",
       "      <th>3</th>\n",
       "      <td>SixEleven</td>\n",
       "      <td>SHA-256</td>\n",
       "      <td>True</td>\n",
       "      <td>PoW</td>\n",
       "      <td>NaN</td>\n",
       "      <td>611000</td>\n",
       "    </tr>\n",
       "    <tr>\n",
       "      <th>4</th>\n",
       "      <td>808</td>\n",
       "      <td>SHA-256</td>\n",
       "      <td>True</td>\n",
       "      <td>PoW/PoS</td>\n",
       "      <td>0.000000e+00</td>\n",
       "      <td>0</td>\n",
       "    </tr>\n",
       "  </tbody>\n",
       "</table>\n",
       "</div>"
      ],
      "text/plain": [
       "    CoinName Algorithm  IsTrading ProofType  TotalCoinsMined TotalCoinSupply\n",
       "0    42 Coin    Scrypt       True   PoW/PoS     4.199995e+01              42\n",
       "1    365Coin       X11       True   PoW/PoS              NaN      2300000000\n",
       "2    404Coin    Scrypt       True   PoW/PoS     1.055185e+09       532000000\n",
       "3  SixEleven   SHA-256       True       PoW              NaN          611000\n",
       "4        808   SHA-256       True   PoW/PoS     0.000000e+00               0"
      ]
     },
     "execution_count": 40,
     "metadata": {},
     "output_type": "execute_result"
    }
   ],
   "source": [
    "crypto_df.head()"
   ]
  },
  {
   "cell_type": "code",
   "execution_count": 41,
   "metadata": {},
   "outputs": [],
   "source": [
    "# Remove the \"IsTrading\" column\n",
    "crypto_df.drop(columns=['IsTrading'], inplace=True)"
   ]
  },
  {
   "cell_type": "code",
   "execution_count": 42,
   "metadata": {},
   "outputs": [
    {
     "data": {
      "text/html": [
       "<div>\n",
       "<style scoped>\n",
       "    .dataframe tbody tr th:only-of-type {\n",
       "        vertical-align: middle;\n",
       "    }\n",
       "\n",
       "    .dataframe tbody tr th {\n",
       "        vertical-align: top;\n",
       "    }\n",
       "\n",
       "    .dataframe thead th {\n",
       "        text-align: right;\n",
       "    }\n",
       "</style>\n",
       "<table border=\"1\" class=\"dataframe\">\n",
       "  <thead>\n",
       "    <tr style=\"text-align: right;\">\n",
       "      <th></th>\n",
       "      <th>CoinName</th>\n",
       "      <th>Algorithm</th>\n",
       "      <th>ProofType</th>\n",
       "      <th>TotalCoinsMined</th>\n",
       "      <th>TotalCoinSupply</th>\n",
       "    </tr>\n",
       "  </thead>\n",
       "  <tbody>\n",
       "    <tr>\n",
       "      <th>0</th>\n",
       "      <td>42 Coin</td>\n",
       "      <td>Scrypt</td>\n",
       "      <td>PoW/PoS</td>\n",
       "      <td>4.199995e+01</td>\n",
       "      <td>42</td>\n",
       "    </tr>\n",
       "    <tr>\n",
       "      <th>1</th>\n",
       "      <td>365Coin</td>\n",
       "      <td>X11</td>\n",
       "      <td>PoW/PoS</td>\n",
       "      <td>NaN</td>\n",
       "      <td>2300000000</td>\n",
       "    </tr>\n",
       "    <tr>\n",
       "      <th>2</th>\n",
       "      <td>404Coin</td>\n",
       "      <td>Scrypt</td>\n",
       "      <td>PoW/PoS</td>\n",
       "      <td>1.055185e+09</td>\n",
       "      <td>532000000</td>\n",
       "    </tr>\n",
       "    <tr>\n",
       "      <th>3</th>\n",
       "      <td>SixEleven</td>\n",
       "      <td>SHA-256</td>\n",
       "      <td>PoW</td>\n",
       "      <td>NaN</td>\n",
       "      <td>611000</td>\n",
       "    </tr>\n",
       "    <tr>\n",
       "      <th>4</th>\n",
       "      <td>808</td>\n",
       "      <td>SHA-256</td>\n",
       "      <td>PoW/PoS</td>\n",
       "      <td>0.000000e+00</td>\n",
       "      <td>0</td>\n",
       "    </tr>\n",
       "  </tbody>\n",
       "</table>\n",
       "</div>"
      ],
      "text/plain": [
       "    CoinName Algorithm ProofType  TotalCoinsMined TotalCoinSupply\n",
       "0    42 Coin    Scrypt   PoW/PoS     4.199995e+01              42\n",
       "1    365Coin       X11   PoW/PoS              NaN      2300000000\n",
       "2    404Coin    Scrypt   PoW/PoS     1.055185e+09       532000000\n",
       "3  SixEleven   SHA-256       PoW              NaN          611000\n",
       "4        808   SHA-256   PoW/PoS     0.000000e+00               0"
      ]
     },
     "execution_count": 42,
     "metadata": {},
     "output_type": "execute_result"
    }
   ],
   "source": [
    "crypto_df.head()"
   ]
  },
  {
   "cell_type": "code",
   "execution_count": 43,
   "metadata": {},
   "outputs": [],
   "source": [
    "# Remove rows with at least 1 null value\n",
    "crypto_df.dropna(inplace=True)"
   ]
  },
  {
   "cell_type": "code",
   "execution_count": 45,
   "metadata": {},
   "outputs": [],
   "source": [
    "# Remove rows with cryptocurrencies having no coins mined\n",
    "crypto_df = crypto_df[crypto_df['TotalCoinsMined']>0]"
   ]
  },
  {
   "cell_type": "code",
   "execution_count": 47,
   "metadata": {},
   "outputs": [],
   "source": [
    "# Drop rows where there are 'N/A' text values\n",
    "crypto_df = crypto_df[crypto_df!='N/A']"
   ]
  },
  {
   "cell_type": "code",
   "execution_count": 49,
   "metadata": {},
   "outputs": [
    {
     "data": {
      "text/html": [
       "<div>\n",
       "<style scoped>\n",
       "    .dataframe tbody tr th:only-of-type {\n",
       "        vertical-align: middle;\n",
       "    }\n",
       "\n",
       "    .dataframe tbody tr th {\n",
       "        vertical-align: top;\n",
       "    }\n",
       "\n",
       "    .dataframe thead th {\n",
       "        text-align: right;\n",
       "    }\n",
       "</style>\n",
       "<table border=\"1\" class=\"dataframe\">\n",
       "  <thead>\n",
       "    <tr style=\"text-align: right;\">\n",
       "      <th></th>\n",
       "      <th>CoinName</th>\n",
       "    </tr>\n",
       "  </thead>\n",
       "  <tbody>\n",
       "    <tr>\n",
       "      <th>0</th>\n",
       "      <td>42 Coin</td>\n",
       "    </tr>\n",
       "    <tr>\n",
       "      <th>2</th>\n",
       "      <td>404Coin</td>\n",
       "    </tr>\n",
       "    <tr>\n",
       "      <th>5</th>\n",
       "      <td>EliteCoin</td>\n",
       "    </tr>\n",
       "    <tr>\n",
       "      <th>7</th>\n",
       "      <td>Bitcoin</td>\n",
       "    </tr>\n",
       "    <tr>\n",
       "      <th>8</th>\n",
       "      <td>Ethereum</td>\n",
       "    </tr>\n",
       "    <tr>\n",
       "      <th>...</th>\n",
       "      <td>...</td>\n",
       "    </tr>\n",
       "    <tr>\n",
       "      <th>1238</th>\n",
       "      <td>ZEPHYR</td>\n",
       "    </tr>\n",
       "    <tr>\n",
       "      <th>1242</th>\n",
       "      <td>Gapcoin</td>\n",
       "    </tr>\n",
       "    <tr>\n",
       "      <th>1245</th>\n",
       "      <td>Beldex</td>\n",
       "    </tr>\n",
       "    <tr>\n",
       "      <th>1246</th>\n",
       "      <td>Horizen</td>\n",
       "    </tr>\n",
       "    <tr>\n",
       "      <th>1247</th>\n",
       "      <td>BitcoinPlus</td>\n",
       "    </tr>\n",
       "  </tbody>\n",
       "</table>\n",
       "<p>532 rows × 1 columns</p>\n",
       "</div>"
      ],
      "text/plain": [
       "         CoinName\n",
       "0         42 Coin\n",
       "2         404Coin\n",
       "5       EliteCoin\n",
       "7         Bitcoin\n",
       "8        Ethereum\n",
       "...           ...\n",
       "1238       ZEPHYR\n",
       "1242      Gapcoin\n",
       "1245       Beldex\n",
       "1246      Horizen\n",
       "1247  BitcoinPlus\n",
       "\n",
       "[532 rows x 1 columns]"
      ]
     },
     "execution_count": 49,
     "metadata": {},
     "output_type": "execute_result"
    }
   ],
   "source": [
    "# Store the 'CoinName'column in its own DataFrame prior to dropping it from crypto_df\n",
    "coin_name = pd.DataFrame(crypto_df['CoinName'])\n",
    "coin_name"
   ]
  },
  {
   "cell_type": "code",
   "execution_count": 50,
   "metadata": {},
   "outputs": [
    {
     "data": {
      "text/html": [
       "<div>\n",
       "<style scoped>\n",
       "    .dataframe tbody tr th:only-of-type {\n",
       "        vertical-align: middle;\n",
       "    }\n",
       "\n",
       "    .dataframe tbody tr th {\n",
       "        vertical-align: top;\n",
       "    }\n",
       "\n",
       "    .dataframe thead th {\n",
       "        text-align: right;\n",
       "    }\n",
       "</style>\n",
       "<table border=\"1\" class=\"dataframe\">\n",
       "  <thead>\n",
       "    <tr style=\"text-align: right;\">\n",
       "      <th></th>\n",
       "      <th>Algorithm</th>\n",
       "      <th>ProofType</th>\n",
       "      <th>TotalCoinsMined</th>\n",
       "      <th>TotalCoinSupply</th>\n",
       "    </tr>\n",
       "  </thead>\n",
       "  <tbody>\n",
       "    <tr>\n",
       "      <th>0</th>\n",
       "      <td>Scrypt</td>\n",
       "      <td>PoW/PoS</td>\n",
       "      <td>4.199995e+01</td>\n",
       "      <td>42</td>\n",
       "    </tr>\n",
       "    <tr>\n",
       "      <th>2</th>\n",
       "      <td>Scrypt</td>\n",
       "      <td>PoW/PoS</td>\n",
       "      <td>1.055185e+09</td>\n",
       "      <td>532000000</td>\n",
       "    </tr>\n",
       "    <tr>\n",
       "      <th>5</th>\n",
       "      <td>X13</td>\n",
       "      <td>PoW/PoS</td>\n",
       "      <td>2.927942e+10</td>\n",
       "      <td>314159265359</td>\n",
       "    </tr>\n",
       "    <tr>\n",
       "      <th>7</th>\n",
       "      <td>SHA-256</td>\n",
       "      <td>PoW</td>\n",
       "      <td>1.792718e+07</td>\n",
       "      <td>21000000</td>\n",
       "    </tr>\n",
       "    <tr>\n",
       "      <th>8</th>\n",
       "      <td>Ethash</td>\n",
       "      <td>PoW</td>\n",
       "      <td>1.076842e+08</td>\n",
       "      <td>0</td>\n",
       "    </tr>\n",
       "  </tbody>\n",
       "</table>\n",
       "</div>"
      ],
      "text/plain": [
       "  Algorithm ProofType  TotalCoinsMined TotalCoinSupply\n",
       "0    Scrypt   PoW/PoS     4.199995e+01              42\n",
       "2    Scrypt   PoW/PoS     1.055185e+09       532000000\n",
       "5       X13   PoW/PoS     2.927942e+10    314159265359\n",
       "7   SHA-256       PoW     1.792718e+07        21000000\n",
       "8    Ethash       PoW     1.076842e+08               0"
      ]
     },
     "execution_count": 50,
     "metadata": {},
     "output_type": "execute_result"
    }
   ],
   "source": [
    "# Drop the 'CoinName' column since it's not going to be used on the clustering algorithm\n",
    "crypto_df.drop(columns='CoinName', inplace=True)\n",
    "crypto_df.head()"
   ]
  },
  {
   "cell_type": "code",
   "execution_count": 54,
   "metadata": {},
   "outputs": [
    {
     "data": {
      "text/html": [
       "<div>\n",
       "<style scoped>\n",
       "    .dataframe tbody tr th:only-of-type {\n",
       "        vertical-align: middle;\n",
       "    }\n",
       "\n",
       "    .dataframe tbody tr th {\n",
       "        vertical-align: top;\n",
       "    }\n",
       "\n",
       "    .dataframe thead th {\n",
       "        text-align: right;\n",
       "    }\n",
       "</style>\n",
       "<table border=\"1\" class=\"dataframe\">\n",
       "  <thead>\n",
       "    <tr style=\"text-align: right;\">\n",
       "      <th></th>\n",
       "      <th>TotalCoinsMined</th>\n",
       "      <th>TotalCoinSupply</th>\n",
       "      <th>Algorithm_1GB AES Pattern Search</th>\n",
       "      <th>Algorithm_536</th>\n",
       "      <th>Algorithm_Argon2d</th>\n",
       "      <th>Algorithm_BLAKE256</th>\n",
       "      <th>Algorithm_Blake</th>\n",
       "      <th>Algorithm_Blake2S</th>\n",
       "      <th>Algorithm_Blake2b</th>\n",
       "      <th>Algorithm_C11</th>\n",
       "      <th>...</th>\n",
       "      <th>ProofType_PoW/PoS</th>\n",
       "      <th>ProofType_PoW/PoS</th>\n",
       "      <th>ProofType_PoW/PoW</th>\n",
       "      <th>ProofType_PoW/nPoS</th>\n",
       "      <th>ProofType_Pos</th>\n",
       "      <th>ProofType_Proof of Authority</th>\n",
       "      <th>ProofType_Proof of Trust</th>\n",
       "      <th>ProofType_TPoS</th>\n",
       "      <th>ProofType_Zero-Knowledge Proof</th>\n",
       "      <th>ProofType_dPoW/PoW</th>\n",
       "    </tr>\n",
       "  </thead>\n",
       "  <tbody>\n",
       "    <tr>\n",
       "      <th>0</th>\n",
       "      <td>4.199995e+01</td>\n",
       "      <td>42</td>\n",
       "      <td>0</td>\n",
       "      <td>0</td>\n",
       "      <td>0</td>\n",
       "      <td>0</td>\n",
       "      <td>0</td>\n",
       "      <td>0</td>\n",
       "      <td>0</td>\n",
       "      <td>0</td>\n",
       "      <td>...</td>\n",
       "      <td>1</td>\n",
       "      <td>0</td>\n",
       "      <td>0</td>\n",
       "      <td>0</td>\n",
       "      <td>0</td>\n",
       "      <td>0</td>\n",
       "      <td>0</td>\n",
       "      <td>0</td>\n",
       "      <td>0</td>\n",
       "      <td>0</td>\n",
       "    </tr>\n",
       "    <tr>\n",
       "      <th>2</th>\n",
       "      <td>1.055185e+09</td>\n",
       "      <td>532000000</td>\n",
       "      <td>0</td>\n",
       "      <td>0</td>\n",
       "      <td>0</td>\n",
       "      <td>0</td>\n",
       "      <td>0</td>\n",
       "      <td>0</td>\n",
       "      <td>0</td>\n",
       "      <td>0</td>\n",
       "      <td>...</td>\n",
       "      <td>1</td>\n",
       "      <td>0</td>\n",
       "      <td>0</td>\n",
       "      <td>0</td>\n",
       "      <td>0</td>\n",
       "      <td>0</td>\n",
       "      <td>0</td>\n",
       "      <td>0</td>\n",
       "      <td>0</td>\n",
       "      <td>0</td>\n",
       "    </tr>\n",
       "    <tr>\n",
       "      <th>5</th>\n",
       "      <td>2.927942e+10</td>\n",
       "      <td>314159265359</td>\n",
       "      <td>0</td>\n",
       "      <td>0</td>\n",
       "      <td>0</td>\n",
       "      <td>0</td>\n",
       "      <td>0</td>\n",
       "      <td>0</td>\n",
       "      <td>0</td>\n",
       "      <td>0</td>\n",
       "      <td>...</td>\n",
       "      <td>1</td>\n",
       "      <td>0</td>\n",
       "      <td>0</td>\n",
       "      <td>0</td>\n",
       "      <td>0</td>\n",
       "      <td>0</td>\n",
       "      <td>0</td>\n",
       "      <td>0</td>\n",
       "      <td>0</td>\n",
       "      <td>0</td>\n",
       "    </tr>\n",
       "    <tr>\n",
       "      <th>7</th>\n",
       "      <td>1.792718e+07</td>\n",
       "      <td>21000000</td>\n",
       "      <td>0</td>\n",
       "      <td>0</td>\n",
       "      <td>0</td>\n",
       "      <td>0</td>\n",
       "      <td>0</td>\n",
       "      <td>0</td>\n",
       "      <td>0</td>\n",
       "      <td>0</td>\n",
       "      <td>...</td>\n",
       "      <td>0</td>\n",
       "      <td>0</td>\n",
       "      <td>0</td>\n",
       "      <td>0</td>\n",
       "      <td>0</td>\n",
       "      <td>0</td>\n",
       "      <td>0</td>\n",
       "      <td>0</td>\n",
       "      <td>0</td>\n",
       "      <td>0</td>\n",
       "    </tr>\n",
       "    <tr>\n",
       "      <th>8</th>\n",
       "      <td>1.076842e+08</td>\n",
       "      <td>0</td>\n",
       "      <td>0</td>\n",
       "      <td>0</td>\n",
       "      <td>0</td>\n",
       "      <td>0</td>\n",
       "      <td>0</td>\n",
       "      <td>0</td>\n",
       "      <td>0</td>\n",
       "      <td>0</td>\n",
       "      <td>...</td>\n",
       "      <td>0</td>\n",
       "      <td>0</td>\n",
       "      <td>0</td>\n",
       "      <td>0</td>\n",
       "      <td>0</td>\n",
       "      <td>0</td>\n",
       "      <td>0</td>\n",
       "      <td>0</td>\n",
       "      <td>0</td>\n",
       "      <td>0</td>\n",
       "    </tr>\n",
       "  </tbody>\n",
       "</table>\n",
       "<p>5 rows × 98 columns</p>\n",
       "</div>"
      ],
      "text/plain": [
       "   TotalCoinsMined TotalCoinSupply  Algorithm_1GB AES Pattern Search  \\\n",
       "0     4.199995e+01              42                                 0   \n",
       "2     1.055185e+09       532000000                                 0   \n",
       "5     2.927942e+10    314159265359                                 0   \n",
       "7     1.792718e+07        21000000                                 0   \n",
       "8     1.076842e+08               0                                 0   \n",
       "\n",
       "   Algorithm_536  Algorithm_Argon2d  Algorithm_BLAKE256  Algorithm_Blake  \\\n",
       "0              0                  0                   0                0   \n",
       "2              0                  0                   0                0   \n",
       "5              0                  0                   0                0   \n",
       "7              0                  0                   0                0   \n",
       "8              0                  0                   0                0   \n",
       "\n",
       "   Algorithm_Blake2S  Algorithm_Blake2b  Algorithm_C11  ...  \\\n",
       "0                  0                  0              0  ...   \n",
       "2                  0                  0              0  ...   \n",
       "5                  0                  0              0  ...   \n",
       "7                  0                  0              0  ...   \n",
       "8                  0                  0              0  ...   \n",
       "\n",
       "   ProofType_PoW/PoS  ProofType_PoW/PoS   ProofType_PoW/PoW  \\\n",
       "0                  1                   0                  0   \n",
       "2                  1                   0                  0   \n",
       "5                  1                   0                  0   \n",
       "7                  0                   0                  0   \n",
       "8                  0                   0                  0   \n",
       "\n",
       "   ProofType_PoW/nPoS  ProofType_Pos  ProofType_Proof of Authority  \\\n",
       "0                   0              0                             0   \n",
       "2                   0              0                             0   \n",
       "5                   0              0                             0   \n",
       "7                   0              0                             0   \n",
       "8                   0              0                             0   \n",
       "\n",
       "   ProofType_Proof of Trust  ProofType_TPoS  ProofType_Zero-Knowledge Proof  \\\n",
       "0                         0               0                               0   \n",
       "2                         0               0                               0   \n",
       "5                         0               0                               0   \n",
       "7                         0               0                               0   \n",
       "8                         0               0                               0   \n",
       "\n",
       "   ProofType_dPoW/PoW  \n",
       "0                   0  \n",
       "2                   0  \n",
       "5                   0  \n",
       "7                   0  \n",
       "8                   0  \n",
       "\n",
       "[5 rows x 98 columns]"
      ]
     },
     "execution_count": 54,
     "metadata": {},
     "output_type": "execute_result"
    }
   ],
   "source": [
    "# Create dummy variables for text features\n",
    "crypto_dummy = pd.get_dummies(crypto_df, columns = ['Algorithm', 'ProofType'])\n",
    "crypto_dummy.head()"
   ]
  },
  {
   "cell_type": "code",
   "execution_count": 56,
   "metadata": {},
   "outputs": [
    {
     "data": {
      "text/plain": [
       "array([[-0.11710817, -0.1528703 , -0.0433963 , ..., -0.0433963 ,\n",
       "        -0.0433963 , -0.0433963 ],\n",
       "       [-0.09396955, -0.145009  , -0.0433963 , ..., -0.0433963 ,\n",
       "        -0.0433963 , -0.0433963 ],\n",
       "       [ 0.52494561,  4.48942416, -0.0433963 , ..., -0.0433963 ,\n",
       "        -0.0433963 , -0.0433963 ],\n",
       "       ...,\n",
       "       [-0.09561336, -0.13217937, -0.0433963 , ..., -0.0433963 ,\n",
       "        -0.0433963 , -0.0433963 ],\n",
       "       [-0.11694817, -0.15255998, -0.0433963 , ..., -0.0433963 ,\n",
       "        -0.0433963 , -0.0433963 ],\n",
       "       [-0.11710536, -0.15285552, -0.0433963 , ..., -0.0433963 ,\n",
       "        -0.0433963 , -0.0433963 ]])"
      ]
     },
     "execution_count": 56,
     "metadata": {},
     "output_type": "execute_result"
    }
   ],
   "source": [
    "# Standardize data\n",
    "crypto_scaled = StandardScaler().fit_transform(crypto_dummy)\n",
    "crypto_scaled"
   ]
  },
  {
   "cell_type": "markdown",
   "metadata": {},
   "source": [
    "### Reducing Dimensions Using PCA"
   ]
  },
  {
   "cell_type": "code",
   "execution_count": 57,
   "metadata": {},
   "outputs": [],
   "source": [
    "# Use PCA to reduce dimensions to 3 principal components\n",
    "pca = PCA(n_components=3)\n",
    "crypto_pca = pca.fit_transform(crypto_scaled)"
   ]
  },
  {
   "cell_type": "code",
   "execution_count": 58,
   "metadata": {},
   "outputs": [
    {
     "data": {
      "text/html": [
       "<div>\n",
       "<style scoped>\n",
       "    .dataframe tbody tr th:only-of-type {\n",
       "        vertical-align: middle;\n",
       "    }\n",
       "\n",
       "    .dataframe tbody tr th {\n",
       "        vertical-align: top;\n",
       "    }\n",
       "\n",
       "    .dataframe thead th {\n",
       "        text-align: right;\n",
       "    }\n",
       "</style>\n",
       "<table border=\"1\" class=\"dataframe\">\n",
       "  <thead>\n",
       "    <tr style=\"text-align: right;\">\n",
       "      <th></th>\n",
       "      <th>PC1</th>\n",
       "      <th>PC2</th>\n",
       "      <th>PC3</th>\n",
       "    </tr>\n",
       "  </thead>\n",
       "  <tbody>\n",
       "    <tr>\n",
       "      <th>0</th>\n",
       "      <td>-0.336437</td>\n",
       "      <td>1.024457</td>\n",
       "      <td>-0.580746</td>\n",
       "    </tr>\n",
       "    <tr>\n",
       "      <th>1</th>\n",
       "      <td>-0.319781</td>\n",
       "      <td>1.024816</td>\n",
       "      <td>-0.581225</td>\n",
       "    </tr>\n",
       "    <tr>\n",
       "      <th>2</th>\n",
       "      <td>2.307323</td>\n",
       "      <td>1.659182</td>\n",
       "      <td>-0.675693</td>\n",
       "    </tr>\n",
       "    <tr>\n",
       "      <th>3</th>\n",
       "      <td>-0.144831</td>\n",
       "      <td>-1.312376</td>\n",
       "      <td>0.182686</td>\n",
       "    </tr>\n",
       "    <tr>\n",
       "      <th>4</th>\n",
       "      <td>-0.157591</td>\n",
       "      <td>-2.005180</td>\n",
       "      <td>0.340887</td>\n",
       "    </tr>\n",
       "  </tbody>\n",
       "</table>\n",
       "</div>"
      ],
      "text/plain": [
       "        PC1       PC2       PC3\n",
       "0 -0.336437  1.024457 -0.580746\n",
       "1 -0.319781  1.024816 -0.581225\n",
       "2  2.307323  1.659182 -0.675693\n",
       "3 -0.144831 -1.312376  0.182686\n",
       "4 -0.157591 -2.005180  0.340887"
      ]
     },
     "execution_count": 58,
     "metadata": {},
     "output_type": "execute_result"
    }
   ],
   "source": [
    "# Create a DataFrame with the principal components data\n",
    "crypto_pca_df = pd.DataFrame(data = crypto_pca, columns=['PC1', 'PC2', 'PC3'])\n",
    "crypto_pca_df.head()"
   ]
  },
  {
   "cell_type": "markdown",
   "metadata": {},
   "source": [
    "### Clustering Crytocurrencies Using K-Means\n",
    "\n",
    "#### Find the Best Value for `k` Using the Elbow Curve"
   ]
  },
  {
   "cell_type": "code",
   "execution_count": 59,
   "metadata": {},
   "outputs": [
    {
     "name": "stderr",
     "output_type": "stream",
     "text": [
      "C:\\Users\\16155\\anaconda3\\lib\\site-packages\\sklearn\\cluster\\_kmeans.py:881: UserWarning: KMeans is known to have a memory leak on Windows with MKL, when there are less chunks than available threads. You can avoid it by setting the environment variable OMP_NUM_THREADS=3.\n",
      "  warnings.warn(\n"
     ]
    },
    {
     "data": {},
     "metadata": {},
     "output_type": "display_data"
    },
    {
     "data": {
      "application/vnd.holoviews_exec.v0+json": "",
      "text/html": [
       "<div id='1002'>\n",
       "\n",
       "\n",
       "\n",
       "\n",
       "\n",
       "  <div class=\"bk-root\" id=\"37c99388-78fc-4f04-93d9-36910ac2ffbf\" data-root-id=\"1002\"></div>\n",
       "</div>\n",
       "<script type=\"application/javascript\">(function(root) {\n",
       "  function embed_document(root) {\n",
       "    var docs_json = {\"10a74775-4846-4a41-91fb-712a9d5b2030\":{\"defs\":[{\"extends\":null,\"module\":null,\"name\":\"ReactiveHTML1\",\"overrides\":[],\"properties\":[]},{\"extends\":null,\"module\":null,\"name\":\"FlexBox1\",\"overrides\":[],\"properties\":[{\"default\":\"flex-start\",\"kind\":null,\"name\":\"align_content\"},{\"default\":\"flex-start\",\"kind\":null,\"name\":\"align_items\"},{\"default\":\"row\",\"kind\":null,\"name\":\"flex_direction\"},{\"default\":\"wrap\",\"kind\":null,\"name\":\"flex_wrap\"},{\"default\":\"flex-start\",\"kind\":null,\"name\":\"justify_content\"}]},{\"extends\":null,\"module\":null,\"name\":\"TemplateActions1\",\"overrides\":[],\"properties\":[{\"default\":0,\"kind\":null,\"name\":\"open_modal\"},{\"default\":0,\"kind\":null,\"name\":\"close_modal\"}]},{\"extends\":null,\"module\":null,\"name\":\"MaterialTemplateActions1\",\"overrides\":[],\"properties\":[{\"default\":0,\"kind\":null,\"name\":\"open_modal\"},{\"default\":0,\"kind\":null,\"name\":\"close_modal\"}]}],\"roots\":{\"references\":[{\"attributes\":{\"tools\":[{\"id\":\"1006\"},{\"id\":\"1024\"},{\"id\":\"1025\"},{\"id\":\"1026\"},{\"id\":\"1027\"},{\"id\":\"1028\"}]},\"id\":\"1030\",\"type\":\"Toolbar\"},{\"attributes\":{\"line_color\":\"#30a2da\",\"line_width\":2,\"x\":{\"field\":\"k\"},\"y\":{\"field\":\"inertia\"}},\"id\":\"1040\",\"type\":\"Line\"},{\"attributes\":{},\"id\":\"1025\",\"type\":\"PanTool\"},{\"attributes\":{\"axis_label\":\"inertia\",\"coordinates\":null,\"formatter\":{\"id\":\"1053\"},\"group\":null,\"major_label_policy\":{\"id\":\"1054\"},\"ticker\":{\"id\":\"1021\"}},\"id\":\"1020\",\"type\":\"LinearAxis\"},{\"attributes\":{\"source\":{\"id\":\"1037\"}},\"id\":\"1044\",\"type\":\"CDSView\"},{\"attributes\":{\"axis\":{\"id\":\"1020\"},\"coordinates\":null,\"dimension\":1,\"grid_line_color\":null,\"group\":null,\"ticker\":null},\"id\":\"1023\",\"type\":\"Grid\"},{\"attributes\":{},\"id\":\"1021\",\"type\":\"BasicTicker\"},{\"attributes\":{},\"id\":\"1026\",\"type\":\"WheelZoomTool\"},{\"attributes\":{},\"id\":\"1048\",\"type\":\"BasicTickFormatter\"},{\"attributes\":{},\"id\":\"1024\",\"type\":\"SaveTool\"},{\"attributes\":{},\"id\":\"1053\",\"type\":\"BasicTickFormatter\"},{\"attributes\":{\"line_color\":\"#30a2da\",\"line_width\":2,\"x\":{\"field\":\"k\"},\"y\":{\"field\":\"inertia\"}},\"id\":\"1045\",\"type\":\"Line\"},{\"attributes\":{\"overlay\":{\"id\":\"1029\"}},\"id\":\"1027\",\"type\":\"BoxZoomTool\"},{\"attributes\":{},\"id\":\"1028\",\"type\":\"ResetTool\"},{\"attributes\":{\"bottom_units\":\"screen\",\"coordinates\":null,\"fill_alpha\":0.5,\"fill_color\":\"lightgrey\",\"group\":null,\"left_units\":\"screen\",\"level\":\"overlay\",\"line_alpha\":1.0,\"line_color\":\"black\",\"line_dash\":[4,4],\"line_width\":2,\"right_units\":\"screen\",\"syncable\":false,\"top_units\":\"screen\"},\"id\":\"1029\",\"type\":\"BoxAnnotation\"},{\"attributes\":{\"margin\":[5,5,5,5],\"name\":\"HSpacer01632\",\"sizing_mode\":\"stretch_width\"},\"id\":\"1073\",\"type\":\"Spacer\"},{\"attributes\":{\"line_alpha\":0.2,\"line_color\":\"#30a2da\",\"line_width\":2,\"x\":{\"field\":\"k\"},\"y\":{\"field\":\"inertia\"}},\"id\":\"1042\",\"type\":\"Line\"},{\"attributes\":{\"data\":{\"inertia\":{\"__ndarray__\":\"OXkNUTdwrEBN3/qTR1OjQESDvCD6G5dAKRkkg4G+fkCqSCyDn0FyQK3WJ7Z6c2xAH6qldr48Z0B7FJuO1aViQFboBeiQ6V1Axa2MEj3oV0A=\",\"dtype\":\"float64\",\"order\":\"little\",\"shape\":[10]},\"k\":[1,2,3,4,5,6,7,8,9,10]},\"selected\":{\"id\":\"1038\"},\"selection_policy\":{\"id\":\"1061\"}},\"id\":\"1037\",\"type\":\"ColumnDataSource\"},{\"attributes\":{},\"id\":\"1049\",\"type\":\"AllLabels\"},{\"attributes\":{\"coordinates\":null,\"data_source\":{\"id\":\"1037\"},\"glyph\":{\"id\":\"1040\"},\"group\":null,\"hover_glyph\":null,\"muted_glyph\":{\"id\":\"1042\"},\"nonselection_glyph\":{\"id\":\"1041\"},\"selection_glyph\":{\"id\":\"1045\"},\"view\":{\"id\":\"1044\"}},\"id\":\"1043\",\"type\":\"GlyphRenderer\"},{\"attributes\":{\"ticks\":[1,2,3,4,5,6,7,8,9,10]},\"id\":\"1046\",\"type\":\"FixedTicker\"},{\"attributes\":{\"end\":3994.555971526541,\"reset_end\":3994.555971526541,\"reset_start\":-258.81920370195866,\"start\":-258.81920370195866,\"tags\":[[[\"inertia\",\"inertia\",null]]]},\"id\":\"1005\",\"type\":\"Range1d\"},{\"attributes\":{\"line_alpha\":0.1,\"line_color\":\"#30a2da\",\"line_width\":2,\"x\":{\"field\":\"k\"},\"y\":{\"field\":\"inertia\"}},\"id\":\"1041\",\"type\":\"Line\"},{\"attributes\":{\"margin\":[5,5,5,5],\"name\":\"HSpacer01631\",\"sizing_mode\":\"stretch_width\"},\"id\":\"1003\",\"type\":\"Spacer\"},{\"attributes\":{\"callback\":null,\"renderers\":[{\"id\":\"1043\"}],\"tags\":[\"hv_created\"],\"tooltips\":[[\"k\",\"@{k}\"],[\"inertia\",\"@{inertia}\"]]},\"id\":\"1006\",\"type\":\"HoverTool\"},{\"attributes\":{},\"id\":\"1012\",\"type\":\"LinearScale\"},{\"attributes\":{\"children\":[{\"id\":\"1003\"},{\"id\":\"1007\"},{\"id\":\"1073\"}],\"margin\":[0,0,0,0],\"name\":\"Row01627\",\"tags\":[\"embedded\"]},\"id\":\"1002\",\"type\":\"Row\"},{\"attributes\":{\"coordinates\":null,\"group\":null,\"text\":\"Elbow Curve\",\"text_color\":\"black\",\"text_font_size\":\"12pt\"},\"id\":\"1008\",\"type\":\"Title\"},{\"attributes\":{},\"id\":\"1061\",\"type\":\"UnionRenderers\"},{\"attributes\":{},\"id\":\"1014\",\"type\":\"LinearScale\"},{\"attributes\":{},\"id\":\"1054\",\"type\":\"AllLabels\"},{\"attributes\":{\"end\":10.0,\"reset_end\":10.0,\"reset_start\":1.0,\"start\":1.0,\"tags\":[[[\"k\",\"k\",null]]]},\"id\":\"1004\",\"type\":\"Range1d\"},{\"attributes\":{\"axis_label\":\"k\",\"coordinates\":null,\"formatter\":{\"id\":\"1048\"},\"group\":null,\"major_label_policy\":{\"id\":\"1049\"},\"ticker\":{\"id\":\"1046\"}},\"id\":\"1016\",\"type\":\"LinearAxis\"},{\"attributes\":{},\"id\":\"1038\",\"type\":\"Selection\"},{\"attributes\":{\"below\":[{\"id\":\"1016\"}],\"center\":[{\"id\":\"1019\"},{\"id\":\"1023\"}],\"height\":300,\"left\":[{\"id\":\"1020\"}],\"margin\":[5,5,5,5],\"min_border_bottom\":10,\"min_border_left\":10,\"min_border_right\":10,\"min_border_top\":10,\"renderers\":[{\"id\":\"1043\"}],\"sizing_mode\":\"fixed\",\"title\":{\"id\":\"1008\"},\"toolbar\":{\"id\":\"1030\"},\"width\":700,\"x_range\":{\"id\":\"1004\"},\"x_scale\":{\"id\":\"1012\"},\"y_range\":{\"id\":\"1005\"},\"y_scale\":{\"id\":\"1014\"}},\"id\":\"1007\",\"subtype\":\"Figure\",\"type\":\"Plot\"},{\"attributes\":{\"axis\":{\"id\":\"1016\"},\"coordinates\":null,\"grid_line_color\":null,\"group\":null,\"ticker\":null},\"id\":\"1019\",\"type\":\"Grid\"}],\"root_ids\":[\"1002\"]},\"title\":\"Bokeh Application\",\"version\":\"2.4.0\"}};\n",
       "    var render_items = [{\"docid\":\"10a74775-4846-4a41-91fb-712a9d5b2030\",\"root_ids\":[\"1002\"],\"roots\":{\"1002\":\"37c99388-78fc-4f04-93d9-36910ac2ffbf\"}}];\n",
       "    root.Bokeh.embed.embed_items_notebook(docs_json, render_items);\n",
       "  }\n",
       "  if (root.Bokeh !== undefined && root.Bokeh.Panel !== undefined) {\n",
       "    embed_document(root);\n",
       "  } else {\n",
       "    var attempts = 0;\n",
       "    var timer = setInterval(function(root) {\n",
       "      if (root.Bokeh !== undefined && root.Bokeh.Panel !== undefined) {\n",
       "        clearInterval(timer);\n",
       "        embed_document(root);\n",
       "      } else if (document.readyState == \"complete\") {\n",
       "        attempts++;\n",
       "        if (attempts > 200) {\n",
       "          clearInterval(timer);\n",
       "          console.log(\"Bokeh: ERROR: Unable to run BokehJS code because BokehJS library is missing\");\n",
       "        }\n",
       "      }\n",
       "    }, 25, root)\n",
       "  }\n",
       "})(window);</script>"
      ],
      "text/plain": [
       ":Curve   [k]   (inertia)"
      ]
     },
     "execution_count": 59,
     "metadata": {
      "application/vnd.holoviews_exec.v0+json": {
       "id": "1002"
      }
     },
     "output_type": "execute_result"
    }
   ],
   "source": [
    "inertia = []\n",
    "k = list(range(1, 11))\n",
    "\n",
    "# Calculate the inertia for the range of k values\n",
    "for i in k:\n",
    "    km = KMeans(n_clusters=i, random_state=0)\n",
    "    km.fit(crypto_pca_df)\n",
    "    inertia.append(km.inertia_) \n",
    "\n",
    "# Create the Elbow Curve using hvPlot\n",
    "elbow_data = {\"k\": k, \"inertia\": inertia}\n",
    "df_elbow = pd.DataFrame(elbow_data)\n",
    "df_elbow.hvplot.line(x=\"k\", y=\"inertia\", xticks=k, title=\"Elbow Curve\")"
   ]
  },
  {
   "cell_type": "markdown",
   "metadata": {},
   "source": [
    "Running K-Means with `k=<your best value for k here>`"
   ]
  },
  {
   "cell_type": "code",
   "execution_count": 66,
   "metadata": {},
   "outputs": [],
   "source": [
    "# Initialize the K-Means model\n",
    "km = KMeans(n_clusters=4, random_state=0)\n",
    "# Fit the model\n",
    "km.fit(crypto_pca_df)\n",
    "# Predict clusters\n",
    "prediction = km.predict(crypto_pca_df)\n",
    "# Create a new DataFrame including predicted clusters and cryptocurrencies features\n",
    "crypto_pca_df['Class'] = km.labels_\n",
    "crypto_pca_df.index = crypto_df.index"
   ]
  },
  {
   "cell_type": "code",
   "execution_count": 67,
   "metadata": {},
   "outputs": [
    {
     "data": {
      "text/html": [
       "<div>\n",
       "<style scoped>\n",
       "    .dataframe tbody tr th:only-of-type {\n",
       "        vertical-align: middle;\n",
       "    }\n",
       "\n",
       "    .dataframe tbody tr th {\n",
       "        vertical-align: top;\n",
       "    }\n",
       "\n",
       "    .dataframe thead th {\n",
       "        text-align: right;\n",
       "    }\n",
       "</style>\n",
       "<table border=\"1\" class=\"dataframe\">\n",
       "  <thead>\n",
       "    <tr style=\"text-align: right;\">\n",
       "      <th></th>\n",
       "      <th>Algorithm</th>\n",
       "      <th>ProofType</th>\n",
       "      <th>TotalCoinsMined</th>\n",
       "      <th>TotalCoinSupply</th>\n",
       "      <th>PC1</th>\n",
       "      <th>PC2</th>\n",
       "      <th>PC3</th>\n",
       "      <th>class</th>\n",
       "      <th>Class</th>\n",
       "      <th>CoinName</th>\n",
       "    </tr>\n",
       "  </thead>\n",
       "  <tbody>\n",
       "    <tr>\n",
       "      <th>0</th>\n",
       "      <td>Scrypt</td>\n",
       "      <td>PoW/PoS</td>\n",
       "      <td>4.199995e+01</td>\n",
       "      <td>42</td>\n",
       "      <td>-0.336437</td>\n",
       "      <td>1.024457</td>\n",
       "      <td>-0.580746</td>\n",
       "      <td>0</td>\n",
       "      <td>0</td>\n",
       "      <td>42 Coin</td>\n",
       "    </tr>\n",
       "    <tr>\n",
       "      <th>2</th>\n",
       "      <td>Scrypt</td>\n",
       "      <td>PoW/PoS</td>\n",
       "      <td>1.055185e+09</td>\n",
       "      <td>532000000</td>\n",
       "      <td>-0.319781</td>\n",
       "      <td>1.024816</td>\n",
       "      <td>-0.581225</td>\n",
       "      <td>0</td>\n",
       "      <td>0</td>\n",
       "      <td>404Coin</td>\n",
       "    </tr>\n",
       "    <tr>\n",
       "      <th>5</th>\n",
       "      <td>X13</td>\n",
       "      <td>PoW/PoS</td>\n",
       "      <td>2.927942e+10</td>\n",
       "      <td>314159265359</td>\n",
       "      <td>2.307323</td>\n",
       "      <td>1.659182</td>\n",
       "      <td>-0.675693</td>\n",
       "      <td>0</td>\n",
       "      <td>0</td>\n",
       "      <td>EliteCoin</td>\n",
       "    </tr>\n",
       "    <tr>\n",
       "      <th>7</th>\n",
       "      <td>SHA-256</td>\n",
       "      <td>PoW</td>\n",
       "      <td>1.792718e+07</td>\n",
       "      <td>21000000</td>\n",
       "      <td>-0.144831</td>\n",
       "      <td>-1.312376</td>\n",
       "      <td>0.182686</td>\n",
       "      <td>3</td>\n",
       "      <td>1</td>\n",
       "      <td>Bitcoin</td>\n",
       "    </tr>\n",
       "    <tr>\n",
       "      <th>8</th>\n",
       "      <td>Ethash</td>\n",
       "      <td>PoW</td>\n",
       "      <td>1.076842e+08</td>\n",
       "      <td>0</td>\n",
       "      <td>-0.157591</td>\n",
       "      <td>-2.005180</td>\n",
       "      <td>0.340887</td>\n",
       "      <td>3</td>\n",
       "      <td>1</td>\n",
       "      <td>Ethereum</td>\n",
       "    </tr>\n",
       "  </tbody>\n",
       "</table>\n",
       "</div>"
      ],
      "text/plain": [
       "  Algorithm ProofType  TotalCoinsMined TotalCoinSupply       PC1       PC2  \\\n",
       "0    Scrypt   PoW/PoS     4.199995e+01              42 -0.336437  1.024457   \n",
       "2    Scrypt   PoW/PoS     1.055185e+09       532000000 -0.319781  1.024816   \n",
       "5       X13   PoW/PoS     2.927942e+10    314159265359  2.307323  1.659182   \n",
       "7   SHA-256       PoW     1.792718e+07        21000000 -0.144831 -1.312376   \n",
       "8    Ethash       PoW     1.076842e+08               0 -0.157591 -2.005180   \n",
       "\n",
       "        PC3  class  Class   CoinName  \n",
       "0 -0.580746      0      0    42 Coin  \n",
       "2 -0.581225      0      0    404Coin  \n",
       "5 -0.675693      0      0  EliteCoin  \n",
       "7  0.182686      3      1    Bitcoin  \n",
       "8  0.340887      3      1   Ethereum  "
      ]
     },
     "execution_count": 67,
     "metadata": {},
     "output_type": "execute_result"
    }
   ],
   "source": [
    "clustered_crypto_df = pd.concat([crypto_df, crypto_pca_df, coin_name], axis=1)\n",
    "clustered_crypto_df.head()"
   ]
  },
  {
   "cell_type": "markdown",
   "metadata": {},
   "source": [
    "### Visualizing Results\n",
    "\n",
    "#### 3D-Scatter with Clusters"
   ]
  },
  {
   "cell_type": "code",
   "execution_count": 68,
   "metadata": {},
   "outputs": [
    {
     "data": {
      "application/vnd.plotly.v1+json": {
       "config": {
        "plotlyServerURL": "https://plot.ly"
       },
       "data": [
        {
         "customdata": [
          [
           "Scrypt"
          ],
          [
           "Scrypt"
          ],
          [
           "X13"
          ],
          [
           "SHA-256"
          ],
          [
           "Ethash"
          ],
          [
           "Scrypt"
          ],
          [
           "X11"
          ],
          [
           "CryptoNight-V7"
          ],
          [
           "Ethash"
          ],
          [
           "Equihash"
          ],
          [
           "SHA-512"
          ],
          [
           "Multiple"
          ],
          [
           "SHA-256"
          ],
          [
           "SHA-256"
          ],
          [
           "Scrypt"
          ],
          [
           "X15"
          ],
          [
           "X11"
          ],
          [
           "Scrypt"
          ],
          [
           "Scrypt"
          ],
          [
           "Scrypt"
          ],
          [
           "Multiple"
          ],
          [
           "Scrypt"
          ],
          [
           "SHA-256"
          ],
          [
           "Scrypt"
          ],
          [
           "Scrypt"
          ],
          [
           "Scrypt"
          ],
          [
           "Quark"
          ],
          [
           "Groestl"
          ],
          [
           "Scrypt"
          ],
          [
           "Scrypt"
          ],
          [
           "Scrypt"
          ],
          [
           "Scrypt"
          ],
          [
           "Scrypt"
          ],
          [
           "X11"
          ],
          [
           "Scrypt"
          ],
          [
           "Groestl"
          ],
          [
           "Multiple"
          ],
          [
           "SHA-256"
          ],
          [
           "Scrypt"
          ],
          [
           "Scrypt"
          ],
          [
           "Scrypt"
          ],
          [
           "Scrypt"
          ],
          [
           "PoS"
          ],
          [
           "Scrypt"
          ],
          [
           "Scrypt"
          ],
          [
           "NeoScrypt"
          ],
          [
           "Scrypt"
          ],
          [
           "Scrypt"
          ],
          [
           "Scrypt"
          ],
          [
           "Scrypt"
          ],
          [
           "X11"
          ],
          [
           "Scrypt"
          ],
          [
           "X11"
          ],
          [
           "SHA-256"
          ],
          [
           "Scrypt"
          ],
          [
           "Scrypt"
          ],
          [
           "Scrypt"
          ],
          [
           "SHA3"
          ],
          [
           "Scrypt"
          ],
          [
           "HybridScryptHash256"
          ],
          [
           "Scrypt"
          ],
          [
           "Scrypt"
          ],
          [
           "SHA-256"
          ],
          [
           "Scrypt"
          ],
          [
           "X13"
          ],
          [
           "Scrypt"
          ],
          [
           "SHA-256"
          ],
          [
           "Scrypt"
          ],
          [
           "X13"
          ],
          [
           "NeoScrypt"
          ],
          [
           "Scrypt"
          ],
          [
           "Scrypt"
          ],
          [
           "Scrypt"
          ],
          [
           "Scrypt"
          ],
          [
           "Scrypt"
          ],
          [
           "Scrypt"
          ],
          [
           "X11"
          ],
          [
           "X11"
          ],
          [
           "SHA-256"
          ],
          [
           "Multiple"
          ],
          [
           "SHA-256"
          ],
          [
           "PHI1612"
          ],
          [
           "X11"
          ],
          [
           "SHA-256"
          ],
          [
           "SHA-256"
          ],
          [
           "SHA-256"
          ],
          [
           "X11"
          ],
          [
           "Scrypt"
          ],
          [
           "Scrypt"
          ],
          [
           "Scrypt"
          ],
          [
           "Scrypt"
          ],
          [
           "Lyra2REv2"
          ],
          [
           "Scrypt"
          ],
          [
           "X11"
          ],
          [
           "Multiple"
          ],
          [
           "SHA-256"
          ],
          [
           "X13"
          ],
          [
           "Scrypt"
          ],
          [
           "CryptoNight"
          ],
          [
           "CryptoNight"
          ],
          [
           "Shabal256"
          ],
          [
           "Counterparty"
          ],
          [
           "Scrypt"
          ],
          [
           "SHA-256"
          ],
          [
           "Groestl"
          ],
          [
           "Scrypt"
          ],
          [
           "Scrypt"
          ],
          [
           "Scrypt"
          ],
          [
           "X13"
          ],
          [
           "Scrypt"
          ],
          [
           "Scrypt"
          ],
          [
           "Scrypt"
          ],
          [
           "Scrypt"
          ],
          [
           "X13"
          ],
          [
           "Scrypt"
          ],
          [
           "Stanford Folding"
          ],
          [
           "X11"
          ],
          [
           "Multiple"
          ],
          [
           "QuBit"
          ],
          [
           "Scrypt"
          ],
          [
           "Scrypt"
          ],
          [
           "Scrypt"
          ],
          [
           "M7 POW"
          ],
          [
           "Scrypt"
          ],
          [
           "SHA-256"
          ],
          [
           "Scrypt"
          ],
          [
           "X11"
          ],
          [
           "SHA3"
          ],
          [
           "X11"
          ],
          [
           "Lyra2RE"
          ],
          [
           "SHA-256"
          ],
          [
           "QUAIT"
          ],
          [
           "X11"
          ],
          [
           "X11"
          ],
          [
           "Scrypt"
          ],
          [
           "Scrypt"
          ],
          [
           "Scrypt"
          ],
          [
           "Ethash"
          ],
          [
           "X13"
          ],
          [
           "Blake2b"
          ],
          [
           "SHA-256"
          ],
          [
           "X15"
          ],
          [
           "X11"
          ],
          [
           "SHA-256"
          ],
          [
           "BLAKE256"
          ],
          [
           "Scrypt"
          ],
          [
           "1GB AES Pattern Search"
          ],
          [
           "SHA-256"
          ],
          [
           "X11"
          ],
          [
           "Scrypt"
          ],
          [
           "SHA-256"
          ],
          [
           "SHA-256"
          ],
          [
           "NIST5"
          ],
          [
           "Scrypt"
          ],
          [
           "Scrypt"
          ],
          [
           "X11"
          ],
          [
           "Dagger"
          ],
          [
           "Scrypt"
          ],
          [
           "X11GOST"
          ],
          [
           "X11"
          ],
          [
           "Scrypt"
          ],
          [
           "SHA-256"
          ],
          [
           "Scrypt"
          ],
          [
           "PoS"
          ],
          [
           "Scrypt"
          ],
          [
           "X11"
          ],
          [
           "X11"
          ],
          [
           "SHA-256"
          ],
          [
           "SHA-256"
          ],
          [
           "NIST5"
          ],
          [
           "X11"
          ],
          [
           "Scrypt"
          ],
          [
           "POS 3.0"
          ],
          [
           "Scrypt"
          ],
          [
           "Scrypt"
          ],
          [
           "Scrypt"
          ],
          [
           "X13"
          ],
          [
           "X11"
          ],
          [
           "X11"
          ],
          [
           "Equihash"
          ],
          [
           "X11"
          ],
          [
           "Scrypt"
          ],
          [
           "CryptoNight"
          ],
          [
           "SHA-256"
          ],
          [
           "SHA-256"
          ],
          [
           "X11"
          ],
          [
           "Scrypt"
          ],
          [
           "Multiple"
          ],
          [
           "Scrypt"
          ],
          [
           "Scrypt"
          ],
          [
           "Scrypt"
          ],
          [
           "SHA-256"
          ],
          [
           "Scrypt"
          ],
          [
           "Scrypt"
          ],
          [
           "SHA-256D"
          ],
          [
           "PoS"
          ],
          [
           "Scrypt"
          ],
          [
           "X11"
          ],
          [
           "Lyra2Z"
          ],
          [
           "PoS"
          ],
          [
           "X13"
          ],
          [
           "X14"
          ],
          [
           "PoS"
          ],
          [
           "SHA-256D"
          ],
          [
           "Ethash"
          ],
          [
           "Equihash"
          ],
          [
           "DPoS"
          ],
          [
           "X11"
          ],
          [
           "Scrypt"
          ],
          [
           "X11"
          ],
          [
           "X13"
          ],
          [
           "X11"
          ],
          [
           "PoS"
          ],
          [
           "Scrypt"
          ],
          [
           "Scrypt"
          ],
          [
           "X11"
          ],
          [
           "PoS"
          ],
          [
           "X11"
          ],
          [
           "SHA-256"
          ],
          [
           "Scrypt"
          ],
          [
           "X11"
          ],
          [
           "Scrypt"
          ],
          [
           "Scrypt"
          ],
          [
           "X11"
          ],
          [
           "CryptoNight"
          ],
          [
           "Scrypt"
          ],
          [
           "Scrypt"
          ],
          [
           "Scrypt"
          ],
          [
           "Scrypt"
          ],
          [
           "Quark"
          ],
          [
           "QuBit"
          ],
          [
           "Scrypt"
          ],
          [
           "CryptoNight"
          ],
          [
           "Lyra2RE"
          ],
          [
           "Scrypt"
          ],
          [
           "SHA-256"
          ],
          [
           "X11"
          ],
          [
           "Scrypt"
          ],
          [
           "X11"
          ],
          [
           "Scrypt"
          ],
          [
           "CryptoNight-V7"
          ],
          [
           "Scrypt"
          ],
          [
           "Scrypt"
          ],
          [
           "Scrypt"
          ],
          [
           "X13"
          ],
          [
           "X11"
          ],
          [
           "Equihash"
          ],
          [
           "Scrypt"
          ],
          [
           "Scrypt"
          ],
          [
           "Lyra2RE"
          ],
          [
           "Scrypt"
          ],
          [
           "Dagger-Hashimoto"
          ],
          [
           "X11"
          ],
          [
           "Blake2S"
          ],
          [
           "X11"
          ],
          [
           "Scrypt"
          ],
          [
           "PoS"
          ],
          [
           "X11"
          ],
          [
           "NIST5"
          ],
          [
           "PoS"
          ],
          [
           "X11"
          ],
          [
           "Scrypt"
          ],
          [
           "Scrypt"
          ],
          [
           "Scrypt"
          ],
          [
           "SHA-256"
          ],
          [
           "X11"
          ],
          [
           "Scrypt"
          ],
          [
           "Scrypt"
          ],
          [
           "SHA-256"
          ],
          [
           "PoS"
          ],
          [
           "Scrypt"
          ],
          [
           "X15"
          ],
          [
           "SHA-256"
          ],
          [
           "Scrypt"
          ],
          [
           "POS 3.0"
          ],
          [
           "CryptoNight-V7"
          ],
          [
           "536"
          ],
          [
           "Argon2d"
          ],
          [
           "Blake2b"
          ],
          [
           "Cloverhash"
          ],
          [
           "CryptoNight"
          ],
          [
           "NIST5"
          ],
          [
           "X11"
          ],
          [
           "NIST5"
          ],
          [
           "Skein"
          ],
          [
           "Scrypt"
          ],
          [
           "X13"
          ],
          [
           "Scrypt"
          ],
          [
           "X11"
          ],
          [
           "X11"
          ],
          [
           "Scrypt"
          ],
          [
           "CryptoNight"
          ],
          [
           "X13"
          ],
          [
           "Time Travel"
          ],
          [
           "Scrypt"
          ],
          [
           "Keccak"
          ],
          [
           "SkunkHash v2 Raptor"
          ],
          [
           "X11"
          ],
          [
           "Skein"
          ],
          [
           "SHA-256"
          ],
          [
           "X11"
          ],
          [
           "Scrypt"
          ],
          [
           "VeChainThor Authority"
          ],
          [
           "Scrypt"
          ],
          [
           "PoS"
          ],
          [
           "Scrypt"
          ],
          [
           "Scrypt"
          ],
          [
           "Scrypt"
          ],
          [
           "Scrypt"
          ],
          [
           "Scrypt"
          ],
          [
           "Scrypt"
          ],
          [
           "Scrypt"
          ],
          [
           "CryptoNight"
          ],
          [
           "SHA-512"
          ],
          [
           "Ouroboros"
          ],
          [
           "X11"
          ],
          [
           "Equihash"
          ],
          [
           "NeoScrypt"
          ],
          [
           "X11"
          ],
          [
           "Scrypt"
          ],
          [
           "NeoScrypt"
          ],
          [
           "Lyra2REv2"
          ],
          [
           "Equihash"
          ],
          [
           "Scrypt"
          ],
          [
           "SHA-256"
          ],
          [
           "NIST5"
          ],
          [
           "PHI1612"
          ],
          [
           "Dagger"
          ],
          [
           "Scrypt"
          ],
          [
           "Quark"
          ],
          [
           "Scrypt"
          ],
          [
           "POS 2.0"
          ],
          [
           "Scrypt"
          ],
          [
           "SHA-256"
          ],
          [
           "X11"
          ],
          [
           "NeoScrypt"
          ],
          [
           "Ethash"
          ],
          [
           "NeoScrypt"
          ],
          [
           "X11"
          ],
          [
           "DPoS"
          ],
          [
           "NIST5"
          ],
          [
           "X13"
          ],
          [
           "Multiple"
          ],
          [
           "Scrypt"
          ],
          [
           "CryptoNight"
          ],
          [
           "CryptoNight"
          ],
          [
           "Ethash"
          ],
          [
           "NIST5"
          ],
          [
           "Quark"
          ],
          [
           "X11"
          ],
          [
           "CryptoNight-V7"
          ],
          [
           "Scrypt"
          ],
          [
           "Scrypt"
          ],
          [
           "Scrypt"
          ],
          [
           "X11"
          ],
          [
           "BLAKE256"
          ],
          [
           "X11"
          ],
          [
           "NeoScrypt"
          ],
          [
           "Quark"
          ],
          [
           "NeoScrypt"
          ],
          [
           "Scrypt"
          ],
          [
           "Scrypt"
          ],
          [
           "Scrypt"
          ],
          [
           "X11"
          ],
          [
           "X11"
          ],
          [
           "SHA-256"
          ],
          [
           "C11"
          ],
          [
           "POS 3.0"
          ],
          [
           "Ethash"
          ],
          [
           "Scrypt"
          ],
          [
           "CryptoNight"
          ],
          [
           "SkunkHash"
          ],
          [
           "Scrypt"
          ],
          [
           "CryptoNight"
          ],
          [
           "Scrypt"
          ],
          [
           "Dagger"
          ],
          [
           "Lyra2REv2"
          ],
          [
           "X13"
          ],
          [
           "Proof-of-BibleHash"
          ],
          [
           "SHA-256 + Hive"
          ],
          [
           "Scrypt"
          ],
          [
           "Scrypt"
          ],
          [
           "X11"
          ],
          [
           "C11"
          ],
          [
           "Proof-of-Authority"
          ],
          [
           "X11"
          ],
          [
           "XEVAN"
          ],
          [
           "Scrypt"
          ],
          [
           "VBFT"
          ],
          [
           "Ethash"
          ],
          [
           "CryptoNight"
          ],
          [
           "Scrypt"
          ],
          [
           "IMesh"
          ],
          [
           "NIST5"
          ],
          [
           "Scrypt"
          ],
          [
           "Scrypt"
          ],
          [
           "Equihash"
          ],
          [
           "Scrypt"
          ],
          [
           "Lyra2Z"
          ],
          [
           "Green Protocol"
          ],
          [
           "PoS"
          ],
          [
           "Scrypt"
          ],
          [
           "Semux BFT consensus"
          ],
          [
           "X11"
          ],
          [
           "Quark"
          ],
          [
           "PoS"
          ],
          [
           "CryptoNight"
          ],
          [
           "X16R"
          ],
          [
           "Scrypt"
          ],
          [
           "NIST5"
          ],
          [
           "Lyra2RE"
          ],
          [
           "XEVAN"
          ],
          [
           "Tribus"
          ],
          [
           "Scrypt"
          ],
          [
           "Lyra2Z"
          ],
          [
           "CryptoNight"
          ],
          [
           "CryptoNight Heavy"
          ],
          [
           "CryptoNight"
          ],
          [
           "Scrypt"
          ],
          [
           "Scrypt"
          ],
          [
           "Jump Consistent Hash"
          ],
          [
           "SHA-256D"
          ],
          [
           "CryptoNight"
          ],
          [
           "Scrypt"
          ],
          [
           "X15"
          ],
          [
           "Scrypt"
          ],
          [
           "Quark"
          ],
          [
           "SHA-256"
          ],
          [
           "DPoS"
          ],
          [
           "X16R"
          ],
          [
           "HMQ1725"
          ],
          [
           "X11"
          ],
          [
           "X16R"
          ],
          [
           "Quark"
          ],
          [
           "Quark"
          ],
          [
           "Scrypt"
          ],
          [
           "Lyra2REv2"
          ],
          [
           "Quark"
          ],
          [
           "Scrypt"
          ],
          [
           "Scrypt"
          ],
          [
           "CryptoNight-V7"
          ],
          [
           "Cryptonight-GPU"
          ],
          [
           "XEVAN"
          ],
          [
           "CryptoNight Heavy"
          ],
          [
           "X11"
          ],
          [
           "X11"
          ],
          [
           "Scrypt"
          ],
          [
           "PoS"
          ],
          [
           "SHA-256"
          ],
          [
           "Keccak"
          ],
          [
           "X11"
          ],
          [
           "X11"
          ],
          [
           "Scrypt"
          ],
          [
           "SHA-512"
          ],
          [
           "X16R"
          ],
          [
           "ECC 256K1"
          ],
          [
           "Equihash"
          ],
          [
           "XEVAN"
          ],
          [
           "Lyra2Z"
          ],
          [
           "SHA-256"
          ],
          [
           "XEVAN"
          ],
          [
           "X11"
          ],
          [
           "CryptoNight"
          ],
          [
           "Quark"
          ],
          [
           "Blake"
          ],
          [
           "Blake"
          ],
          [
           "Equihash"
          ],
          [
           "Exosis"
          ],
          [
           "Scrypt"
          ],
          [
           "Scrypt"
          ],
          [
           "Equihash"
          ],
          [
           "Quark"
          ],
          [
           "Equihash"
          ],
          [
           "Quark"
          ],
          [
           "Scrypt"
          ],
          [
           "QuBit"
          ],
          [
           "X11"
          ],
          [
           "Scrypt"
          ],
          [
           "XEVAN"
          ],
          [
           "SHA-256D"
          ],
          [
           "X11"
          ],
          [
           "SHA-256"
          ],
          [
           "X13"
          ],
          [
           "SHA-256"
          ],
          [
           "X11"
          ],
          [
           "DPoS"
          ],
          [
           "Scrypt"
          ],
          [
           "Scrypt"
          ],
          [
           "X11"
          ],
          [
           "NeoScrypt"
          ],
          [
           "Scrypt"
          ],
          [
           "Blake"
          ],
          [
           "Scrypt"
          ],
          [
           "SHA-256"
          ],
          [
           "Scrypt"
          ],
          [
           "X11"
          ],
          [
           "Scrypt"
          ],
          [
           "Scrypt"
          ],
          [
           "SHA-256"
          ],
          [
           "X11"
          ],
          [
           "SHA-256"
          ],
          [
           "Scrypt"
          ],
          [
           "Scrypt"
          ],
          [
           "Scrypt"
          ],
          [
           "Groestl"
          ],
          [
           "X11"
          ],
          [
           "Scrypt"
          ],
          [
           "PoS"
          ],
          [
           "Scrypt"
          ],
          [
           "Scrypt"
          ],
          [
           "X11"
          ],
          [
           "SHA-256"
          ],
          [
           "DPoS"
          ],
          [
           "Scrypt"
          ],
          [
           "Scrypt"
          ],
          [
           "NeoScrypt"
          ],
          [
           "Multiple"
          ],
          [
           "X13"
          ],
          [
           "Equihash+Scrypt"
          ],
          [
           "DPoS"
          ],
          [
           "Ethash"
          ],
          [
           "DPoS"
          ],
          [
           "SHA-256"
          ],
          [
           "Leased POS"
          ],
          [
           "PoS"
          ],
          [
           "TRC10"
          ],
          [
           "PoS"
          ],
          [
           "SHA-256"
          ],
          [
           "Scrypt"
          ],
          [
           "CryptoNight"
          ],
          [
           "Equihash"
          ],
          [
           "Scrypt"
          ]
         ],
         "hovertemplate": "<b>%{hovertext}</b><br><br>PC1=%{x}<br>PC2=%{y}<br>PC3=%{z}<br>Algorithm=%{customdata[0]}<br>Class=%{marker.color}<extra></extra>",
         "hovertext": [
          "42 Coin",
          "404Coin",
          "EliteCoin",
          "Bitcoin",
          "Ethereum",
          "Litecoin",
          "Dash",
          "Monero",
          "Ethereum Classic",
          "ZCash",
          "Bitshares",
          "DigiByte",
          "BitcoinDark",
          "PayCoin",
          "ProsperCoin",
          "KoboCoin",
          "Spreadcoin",
          "Argentum",
          "Aurora Coin",
          "BlueCoin",
          "MyriadCoin",
          "MoonCoin",
          "ZetaCoin",
          "SexCoin",
          "Quatloo",
          "EnergyCoin",
          "QuarkCoin",
          "Riecoin",
          "Digitalcoin ",
          "BitBar",
          "Catcoin",
          "CryptoBullion",
          "CannaCoin",
          "CryptCoin",
          "CasinoCoin",
          "Diamond",
          "Verge",
          "DevCoin",
          "EarthCoin",
          "E-Gulden",
          "Einsteinium",
          "Emerald",
          "Exclusive Coin",
          "FlutterCoin",
          "Franko",
          "FeatherCoin",
          "GrandCoin",
          "GlobalCoin",
          "GoldCoin",
          "HoboNickels",
          "HyperStake",
          "Infinite Coin",
          "IOCoin",
          "IXcoin",
          "KrugerCoin",
          "LuckyCoin",
          "Litebar ",
          "MaxCoin",
          "MegaCoin",
          "MediterraneanCoin",
          "MintCoin",
          "MinCoin",
          "MazaCoin",
          "Nautilus Coin",
          "NavCoin",
          "NobleCoin",
          "Namecoin",
          "NyanCoin",
          "OpalCoin",
          "Orbitcoin",
          "PotCoin",
          "PhoenixCoin",
          "Reddcoin",
          "RonPaulCoin",
          "StableCoin",
          "SmartCoin",
          "SuperCoin",
          "SyncCoin",
          "SysCoin",
          "TeslaCoin",
          "TigerCoin",
          "TittieCoin",
          "TorCoin",
          "TerraCoin",
          "UnbreakableCoin",
          "Unobtanium",
          "UroCoin",
          "UnitaryStatus Dollar",
          "UltraCoin",
          "ViaCoin",
          "VeriCoin",
          "Vertcoin",
          "WorldCoin",
          "X11 Coin",
          "Crypti",
          "JouleCoin",
          "StealthCoin",
          "ZCC Coin",
          "ByteCoin",
          "DigitalNote ",
          "BurstCoin",
          "StorjCoin",
          "MonaCoin",
          "Neutron",
          "FairCoin",
          "Gulden",
          "RubyCoin",
          "PesetaCoin",
          "Kore",
          "Wild Beast Coin",
          "Dnotes",
          "Flo",
          "8BIT Coin",
          "Sativa Coin",
          "ArtByte",
          "Folding Coin",
          "Ucoin",
          "Unitus",
          "CypherPunkCoin",
          "OmniCron",
          "Vtorrent",
          "GreenCoin",
          "Cryptonite",
          "MasterCoin",
          "SoonCoin",
          "1Credit",
          "IslaCoin",
          "Nexus",
          "MarsCoin ",
          "Crypto",
          "Anarchists Prime",
          "Droidz",
          "BowsCoin",
          "Squall Coin",
          "Song Coin",
          "BitZeny",
          "Diggits",
          "Expanse",
          "Paycon",
          "Siacoin",
          "Emercoin",
          "EverGreenCoin",
          "MindCoin",
          "I0coin",
          "Decred",
          "Revolution VR",
          "HOdlcoin",
          "EDRCoin",
          "Hitcoin",
          "Gamecredits",
          "DubaiCoin",
          "CarpeDiemCoin",
          "PWR Coin",
          "BillaryCoin",
          "GPU Coin",
          "Adzcoin",
          "SoilCoin",
          "YoCoin",
          "SibCoin",
          "EuropeCoin",
          "ZeitCoin",
          "SwingCoin",
          "SafeExchangeCoin",
          "Nebuchadnezzar",
          "Francs",
          "BolivarCoin",
          "Ratecoin",
          "Revenu",
          "Clockcoin",
          "VIP Tokens",
          "BitSend",
          "Omni",
          "Let it Ride",
          "PutinCoin",
          "iBankCoin",
          "Frankywillcoin",
          "MudraCoin",
          "PizzaCoin",
          "Lutetium Coin",
          "Komodo",
          "GoldBlocks",
          "CarterCoin",
          "Karbo",
          "BitTokens",
          "ZayedCoin",
          "MustangCoin",
          "ZoneCoin",
          "Circuits of Value",
          "RootCoin",
          "DopeCoin",
          "BitCurrency",
          "DollarCoin",
          "Swiscoin",
          "Shilling",
          "BuzzCoin",
          "Opair",
          "PesoBit",
          "Halloween Coin",
          "ZCoin",
          "CoffeeCoin",
          "RoyalCoin",
          "GanjaCoin V2",
          "TeamUP",
          "LanaCoin",
          "Elementrem",
          "ZClassic",
          "ARK",
          "InsaneCoin",
          "KiloCoin",
          "ArtexCoin",
          "EmberCoin",
          "XenixCoin",
          "FreeCoin",
          "PLNCoin",
          "AquariusCoin",
          "Kurrent",
          "Creatio",
          "Eternity",
          "Eurocoin",
          "BitcoinFast",
          "Stakenet",
          "BitConnect Coin",
          "MoneyCoin",
          "Enigma",
          "Cannabis Industry Coin",
          "Russiacoin",
          "PandaCoin",
          "GameUnits",
          "GAKHcoin",
          "Allsafe",
          "LiteCreed",
          "OsmiumCoin",
          "Bikercoins",
          "HexxCoin",
          "Klingon Empire Darsek",
          "Internet of People",
          "KushCoin",
          "Printerium",
          "PacCoin",
          "Impeach",
          "Citadel",
          "Zilbercoin",
          "FirstCoin",
          "BeaverCoin",
          "FindCoin",
          "VaultCoin",
          "Zero",
          "OpenChat",
          "Canada eCoin",
          "Zoin",
          "RenosCoin",
          "DubaiCoin",
          "VirtacoinPlus",
          "TajCoin",
          "Impact",
          "EB3coin",
          "Atmos",
          "HappyCoin",
          "Coinonat",
          "MacronCoin",
          "Condensate",
          "Independent Money System",
          "ArgusCoin",
          "LomoCoin",
          "ProCurrency",
          "GoldReserve",
          "BenjiRolls",
          "GrowthCoin",
          "ILCoin",
          "Phreak",
          "Degas Coin",
          "HTML5 Coin",
          "Ultimate Secure Cash",
          "EquiTrader",
          "QTUM",
          "Quantum Resistant Ledger",
          "Espers",
          "Dynamic",
          "Nano",
          "ChanCoin",
          "Dinastycoin",
          "Denarius",
          "DigitalPrice",
          "Virta Unique Coin",
          "Bitcoin Planet",
          "Unify",
          "BritCoin",
          "SocialCoin",
          "ArcticCoin",
          "DAS",
          "Linda",
          "LeviarCoin",
          "DeepOnion",
          "Bitcore",
          "gCn Coin",
          "SmartCash",
          "Signatum",
          "Onix",
          "Cream",
          "Bitcoin Cash",
          "Monoeci",
          "Draftcoin",
          "Vechain",
          "Sojourn Coin",
          "Stakecoin",
          "NewYorkCoin",
          "FrazCoin",
          "Kronecoin",
          "AdCoin",
          "Linx",
          "CoinonatX",
          "Ethereum Dark",
          "Sumokoin",
          "Obsidian",
          "Cardano",
          "Regalcoin",
          "BitcoinZ",
          "TrezarCoin",
          "Elements",
          "TerraNovaCoin",
          "VIVO Coin",
          "Rupee",
          "Bitcoin Gold",
          "WomenCoin",
          "Theresa May Coin",
          "NamoCoin",
          "LUXCoin",
          "Pirl",
          "Xios",
          "Bitcloud 2.0",
          "eBoost",
          "KekCoin",
          "BlackholeCoin",
          "Infinity Economics",
          "Pura",
          "Innova",
          "Ellaism",
          "GoByte",
          "Magnet",
          "Lamden Tau",
          "Electra",
          "Bitcoin Diamond",
          "SHIELD",
          "Cash & Back Coin",
          "UltraNote",
          "BitCoal",
          "DaxxCoin",
          "Bulwark",
          "Kalkulus",
          "AC3",
          "Lethean",
          "GermanCoin",
          "LiteCoin Ultra",
          "PopularCoin",
          "PhantomX",
          "Photon",
          "Sucre",
          "SparksPay",
          "Digiwage",
          "GunCoin",
          "IrishCoin",
          "Trollcoin",
          "Litecoin Plus",
          "Monkey Project",
          "Pioneer Coin",
          "UnitedBitcoin",
          "Interzone",
          "TokenPay",
          "1717 Masonic Commemorative Token",
          "My Big Coin",
          "TurtleCoin",
          "MUNcoin",
          "Unified Society USDEX",
          "Niobio Cash",
          "ShareChain",
          "Travelflex",
          "KREDS",
          "Tokyo Coin",
          "BiblePay",
          "LitecoinCash",
          "BitFlip",
          "LottoCoin",
          "Crypto Improvement Fund",
          "Stipend",
          "Poa Network",
          "Pushi",
          "Ellerium",
          "Velox",
          "Ontology",
          "Callisto Network",
          "BitTube",
          "Poseidon",
          "Aidos Kuneen",
          "Bitspace",
          "Briacoin",
          "Ignition",
          "Bitrolium",
          "MedicCoin",
          "Alpenschillling",
          "Bitcoin Green",
          "Deviant Coin",
          "Abjcoin",
          "Semux",
          "FuturoCoin",
          "Carebit",
          "Zealium",
          "Monero Classic",
          "Proton",
          "iDealCash",
          "Jumpcoin",
          "Infinex",
          "Bitcoin Incognito",
          "KEYCO",
          "HollyWoodCoin",
          "GINcoin",
          "PlatinCoin",
          "Loki",
          "Newton Coin",
          "Swisscoin",
          "Xt3ch",
          "MassGrid",
          "TheVig",
          "PluraCoin",
          "EmaratCoin",
          "Dekado",
          "Lynx",
          "Poseidon Quark",
          "BitcoinWSpectrum",
          "Muse",
          "Motion",
          "PlusOneCoin",
          "Axe",
          "Trivechain",
          "Dystem",
          "Giant",
          "Peony Coin",
          "Absolute Coin",
          "Vitae",
          "HexCoin",
          "TPCash",
          "Webchain",
          "Ryo",
          "Urals Coin",
          "Qwertycoin",
          "ARENON",
          "EUNO",
          "MMOCoin",
          "Ketan",
          "Project Pai",
          "XDNA",
          "PAXEX",
          "Azart",
          "ThunderStake",
          "Kcash",
          "Xchange",
          "Acute Angle Cloud",
          "CrypticCoin",
          "Bettex coin",
          "Actinium",
          "Bitcoin SV",
          "BitMoney",
          "Junson Ming Chan Coin",
          "FREDEnergy",
          "HerbCoin",
          "Universal Molecule",
          "Lithium",
          "PirateCash",
          "Exosis",
          "Block-Logic",
          "Oduwa",
          "Beam",
          "Galilel",
          "Bithereum",
          "Crypto Sports",
          "Credit",
          "SLICE",
          "Dash Platinum",
          "Nasdacoin",
          "Beetle Coin",
          "Titan Coin",
          "Award",
          "BLAST",
          "Bitcoin Rhodium",
          "GlobalToken",
          "Insane Coin",
          "ALAX",
          "LiteDoge",
          "SolarCoin",
          "TruckCoin",
          "UFO Coin",
          "OrangeCoin",
          "BlakeCoin",
          "BitstarCoin",
          "NeosCoin",
          "HyperCoin",
          "PinkCoin",
          "Crypto Escudo",
          "AudioCoin",
          "IncaKoin",
          "Piggy Coin",
          "Crown Coin",
          "Genstake",
          "SmileyCoin",
          "XiaoMiCoin",
          "Groestlcoin",
          "CapriCoin",
          " ClubCoin",
          "Radium",
          "Bata",
          "Pakcoin",
          "Creditbit ",
          "OKCash",
          "Lisk",
          "HiCoin",
          "WhiteCoin",
          "FriendshipCoin",
          "JoinCoin",
          "Triangles Coin",
          "Vollar",
          "EOS",
          "Reality Clash",
          "Oxycoin",
          "TigerCash",
          "Waves",
          "Particl",
          "BitTorrent",
          "Nxt",
          "ZEPHYR",
          "Gapcoin",
          "Beldex",
          "Horizen",
          "BitcoinPlus"
         ],
         "legendgroup": "",
         "marker": {
          "color": [
           0,
           0,
           0,
           1,
           1,
           1,
           0,
           1,
           1,
           1,
           0,
           1,
           0,
           0,
           1,
           0,
           1,
           1,
           0,
           0,
           1,
           1,
           1,
           1,
           1,
           0,
           1,
           1,
           1,
           0,
           1,
           0,
           1,
           1,
           0,
           0,
           1,
           1,
           1,
           1,
           1,
           1,
           0,
           0,
           1,
           1,
           1,
           1,
           1,
           0,
           0,
           1,
           0,
           1,
           1,
           1,
           1,
           0,
           1,
           1,
           0,
           1,
           0,
           0,
           0,
           1,
           1,
           1,
           0,
           0,
           0,
           0,
           0,
           1,
           1,
           1,
           0,
           0,
           1,
           0,
           1,
           0,
           0,
           1,
           1,
           1,
           1,
           0,
           0,
           1,
           0,
           1,
           1,
           0,
           0,
           1,
           0,
           0,
           1,
           1,
           0,
           0,
           1,
           0,
           0,
           1,
           0,
           1,
           0,
           1,
           0,
           1,
           0,
           0,
           1,
           1,
           0,
           1,
           1,
           1,
           0,
           1,
           1,
           1,
           1,
           1,
           0,
           0,
           1,
           1,
           1,
           0,
           1,
           0,
           1,
           1,
           0,
           1,
           0,
           1,
           0,
           0,
           1,
           1,
           0,
           1,
           1,
           0,
           0,
           1,
           0,
           1,
           0,
           0,
           0,
           1,
           1,
           1,
           1,
           0,
           0,
           0,
           0,
           0,
           1,
           1,
           0,
           0,
           0,
           0,
           0,
           1,
           0,
           0,
           0,
           0,
           0,
           1,
           0,
           1,
           0,
           0,
           1,
           0,
           1,
           0,
           0,
           1,
           0,
           1,
           0,
           1,
           0,
           1,
           0,
           0,
           0,
           0,
           1,
           0,
           0,
           0,
           0,
           0,
           1,
           1,
           0,
           0,
           1,
           1,
           0,
           0,
           0,
           0,
           0,
           1,
           0,
           0,
           0,
           0,
           0,
           0,
           0,
           0,
           1,
           0,
           0,
           0,
           0,
           0,
           0,
           1,
           1,
           1,
           0,
           0,
           0,
           0,
           1,
           0,
           1,
           0,
           0,
           1,
           0,
           1,
           1,
           0,
           1,
           1,
           0,
           1,
           0,
           0,
           0,
           1,
           0,
           0,
           1,
           0,
           0,
           0,
           0,
           0,
           0,
           0,
           1,
           0,
           1,
           0,
           0,
           0,
           0,
           1,
           0,
           1,
           0,
           1,
           1,
           1,
           1,
           0,
           1,
           0,
           0,
           1,
           0,
           1,
           1,
           1,
           0,
           1,
           0,
           1,
           1,
           1,
           0,
           1,
           0,
           1,
           0,
           0,
           0,
           1,
           0,
           1,
           1,
           1,
           1,
           1,
           0,
           0,
           1,
           0,
           0,
           0,
           1,
           0,
           1,
           0,
           1,
           0,
           1,
           0,
           0,
           0,
           0,
           1,
           0,
           0,
           1,
           0,
           0,
           0,
           1,
           1,
           1,
           1,
           0,
           0,
           0,
           0,
           1,
           0,
           1,
           1,
           1,
           0,
           0,
           1,
           1,
           0,
           0,
           1,
           0,
           1,
           1,
           1,
           0,
           1,
           1,
           0,
           0,
           0,
           1,
           1,
           1,
           0,
           0,
           0,
           1,
           1,
           0,
           1,
           1,
           1,
           1,
           0,
           3,
           3,
           1,
           1,
           1,
           0,
           3,
           0,
           0,
           0,
           0,
           1,
           1,
           1,
           1,
           0,
           0,
           0,
           1,
           0,
           1,
           0,
           0,
           0,
           0,
           1,
           0,
           0,
           1,
           0,
           0,
           1,
           1,
           0,
           1,
           0,
           1,
           1,
           1,
           1,
           0,
           0,
           1,
           0,
           1,
           0,
           0,
           0,
           0,
           0,
           0,
           1,
           1,
           1,
           0,
           0,
           0,
           0,
           0,
           0,
           1,
           0,
           1,
           1,
           1,
           1,
           0,
           0,
           0,
           0,
           1,
           0,
           0,
           1,
           0,
           0,
           1,
           3,
           1,
           0,
           1,
           1,
           0,
           0,
           1,
           0,
           1,
           1,
           0,
           1,
           1,
           0,
           1,
           0,
           1,
           0,
           0,
           1,
           0,
           0,
           0,
           0,
           0,
           1,
           1,
           1,
           0,
           0,
           0,
           1,
           0,
           1,
           0,
           1,
           0,
           0,
           0,
           0,
           1,
           0,
           0,
           0,
           1,
           0,
           1,
           0,
           1,
           0,
           0,
           0,
           1,
           1,
           0,
           0,
           0,
           0,
           0,
           0,
           1,
           0,
           1,
           0,
           1,
           0,
           0,
           3,
           0,
           2,
           0,
           0,
           0,
           1,
           1,
           0
          ],
          "coloraxis": "coloraxis",
          "symbol": "circle"
         },
         "mode": "markers",
         "name": "",
         "scene": "scene",
         "showlegend": false,
         "type": "scatter3d",
         "x": [
          -0.3364370866007136,
          -0.31978061422118687,
          2.307322628477937,
          -0.14483091481499732,
          -0.15759103205989505,
          -0.1687020307402411,
          -0.391850185847779,
          -0.16313320188927236,
          -0.1560337774164657,
          -0.1278102671598798,
          -0.2573128426280714,
          0.16232491790010162,
          -0.3113970132922987,
          -0.26684319899063796,
          -0.16984786542429253,
          -0.25091362368619724,
          -0.22546850473636504,
          -0.1694645707220594,
          -0.33609678994768766,
          -0.32867662358896715,
          -0.09098419003410363,
          2.5507369505096134,
          -0.1419168652754537,
          -0.16672098897020152,
          -0.16926870421573603,
          -0.33493411527560374,
          -0.23027001255394863,
          -0.2010012684720305,
          -0.16931739047945488,
          -0.33643302467236536,
          -0.16983013639130995,
          -0.33641731120047147,
          -0.16991655682497311,
          -0.22555781940686712,
          0.6015299533103688,
          -0.3685001710161074,
          0.18607362342581715,
          0.2328813767938283,
          0.07872577823775478,
          -0.16966293336049715,
          -0.1652698570061898,
          -0.16960225915798394,
          -0.355217581508866,
          -0.27889431246588,
          -0.1699735412740543,
          -0.1748348967753272,
          -0.14920360943669886,
          -0.16876906393330562,
          -0.16904643725566249,
          -0.33449661462441976,
          -0.32712614803375956,
          1.5783230550174066,
          -0.39174491400317607,
          -0.14479229502603547,
          -0.1663368505797851,
          -0.16968936620879757,
          -0.1700440553162861,
          -0.4035329654340044,
          -0.1693035678293466,
          -0.15154885124403025,
          -0.031882945403895996,
          -0.16992536673779696,
          -0.27471770718469,
          -0.2916344708782603,
          -0.2754139358648184,
          -0.03488881361044681,
          -0.1448698839094117,
          -0.16359149861573674,
          -0.2760359554365953,
          -0.3460680201278531,
          -0.3307416398920864,
          -0.3348394472280718,
          0.0215953983760941,
          -0.16990482895264836,
          -0.16800001002235404,
          -0.16939175659021302,
          -0.34700670251857285,
          -0.3921163434359302,
          -0.13202673757685,
          -0.24596462237264705,
          -0.14433383727953447,
          -0.30410266202818653,
          -0.3920280233560202,
          -0.144620955189931,
          -0.14460399693204848,
          -0.14519442916785608,
          -0.22573164060181025,
          -0.3116788409458269,
          -0.33511501954564893,
          -0.16962140022576333,
          -0.3012329453837648,
          -0.19086988455771065,
          -0.16672572274641048,
          -0.39199250419903875,
          -0.24643208515377785,
          -0.14440111052274696,
          -0.2758168855499543,
          -0.32754424801149723,
          3.8560601568386623,
          0.45621692818493115,
          -0.15867350665672034,
          -0.33094369985634425,
          -0.16848942297384978,
          -0.3106090293730789,
          -0.36792190414688575,
          -0.15309477863154344,
          -0.29161471470019684,
          -0.16720868217800533,
          -0.27611133527958065,
          -0.17004626576269743,
          -0.28627104491145533,
          -0.1670737504629993,
          -0.33641916059582605,
          -0.27606353261066724,
          -0.15330238380951025,
          -0.12864144626771007,
          -0.34745143837080067,
          -0.12497854595400246,
          -0.1866728064862007,
          -0.16991937982212793,
          -0.3361536498172997,
          -0.04290651524694334,
          -0.11544816087730002,
          -0.17005515307223174,
          -0.144897653698099,
          0.4817932747356074,
          -0.39209787795357454,
          -0.38946487782873657,
          -0.22511904273808062,
          -0.1514788333587357,
          -0.14463763341231545,
          -0.4163393497276404,
          -0.22540384572764585,
          -0.3491012632218065,
          -0.1681797461976619,
          -0.16737226758149934,
          -0.2900168725218105,
          -0.15865821644902411,
          -0.2755853690360409,
          0.3588661888870596,
          -0.30395731497009293,
          -0.25335389355384297,
          -0.22543922575197092,
          -0.14479341706499554,
          -0.08381264188786908,
          -0.16601442784842144,
          -0.13050527104085022,
          -0.3113679360985092,
          -0.06969968978513358,
          -0.16861902038994425,
          -0.31143159573733437,
          0.2735441418035756,
          -0.23732463004085744,
          -0.33602959736689064,
          -0.2898861197648982,
          -0.22460027501183807,
          -0.1509498610305711,
          -0.16886649401950732,
          -0.17939802279606387,
          -0.3892684563329901,
          0.8610421279297714,
          -0.311231759021794,
          -0.12896593640531745,
          -0.3549009784862475,
          -0.16984514990756858,
          -0.22540249186689343,
          -0.38994163163799855,
          -0.3099759308403877,
          -0.30764528047728357,
          -0.3586464415225031,
          -0.3908336420135261,
          -0.17005521154661762,
          -0.3475461620790211,
          -0.3123358956102046,
          -0.3360676865852437,
          -0.3345072396941876,
          -0.23025254300236472,
          -0.22555242128917338,
          -0.33494689822257756,
          -0.16038889171082746,
          -0.39157201117629237,
          -0.3352722165532009,
          0.30117854650377657,
          -0.3114125676513891,
          -0.14505341422114343,
          -0.39208707686889,
          -0.3362567597108182,
          -0.10505821534560657,
          -0.33641339545002896,
          -0.16722298600312058,
          -0.2898754038723139,
          -0.14501205663119468,
          -0.24486839117759393,
          -0.1697187458924142,
          0.036093135147189814,
          -0.3538584478349539,
          -0.3360276698633599,
          -0.3782556928180447,
          -0.14931477006827354,
          -0.35318724576267396,
          -0.2316824451127242,
          -0.416405433819013,
          -0.3529366139774061,
          -0.27832017985732105,
          -0.15840045785292636,
          -0.12783187822807635,
          3.734011252907329,
          -0.3916797803879595,
          -0.09681543880133901,
          -0.21214011877396388,
          0.8557571000882864,
          -0.3920420015572787,
          -0.3543220241711263,
          -0.3359552989074831,
          -0.3361095826561721,
          -0.22338145660441122,
          -0.3549009784862475,
          -0.3916171123744297,
          -0.3112752810886777,
          -0.33595602704090544,
          -0.37260278145807596,
          -0.336103366032999,
          -0.33169358617899847,
          -0.39207098814234637,
          0.3011728965755742,
          -0.33531446650838065,
          0.3513969714762387,
          -0.33630256114241824,
          -0.3363730977329401,
          -0.35683497438971384,
          -0.35219277129350396,
          -0.17003695739414626,
          0.30130357073379027,
          -0.15201905024953669,
          -0.33260168350972624,
          -0.3113889885329357,
          -0.3919809729760378,
          -0.336150999512185,
          0.48935452665073104,
          -0.3362779165707932,
          -0.16189850743646975,
          -0.2915213277107712,
          -0.3053445716851915,
          -0.1700052542172468,
          -0.23145038618391517,
          -0.21828985818868266,
          -0.12784424399875663,
          -0.31713861024054,
          -0.16813917279925886,
          -0.1517375237506143,
          -0.2912625094158056,
          -0.14886074796688942,
          -0.3912470648609106,
          -0.41677800891538397,
          -0.38998583344904036,
          -0.14094259083821026,
          -0.3531481885217765,
          -0.3911449811923811,
          -0.19346781337367028,
          -0.3475501975199799,
          -0.3870877450429785,
          -0.3362212194124015,
          -0.3362204196540379,
          -0.32934555365324625,
          0.26555674622803543,
          -0.3916232328609307,
          -0.16956779783336606,
          -0.27417136158373673,
          -0.11139137016504913,
          -0.35493527581404566,
          -0.3354322619004508,
          0.8805536171705163,
          -0.2655342634598554,
          -0.16938996329791464,
          -0.34632497543457713,
          -0.1617561701289244,
          0.6110524003901293,
          -0.16517740534895922,
          -0.041326545430374964,
          -0.14566234925873464,
          0.3372821235140797,
          -0.36018151434362966,
          -0.2246086887593923,
          -0.3586843479395137,
          -0.3982565916795877,
          -0.16970906207452197,
          -0.2757487497843725,
          -0.16947258671765247,
          -0.22500320320855832,
          -0.2255804375267271,
          0.12830046753361554,
          0.30156772834778,
          -0.27581948550188856,
          -0.15191253328023488,
          3.2384183869146557,
          -0.1123100572194747,
          -0.32812004631908354,
          -0.21645661449497894,
          -0.3977616280251905,
          -0.14483007926349772,
          -0.39189549278823094,
          -0.29159545628085465,
          4.401072072965927,
          -0.09566419616449158,
          -0.3548016337603459,
          1.5764804909215784,
          -0.16980688356006834,
          -0.16925876865362285,
          -0.16895984917419332,
          -0.1689467837152051,
          -0.3358565634124052,
          -0.33635603380714246,
          0.3017512381375633,
          -0.31535449825984174,
          0.6648644498240882,
          -0.39183636228201085,
          0.08439370132048209,
          -0.34106932294301523,
          -0.17998250526162154,
          -0.3363116781726502,
          -0.1795219006736585,
          -0.31350649642226847,
          -0.12769034349952826,
          0.4325365504489543,
          -0.309735869886887,
          -0.34495461463389765,
          -0.384176501797099,
          -0.14970947857991115,
          -0.33626203919247133,
          -0.39976790990739514,
          -0.1681373824494601,
          -0.34018947156818724,
          -0.33613246957872833,
          -0.09339197204066937,
          -0.22112656597172525,
          -0.17936738079647468,
          -0.15676647107661756,
          -0.17946753953785574,
          -0.39062954202829964,
          3.7388652751518423,
          0.19909974275654735,
          -0.272491610940858,
          -0.11521399652314862,
          -0.33359378032670384,
          1.1387633190910609,
          0.30115568303508145,
          -0.08169023519735327,
          -0.31545477772452674,
          -0.35672091973376485,
          -0.22086849471406025,
          -0.1508725156218511,
          0.07781867230018161,
          -0.3352714467453111,
          -0.08622498408067583,
          -0.3912103786016707,
          1.0874570666460202,
          -0.22555444459705318,
          -0.17951945150731236,
          -0.35588604625881803,
          -0.17255992539125875,
          -0.1690581539584528,
          -0.3228420125658933,
          -0.33637815828695994,
          -0.3474233777630825,
          -0.22547987720109292,
          -0.1448094811797825,
          -0.2070748779430182,
          -0.34782798114288427,
          -0.2807545714607623,
          -0.2890515188463218,
          8.035438850660185,
          -0.1743076813696829,
          -0.33192507912151914,
          0.3050285839374533,
          0.02291766365292582,
          -0.14921275168765746,
          -0.17643336611609628,
          -0.22324969964060848,
          -0.2656365562551759,
          -0.33137218011424346,
          -0.16963168612408744,
          0.13733369095341158,
          -0.21962308331188904,
          -0.37347891043641523,
          -0.38255421993580657,
          -0.3919127534346626,
          -0.30383466615997706,
          -0.29075583941466265,
          -0.320024315546022,
          -0.10982680458059481,
          0.30907522714998625,
          -0.16986860437814225,
          -0.14717682253741204,
          -0.35978065079388044,
          -0.3364055033127151,
          -0.33638722257536485,
          -0.12668178285620724,
          -0.2851394867533312,
          -0.1470992909259998,
          -0.3316443276421373,
          -0.35439625058545227,
          -0.3361038535253922,
          3.9380034717334578,
          -0.2246494499822608,
          -0.39843634493726704,
          -0.35458485121970845,
          0.3013381430909139,
          -0.3119516370864093,
          -0.2829968287230847,
          -0.1935272196058212,
          -0.15186435461829886,
          -0.26097185445633264,
          -0.16290435447893076,
          -0.2912897709338805,
          -0.14939910777348378,
          0.30526444604013686,
          0.5753603190179334,
          2.109062802470111,
          -0.13959262026991723,
          -0.2915417758694161,
          -0.15038328243489751,
          -0.3436054206561055,
          0.3149379414091018,
          -0.335578117709639,
          -0.2082075574545065,
          2.250954650072525,
          -0.35243100830091184,
          -0.2656618172550945,
          1.0246920418186356,
          -0.19018899559534527,
          -0.14211432451014866,
          -0.22553661143398918,
          -0.35577881072503476,
          -0.35683441829981566,
          -0.4014512849944619,
          -0.172331982394974,
          -0.35792521018829004,
          -0.35555444785258283,
          -0.16989318104504883,
          -0.3292856632684793,
          -0.1507535008994613,
          -0.1524335049974609,
          -0.13622689784503336,
          3.0969594526877775,
          -0.3470009597387514,
          -0.3913862842362807,
          -0.2887883836579353,
          -0.35368509558675243,
          -0.10467185221189576,
          -0.3388263973797179,
          -0.34686243961937774,
          -0.22550799064861268,
          -0.19595412510046856,
          -0.2801437993299767,
          -0.18961698715331562,
          -0.39625336788899207,
          -0.022476355505333983,
          -0.25933737897267184,
          -0.14879713101638536,
          -0.14483011681862606,
          0.5533686094011678,
          -0.1374403398061061,
          0.3810648429167467,
          -0.4007461944958022,
          -0.14189342227483398,
          -0.14228522439974053,
          -0.24902029100767223,
          -0.16397705382575326,
          -0.168785922773425,
          -0.33610781449065924,
          -0.12575132702569208,
          -0.4012021273740687,
          -0.1275232224372188,
          -0.35695134911162596,
          0.5700288052151347,
          -0.18588413998255207,
          -0.34747767442274113,
          -0.3355909757486581,
          -0.29829255731697235,
          -0.2983454631048515,
          -0.388952157363764,
          -0.14410651968932447,
          -0.10982190927611879,
          -0.1429749184795743,
          -0.3916134250884124,
          3.751102574218663,
          0.09864319865534153,
          0.5256919225601029,
          -0.3891537952354317,
          -0.10471130839937019,
          -0.33497680257506357,
          -0.09277426974847999,
          -0.3358013574152775,
          -0.26687582961382006,
          -0.3363194610847842,
          -0.3832444426732093,
          -0.1534529285802195,
          -0.2500623661123589,
          -0.09112364460628905,
          -0.37899475172763597,
          -0.14462032581378528,
          -0.3355980230065034,
          0.545514992554447,
          -0.3286649792115802,
          -0.20056241922039,
          -0.3881833234451055,
          -0.3340378799057086,
          -0.35517651011949963,
          -0.16996997380034579,
          -0.16792650056370584,
          -0.3771425613421712,
          -0.3099126412575552,
          3.7344029014933167,
          -0.09889635602186271,
          -0.3312337027012904,
          -0.34569406540480957,
          -0.12571323361775188,
          -0.2762184912940392,
          -0.10839673650945687,
          3.7442680582718473,
          -0.1584336048196522,
          3.7455118079239034,
          -0.24777978928429772,
          -0.3986390664189754,
          -0.35511239603642414,
          34.05813510618342,
          -0.3715844558789343,
          2.4789810760410327,
          -0.33448337699068986,
          0.32290483938594033,
          -0.1278113238176944,
          -0.29193806754763485
         ],
         "y": [
          1.0244572375368224,
          1.0248159866388447,
          1.6591819117607862,
          -1.3123760342121715,
          -2.005180360075354,
          -1.1259183589860562,
          1.2287621085723408,
          -2.275630200072841,
          -2.005257308605102,
          -1.996029820674264,
          1.2724638691959753,
          -1.8426026324568034,
          0.8379918786308311,
          0.6375367057448733,
          -1.125924835478301,
          1.8711626909619548,
          -0.9216131477103519,
          -1.1259377852339445,
          1.024460499529159,
          1.0247952684234578,
          -1.8405371883536272,
          -1.2721466586711114,
          -1.3123516874240795,
          -1.125946513400011,
          -1.1259540730166784,
          1.024522704108858,
          -0.4461812405805922,
          -1.2279328219398917,
          -1.1259204579673112,
          1.0244570697823558,
          -1.1259240632356893,
          1.0244574095177852,
          -1.1259224086520057,
          -0.9216156592329315,
          0.7870194217957415,
          0.9224500413088975,
          -1.8385036840029796,
          -1.3103870895662273,
          -1.1243902239974892,
          -1.1259167801929342,
          -1.1259176331163518,
          -1.1259217210319614,
          1.5494923944218058,
          0.389199855002239,
          -1.1259235779882752,
          -1.6639180638383249,
          -1.1259905392105132,
          -1.1259116268531553,
          -1.1259252569470555,
          1.0244590296252434,
          1.0291941296974594,
          -1.1122254255743964,
          1.2287666940116213,
          -1.3123743520083722,
          -1.1259404125768762,
          -1.1259172421305894,
          -1.125919833903723,
          2.240975539135999,
          -1.125915604875877,
          -2.2642707202850083,
          0.8353206297984562,
          -1.1259206275958968,
          0.8379368656953744,
          0.8239951975209848,
          1.7632725696725866,
          -1.1303731969590056,
          -1.3123777316310508,
          -1.12587017891247,
          1.7632454756952,
          0.4864762999370269,
          1.024415761181307,
          1.0244592638771695,
          1.0400524446805592,
          -1.1259273167001453,
          -1.126002225099506,
          -1.1259257889319898,
          1.0283281709429974,
          1.2287656819511914,
          -1.312416041566941,
          0.10924357250362722,
          -1.3123723158080076,
          1.5583205129969453,
          1.2287626354293189,
          -1.312381366729315,
          -1.3124068262644486,
          -1.3123775626005407,
          -0.9216108208744969,
          1.0244325768907472,
          1.0244458816236506,
          -1.1259163499422435,
          0.23870880796190352,
          -1.2416586950567563,
          -1.1259573511012675,
          1.2287672849944753,
          0.10929215336587138,
          -1.3123738589973104,
          1.7632550179585373,
          1.024155166099865,
          -2.2883631140222,
          -2.3161712880709,
          1.720028732193441,
          1.5715338823958345,
          -1.1259236588864194,
          0.8379944880806172,
          0.9224782491903817,
          -1.1263388616513417,
          0.824007212981746,
          -1.1259101106777303,
          1.7632339191769404,
          -1.1259208112734969,
          0.82389525975632,
          -1.1258998306343162,
          1.024458018388105,
          1.7632373802222054,
          -1.1258790945629724,
          -2.2128627332159008,
          1.028295010575239,
          -1.840639064324104,
          -1.5773482525565365,
          -1.1259157968418998,
          1.0244557949989004,
          -1.1272753004970282,
          -2.1655933414756112,
          -1.1259198136594757,
          -1.3123789412296885,
          -1.1609533529083036,
          1.2287664869615493,
          2.780021017577429,
          -0.9216068883607336,
          -2.2521779488030225,
          -1.312390200855429,
          1.807277902813287,
          -0.9216110207145971,
          1.0778247572008124,
          -1.1259826424671775,
          -1.1259748818449395,
          0.8240078692741131,
          -2.005238500293729,
          1.7632306310516432,
          -2.2318327765471246,
          0.8376416785483981,
          1.8712795662088937,
          -0.9216091146683372,
          -1.3123744008822331,
          0.8851073604450893,
          -1.1258881598980277,
          -2.0824729098714414,
          0.837993145177523,
          1.2245052609129954,
          -1.1259147432146943,
          0.8379983006898946,
          -1.3090476716359702,
          1.4921561013464764,
          1.0244460311038677,
          0.8239301077292959,
          -0.9216194525831761,
          -2.234122254238132,
          -1.1259836767059523,
          -2.274583292379242,
          1.228624991382491,
          0.8059615139388746,
          0.8379866671136276,
          0.7812969495684274,
          1.5494923965125849,
          -1.125924027769182,
          -0.9216137194487362,
          1.2288087019259029,
          0.837915393132184,
          0.8378085154103252,
          1.486809507969983,
          1.2287257243764804,
          -1.1259198141175453,
          1.5745477370998067,
          1.0241281862808538,
          1.0244427633492663,
          1.0244723553461796,
          1.562699426904662,
          -0.921620250086293,
          1.0284005196829993,
          -1.1909677166228838,
          1.2287549213865578,
          1.0244459286883225,
          -2.31603709206757,
          0.8379918905392635,
          -1.3123779601595063,
          1.2287648891567604,
          1.024450614303628,
          -1.8405986847116986,
          1.0244582695067785,
          -1.1259339081048185,
          0.8240829740194621,
          -1.3123767807704412,
          0.29356772463636843,
          -1.125925416117437,
          1.8771654383697693,
          1.5495005781175042,
          1.024475070972193,
          1.2283352863074333,
          -2.2326598991272544,
          1.5495532549589848,
          1.5627733047502135,
          1.8765287428451065,
          1.5493842316299584,
          1.8720838922793874,
          -2.005233683898798,
          -1.9960307620108708,
          1.5395541806390483,
          1.228764015695327,
          -1.1296234696253693,
          -0.9213635135126877,
          1.8119581940801806,
          1.2287662642446944,
          1.549496931857298,
          1.0244516528174419,
          1.024442547098352,
          -0.9216656406008396,
          1.5494923965125849,
          1.2287460626007451,
          0.8379985599045783,
          1.0244554405237598,
          0.8250377562836652,
          1.0244524698525046,
          1.0242152732453946,
          1.22876421109792,
          -2.316044921858295,
          1.0244068593343438,
          0.8295989235230341,
          1.0244541346926952,
          1.0244577388053402,
          1.5036872802918408,
          0.5730115662151656,
          -1.1259204653066963,
          -2.316041987648755,
          -2.25216301713218,
          1.0242795871410095,
          0.8379929176003581,
          1.22876513022294,
          1.0244559104410986,
          -0.9594056842077052,
          1.0244490492870224,
          -2.2757039630440175,
          0.8239733622860312,
          0.38967980087288207,
          -1.1259195295495226,
          1.5627751226263544,
          -0.9219760975593492,
          -1.9960285429343698,
          1.024608415687567,
          -1.1259048727984808,
          -2.2521583380702146,
          0.823998819881363,
          -2.2002953771968197,
          1.2287346041022986,
          1.9719631608161892,
          1.2287826466549647,
          -1.1274090050134313,
          1.5495064963427256,
          1.2287390506707543,
          -0.6635907476665309,
          1.5495506003649053,
          1.2286400055105757,
          1.0244520161289161,
          1.0244469575658242,
          1.0240767046871755,
          0.6090286601266465,
          1.2287595845326735,
          -1.1259226470196726,
          0.8233881590715341,
          -1.3126285600135932,
          1.5494840083226056,
          1.0244286160240907,
          1.858640150681562,
          0.6374643949566283,
          -1.1259400508893251,
          1.5745550827861656,
          -2.2756426089901534,
          1.8690685126973023,
          -2.284268885155697,
          -2.2494990027724207,
          -2.26523673094516,
          -2.3158364482148155,
          1.4867977972616528,
          -0.9216308498927009,
          1.4867871740464524,
          1.980536563565662,
          -1.1259176014514642,
          1.7632373030287294,
          -1.1259457180860186,
          -0.9216204571269592,
          -0.9216172649185594,
          1.0102289910688942,
          -2.3160504748170583,
          1.7632418757996398,
          -2.2144536456842765,
          -1.1153381138782597,
          -1.1677426848502372,
          1.5694232140607407,
          -0.9219651876292803,
          1.9805581232314153,
          -1.3123759978171563,
          1.2287687479065992,
          0.823996051760095,
          2.426871384698565,
          -1.1299180369221182,
          1.5494680436626884,
          -1.049843649751256,
          -1.1259223609606108,
          -1.1259426094198355,
          -1.1259406198845092,
          -1.12594005077822,
          1.0244492578364264,
          1.0244578724787294,
          -2.3160665348046447,
          1.2723550087043372,
          1.537896950035148,
          1.2287592635681657,
          -2.0012501005727783,
          0.4864208621482436,
          -0.9208590440127457,
          1.0244518531403692,
          -1.6639091879561871,
          0.7082623558467993,
          -1.9960245970300432,
          1.04071659097482,
          0.8380104595844343,
          1.4866406343064436,
          1.7587793665721767,
          -2.234155304761439,
          1.0244503843395512,
          1.7040920612051296,
          -1.125904794814284,
          1.5436253604822952,
          1.0244603106696635,
          0.6388956878966907,
          -0.9216515319216854,
          -1.6639148670429382,
          -2.0053374831830846,
          -1.6639101293364167,
          1.228731167447535,
          1.5395070776109119,
          1.4904831156316363,
          1.7632550809813843,
          -1.8406687607551624,
          1.0244363069740106,
          -2.3381478608397273,
          -2.316039811522406,
          -2.0087685314811186,
          1.286331393026502,
          1.5036888011613672,
          -0.9217781761191602,
          -2.2757852171083663,
          1.008030101065261,
          1.024404596633996,
          -1.1257150376258698,
          1.22877067340666,
          -1.2835321835910103,
          -0.9216167532002715,
          -1.6639049447166392,
          1.503656224002996,
          -1.6639320363901988,
          -1.1259200825006195,
          1.0244289290837034,
          1.0244570466641847,
          1.0282955434149672,
          -0.9216157113523481,
          -1.3123745256225663,
          -1.2333266290546503,
          1.5745413217275153,
          -0.05532474222322206,
          0.32167723576109064,
          -2.668567107695377,
          -2.3620155855162084,
          1.0244938250108164,
          -2.3160941448500196,
          -1.1244081257400491,
          -2.2340948489428305,
          -1.2417303253028813,
          1.5625908014493093,
          3.6885288088902235,
          2.0794406494164526,
          -1.1259285182254866,
          -1.1252203775132668,
          -0.9216894570700414,
          0.9170515553888534,
          2.002579656668098,
          1.2287573149691915,
          1.721223897716856,
          0.8239591350618545,
          1.5752261842020534,
          -2.00758111388336,
          -2.3163756599951615,
          -1.1259257388272823,
          -2.195582705962251,
          1.4867876810505334,
          1.0244565449938323,
          1.02445596241477,
          -1.9960144479612594,
          0.8239445482554895,
          -2.232755471315517,
          1.5667753502518262,
          1.5494675004930467,
          1.0244510697654163,
          1.4429955086258455,
          -0.9216326253732496,
          1.7041500616167324,
          1.5494648008232235,
          -2.316035931528882,
          0.6525173713802561,
          1.0232537839838578,
          -0.663574547038844,
          -2.2521675027506545,
          1.5703032273839965,
          -2.106680879562875,
          0.8240034418207262,
          -2.2326560579675796,
          -2.3162658800841265,
          -2.244842895780745,
          -2.3641366960664767,
          1.0259992547328585,
          0.8239800552942379,
          -2.286610047647326,
          1.8743460847561704,
          -2.3161202914267705,
          1.0244367407802806,
          1.6707997350405788,
          0.45175306925893066,
          1.5034413228110346,
          0.6375276588798384,
          1.505798127817068,
          -1.2973845777895636,
          -2.2046716077093005,
          -0.9216168037336666,
          0.8529848592948782,
          1.5036831679554805,
          1.7041530706708725,
          0.8175654215044544,
          0.9087103143503733,
          1.5036844563209908,
          -1.1259275713371928,
          1.024079313397261,
          -2.2762974603332915,
          -2.167455813618018,
          -0.42920274538013264,
          -2.262081961774215,
          1.0282905026339126,
          1.228763011295205,
          0.8239510716601035,
          1.5494143670141487,
          -1.3120601001513794,
          0.9832094021483371,
          1.0282655121148987,
          -0.9216183147729603,
          1.0181667297383374,
          0.9233064127326119,
          -1.2974133852726988,
          4.140059258899329,
          -1.9966668407709307,
          1.5207666073316233,
          -2.2326805098591467,
          -1.3123759994529858,
          1.9363513622589488,
          1.0374564790377347,
          -2.318121069764738,
          1.7041501052666388,
          -2.204527099963836,
          -2.204489087005945,
          -0.04614590774340232,
          -2.3284333731025355,
          -1.1259468325132367,
          1.024457102071232,
          -1.9961068405083928,
          1.7041543508128179,
          -1.9960241332273456,
          1.5036833349976373,
          1.0123720532987466,
          -1.577382842401794,
          1.0282940746111557,
          1.0244361807088065,
          1.7211619537010274,
          1.8729393320466199,
          1.2286139494064405,
          -1.3123741262887705,
          -0.38713990909221374,
          -1.312396536262865,
          1.2287669060046789,
          1.5396953976312813,
          1.0192785738402999,
          -1.1632467133674782,
          1.2288947255479319,
          -1.6633896734976497,
          1.0243829594465181,
          -2.207141076547059,
          1.0244475231052719,
          0.637529424292987,
          1.0244623611072412,
          1.2288074123772046,
          -1.125885652003924,
          1.020980576934356,
          0.8474707396932198,
          1.228647807535363,
          -1.312381339314899,
          1.0244834441673263,
          -1.129221847341223,
          1.0245200050589718,
          -1.2279281844646919,
          1.228793596737415,
          1.0244514341710496,
          1.54948797857476,
          -1.1259191234616928,
          -1.1259521421716272,
          0.6462747745026933,
          0.8379993126310398,
          1.5395471664311497,
          0.8255012985927926,
          1.0244770590421548,
          0.4864537063145866,
          -1.840672996301091,
          1.7632374420528065,
          -2.0793964774418114,
          1.5400871256765918,
          -2.005233943561594,
          1.54014130102167,
          0.6376862626452352,
          3.8759976268621226,
          1.5494910234945816,
          1.926038338300903,
          1.6096539566477979,
          0.6715863262136155,
          1.0243699807954967,
          -2.316049192703065,
          -1.9960298667002478,
          0.8239924389265806
         ],
         "z": [
          -0.5807460489366233,
          -0.5812248346536664,
          -0.6756933812882581,
          0.18268585598238377,
          0.34088670582277336,
          -0.01955911483415244,
          -0.48295853008788714,
          0.34480419504652937,
          0.3408532559859184,
          0.5282655800862319,
          0.061895079564204085,
          0.3982728016731539,
          -0.3785313148395821,
          -0.09499814657657857,
          -0.019528041909512912,
          -0.6387839084593979,
          0.07826428696386516,
          -0.019536888397206437,
          -0.5807554142111828,
          -0.5809866183365834,
          0.4047839975344101,
          -0.07675905888386718,
          0.1826060259034803,
          -0.0196088077953283,
          -0.019540418865948712,
          -0.5807926400907727,
          0.004982044964558635,
          0.16508350514949927,
          -0.019542568625041123,
          -0.5807461395613954,
          -0.019528591498212386,
          -0.5807465913736012,
          -0.01952646736344559,
          0.07826691448006035,
          -0.4430331715694281,
          -0.39611044037033943,
          0.3972228309795713,
          0.1724579400213543,
          -0.02628217306530701,
          -0.01953377468537989,
          -0.019650277071274112,
          -0.019534879048394422,
          -0.16483268047457386,
          -0.25420414493461585,
          -0.0195248352999523,
          0.24900458794705183,
          -0.02006920113447415,
          -0.019558025118814788,
          -0.019549268197271024,
          -0.5807977314386753,
          -0.20005150825631282,
          -0.06732618223108787,
          -0.48296179344783446,
          0.18268465879358983,
          -0.019619627273887615,
          -0.01953302587473838,
          -0.0195233472568685,
          -0.7481358723706556,
          -0.01954343238107807,
          0.27377641144022563,
          -0.30527205414346265,
          -0.01952641591680465,
          -0.3794991296997909,
          -0.2972187805906635,
          -0.6178069429734442,
          -0.022654307119481687,
          0.18268706399942078,
          -0.01969967860027647,
          -0.6177876607639847,
          -0.3120914310480503,
          -0.5808929560250236,
          -0.5807886568439447,
          -0.5918448273091054,
          -0.019526276076514845,
          -0.01956915895958456,
          -0.019540049150695016,
          -0.19943522376440684,
          -0.48295183229907473,
          0.18235013686660076,
          0.12798846406392875,
          0.18267228310120298,
          -0.24097491590610975,
          -0.4829538643279963,
          0.18268082977435168,
          0.18268298652859533,
          0.18269565993659717,
          0.0782710321921593,
          -0.5814005935043359,
          -0.580779973096552,
          -0.019534921004482893,
          -0.4047685923158344,
          0.265053084973789,
          -0.019607572485083366,
          -0.4829552830576602,
          0.12799589603420156,
          0.18267422650239892,
          -0.6177944517905571,
          -0.5809511304823934,
          0.3045736469044558,
          0.39765082395548423,
          -0.454956752956122,
          -0.1303851200133541,
          -0.01956421466198105,
          -0.37855249466221746,
          -0.39612867546155295,
          -0.019930266806524835,
          -0.297220535178287,
          -0.01959959199432856,
          -0.6177844769477085,
          -0.019523188519432428,
          -0.2973508901419555,
          -0.01960422558399879,
          -0.5807466046343007,
          -0.6177860999814626,
          -0.019971832904835313,
          0.37280046049161536,
          -0.19942002542154968,
          0.4056966193089824,
          0.25749263062852734,
          -0.019527069429817665,
          -0.5807534234833832,
          -0.022758717358803512,
          0.35357949944400247,
          -0.01952305480163521,
          0.18268792484513435,
          -0.0332356322801086,
          -0.4829524047878251,
          -0.7530252602547483,
          0.07825437154516976,
          0.4272627767327533,
          0.18268217693609454,
          -0.7078719131368578,
          0.07826235316666444,
          -0.15816142321322887,
          -0.01956639394211151,
          -0.019588618574330578,
          -0.29726300818793466,
          0.34092098129290815,
          -0.617798099115932,
          0.3240096049392306,
          -0.3786929029592034,
          -0.6387311120267146,
          0.07826309697095311,
          0.18268469357608103,
          -0.5254315266420126,
          -0.019633534369798863,
          0.5036905280855346,
          -0.3785322162140188,
          -0.49107235766841795,
          -0.01956168810199648,
          -0.3785310545997723,
          0.17124162986602268,
          -0.6205924764195926,
          -0.5807557160330921,
          -0.29725851624091837,
          0.07824189020644565,
          0.45283680540480165,
          -0.019548062153989524,
          0.31794826903653933,
          -0.48301300819382625,
          -0.3259636745181344,
          -0.37853516698249495,
          -0.42306030395693245,
          -0.16484108315059168,
          -0.019528196679570942,
          0.07826259356094135,
          -0.4830139527384364,
          -0.37856119815490136,
          -0.3786121090014666,
          -0.6168252245786703,
          -0.48298178317696766,
          -0.019523053202856813,
          -0.1754858062254749,
          -0.5813519889198312,
          -0.5807543705798672,
          -0.5807988138837761,
          -0.33427782049065563,
          0.0782672412772765,
          -0.19976269185690454,
          0.9974196751466698,
          -0.4829651767833714,
          -0.5807758059974537,
          0.4017517129381357,
          -0.37853090325515826,
          0.1826919581873921,
          -0.48295252784223036,
          -0.5807501565517637,
          0.405163810711301,
          -0.5807467833501381,
          -0.01959677574661235,
          -0.297274452703105,
          0.1826907398224317,
          -0.3571241633070338,
          -0.019531409215571453,
          -0.6928217742671893,
          -0.16486958903315962,
          -0.5807587405969731,
          -0.4832756175256165,
          0.43192405113517657,
          -0.1648927959622352,
          -0.334247436107558,
          -0.6795426312458468,
          -0.1648821411883252,
          -0.6839571234373635,
          0.3409136473746821,
          0.5282662500155422,
          0.2940568251648975,
          -0.48296324782211625,
          -0.021087575158654358,
          0.07788499908293801,
          -0.6528125204846645,
          -0.4829538649111045,
          -0.1648569126413835,
          -0.5807582634819591,
          -0.5807532365402086,
          0.07821427268567697,
          -0.16484108315059168,
          -0.4829630727672953,
          -0.3785352296416953,
          -0.5807586319831751,
          -0.20648450358767628,
          -0.5807544175223909,
          -0.5808471638419952,
          -0.4829528854009301,
          0.40175266458081427,
          -0.5807706843740376,
          -0.3148582336308157,
          -0.5807493014628271,
          -0.5807477984895196,
          -0.27257660453256055,
          -0.3037514752220693,
          -0.019523470981917052,
          0.40174889612846265,
          0.42727558491553425,
          -0.5808296485989212,
          -0.37853163419277097,
          -0.48295536846136605,
          -0.580753505641149,
          0.06316289509942227,
          -0.580749434817918,
          0.34477897960022397,
          -0.2972195476227525,
          -0.41115603952063706,
          -0.019524408178702116,
          -0.33425378095132346,
          0.07811093246407574,
          0.5282663509834399,
          -0.5812736986075195,
          -0.019575433618461213,
          0.42726763427245357,
          -0.29722902312931854,
          0.5045808590532741,
          -0.48297172037292074,
          -0.629040576391913,
          -0.48301011183343867,
          -0.020143206271480585,
          -0.1648890448769446,
          -0.4829748849014476,
          -0.055567919495513624,
          -0.1650421281717464,
          -0.48307242032129116,
          -0.5807512433045307,
          -0.5807507465804329,
          -0.5808952911579398,
          -0.10620877919415282,
          -0.4829642948516002,
          -0.019535698819687742,
          -0.2976200864365892,
          0.18182424598352404,
          -0.16483931404759633,
          -0.5807697858322971,
          -0.6675302074131952,
          -0.0950254810282092,
          -0.019538636453514262,
          -0.1755189679450539,
          0.34476891997268655,
          -0.6033876937775757,
          0.35786723260623005,
          0.3364393449074148,
          0.5605661460463144,
          0.4007730007491194,
          -0.616783285563531,
          0.07824328047962822,
          -0.6168219317807363,
          -0.6684620565246295,
          -0.019532466366727723,
          -0.6177944462325576,
          -0.019535863407949893,
          0.07825268654463255,
          0.0782676791590269,
          -0.5916230776097736,
          0.4017427545435812,
          -0.6177930371560186,
          0.4309649894861934,
          -0.11106544660392735,
          0.20104002856280098,
          -0.06558585383011,
          0.07806116215779715,
          -0.6684774000817975,
          0.18268583008081948,
          -0.4829580074730761,
          -0.2972199034816574,
          2.4893224586710807,
          -0.021087967558193577,
          -0.16484122619992433,
          -0.07366458803414397,
          -0.019529382911903752,
          -0.0195418563144107,
          -0.019549993174980008,
          -0.01955039819586393,
          -0.5807606386416513,
          -0.5807482650431821,
          0.4017395286909038,
          0.06344661797758613,
          -0.03454751648727241,
          -0.48295860565572646,
          0.5231683164369068,
          -0.312218417285927,
          0.07697990160821314,
          -0.5807488258926209,
          0.2491280695253213,
          -0.012615199250409593,
          0.5282618625293511,
          -0.6028189712204682,
          -0.3785773031438641,
          -0.6171713067086483,
          -0.5235657800110551,
          0.45280727043103475,
          -0.5807499928912042,
          -0.5561476303218449,
          -0.019575489118161475,
          -0.08596296229475905,
          -0.5807544479568827,
          -0.09974058925363445,
          0.07815298459060868,
          0.24912455014174567,
          0.3408809103756032,
          0.24912672320054477,
          -0.4829877571922876,
          0.29393282511564156,
          -0.632003630028652,
          -0.6178827091171702,
          0.4054405144237139,
          -0.5808193655556421,
          0.3817866298003726,
          0.4017525981679978,
          0.3392397373344027,
          -0.3332535565748848,
          -0.2725797872001823,
          0.07815910270121897,
          0.34449467577646864,
          -0.590058174198769,
          -0.5807715944145739,
          -0.02176882636063865,
          -0.4829763871622208,
          0.010992231776150661,
          0.07826693692650444,
          0.2491275700580855,
          -0.2725986086673089,
          0.2489456421740186,
          -0.01954948705731182,
          -0.5811039558554157,
          -0.5807475933165929,
          -0.19942082469169364,
          0.07826485127533007,
          0.18268513268067432,
          0.08263995798201426,
          -0.1754776700360628,
          0.0632391056803047,
          -0.3831576213853639,
          0.23258465112194085,
          0.303199156241465,
          -0.5808695412302275,
          0.4016553768288808,
          -0.024799224864740413,
          0.45278789747878323,
          0.26467728234853566,
          -0.3344525496980349,
          11.653283235757176,
          15.518270335762445,
          -0.019533402105048277,
          -0.02775259342404616,
          0.07811696620446516,
          -0.47858256569302,
          9.089704619628282,
          -0.4829563787603308,
          -0.47168131446919725,
          -0.29723840650763955,
          -0.24851821073885588,
          0.33986488530671866,
          0.40157680574761795,
          -0.019527399015188927,
          0.46572941469999946,
          -0.6167928884465985,
          -0.5807468162290326,
          -0.5807472417386675,
          0.5282340567414661,
          -0.29738596772216463,
          0.43187503928632914,
          -0.14014092294802794,
          -0.16485192922053823,
          -0.5807542612288902,
          0.3983013609030144,
          0.07824454405150416,
          -0.5561889079854873,
          -0.1648466474475209,
          0.4017473585083647,
          -0.04620121751435717,
          -0.5820411003027111,
          -0.05556800168002762,
          0.42727193866763463,
          -0.14688893812636541,
          0.3938932396503356,
          -0.29722877286739,
          0.4319258961107387,
          0.40166670125520537,
          0.3987773318859154,
          0.3586964521310441,
          -0.5861280757835623,
          -0.29721969024140676,
          0.353493804956116,
          -0.6824561179396876,
          0.40139506534992797,
          -0.5807667468016176,
          -0.3552111441751835,
          -0.3516295731351458,
          -0.2726682995272185,
          -0.09502857345389876,
          0.07767420523284455,
          0.23148830554273053,
          0.4402543180028858,
          0.07826646881876763,
          -0.3297549313451735,
          -0.2725761982263489,
          -0.5561092013109666,
          -0.29972665143435095,
          -0.2961512143190297,
          -0.2726102998215978,
          -0.01952655913284072,
          -0.5808971477216174,
          0.3445439660766804,
          0.40735625170239886,
          0.08951422445993941,
          0.3336206606540063,
          -0.1994315192943501,
          -0.4829709341998937,
          -0.2972897960342951,
          -0.1648653624968914,
          0.18158770890898315,
          -0.3586459112923596,
          -0.1994326367447576,
          0.0782658639557957,
          -0.583830297094005,
          0.47722699523186024,
          0.23147607438299334,
          13.889841509252179,
          0.5255353035738096,
          -0.18814642919713778,
          0.4319124236376135,
          0.1826858312450045,
          -0.1787966589499478,
          -0.20593164716464687,
          0.3998449563155373,
          -0.5561276103773916,
          0.377667854574758,
          0.377674360608662,
          0.2505632376160697,
          0.5050864995686166,
          -0.019553972966844677,
          -0.5807547737584614,
          0.5282188231061782,
          -0.5561159448852444,
          0.5282573797435454,
          -0.2725731120534677,
          -0.6035657227669142,
          0.25747524154799994,
          -0.19941923329792774,
          -0.5807663482106197,
          -0.4718220563632429,
          -0.6835132529255822,
          -0.483020271992002,
          0.18266643559941306,
          -0.0565593577136452,
          0.18263869812511416,
          -0.4829653047940231,
          0.2935887720471097,
          -0.5917625828239206,
          -0.03416585860524989,
          -0.4830436694717888,
          0.24708944608874656,
          -0.5807771986569774,
          0.3766319071322786,
          -0.5807619261568971,
          -0.0949965350265221,
          -0.5807496952554675,
          -0.48319156024015025,
          -0.01996716611309195,
          -0.5826824069840476,
          -0.3853477893367424,
          -0.4832880025583725,
          0.1826808102640931,
          -0.580771000513525,
          -0.03817577733813801,
          -0.5809587429952948,
          0.1650713835092299,
          -0.4830590705965107,
          -0.58080912829102,
          -0.16483331834444762,
          -0.019525386080224298,
          -0.01957623787847792,
          -0.07218077646634163,
          -0.37857147039040273,
          0.29404714922574393,
          -0.3024881497607117,
          -0.5808861732850692,
          -0.31209904221693013,
          0.40571959181150224,
          -0.6177819937980912,
          0.587549156817803,
          0.29373004690258075,
          0.3409145536631204,
          0.2936914914577129,
          -0.09551939171303517,
          18.226533580613104,
          -0.16483533166641595,
          -0.7806659469653497,
          -0.1312430048520811,
          0.12038559141297159,
          -0.5807889649962625,
          0.40117634862463103,
          0.5282656128419477,
          -0.2972104408557586
         ]
        }
       ],
       "layout": {
        "autosize": true,
        "coloraxis": {
         "colorbar": {
          "title": {
           "text": "Class"
          }
         },
         "colorscale": [
          [
           0,
           "#0d0887"
          ],
          [
           0.1111111111111111,
           "#46039f"
          ],
          [
           0.2222222222222222,
           "#7201a8"
          ],
          [
           0.3333333333333333,
           "#9c179e"
          ],
          [
           0.4444444444444444,
           "#bd3786"
          ],
          [
           0.5555555555555556,
           "#d8576b"
          ],
          [
           0.6666666666666666,
           "#ed7953"
          ],
          [
           0.7777777777777778,
           "#fb9f3a"
          ],
          [
           0.8888888888888888,
           "#fdca26"
          ],
          [
           1,
           "#f0f921"
          ]
         ]
        },
        "legend": {
         "tracegroupgap": 0
        },
        "margin": {
         "t": 60
        },
        "scene": {
         "aspectmode": "auto",
         "aspectratio": {
          "x": 1,
          "y": 1,
          "z": 1
         },
         "camera": {
          "center": {
           "x": 0,
           "y": 0,
           "z": 0
          },
          "eye": {
           "x": 0.8732358871592046,
           "y": 0.8732358871592044,
           "z": 0.8732358871592044
          },
          "projection": {
           "type": "perspective"
          },
          "up": {
           "x": 0,
           "y": 0,
           "z": 1
          }
         },
         "domain": {
          "x": [
           0,
           1
          ],
          "y": [
           0,
           1
          ]
         },
         "xaxis": {
          "title": {
           "text": "PC1"
          },
          "type": "linear"
         },
         "yaxis": {
          "title": {
           "text": "PC2"
          },
          "type": "linear"
         },
         "zaxis": {
          "title": {
           "text": "PC3"
          },
          "type": "linear"
         }
        },
        "template": {
         "data": {
          "bar": [
           {
            "error_x": {
             "color": "#2a3f5f"
            },
            "error_y": {
             "color": "#2a3f5f"
            },
            "marker": {
             "line": {
              "color": "#E5ECF6",
              "width": 0.5
             },
             "pattern": {
              "fillmode": "overlay",
              "size": 10,
              "solidity": 0.2
             }
            },
            "type": "bar"
           }
          ],
          "barpolar": [
           {
            "marker": {
             "line": {
              "color": "#E5ECF6",
              "width": 0.5
             },
             "pattern": {
              "fillmode": "overlay",
              "size": 10,
              "solidity": 0.2
             }
            },
            "type": "barpolar"
           }
          ],
          "carpet": [
           {
            "aaxis": {
             "endlinecolor": "#2a3f5f",
             "gridcolor": "white",
             "linecolor": "white",
             "minorgridcolor": "white",
             "startlinecolor": "#2a3f5f"
            },
            "baxis": {
             "endlinecolor": "#2a3f5f",
             "gridcolor": "white",
             "linecolor": "white",
             "minorgridcolor": "white",
             "startlinecolor": "#2a3f5f"
            },
            "type": "carpet"
           }
          ],
          "choropleth": [
           {
            "colorbar": {
             "outlinewidth": 0,
             "ticks": ""
            },
            "type": "choropleth"
           }
          ],
          "contour": [
           {
            "colorbar": {
             "outlinewidth": 0,
             "ticks": ""
            },
            "colorscale": [
             [
              0,
              "#0d0887"
             ],
             [
              0.1111111111111111,
              "#46039f"
             ],
             [
              0.2222222222222222,
              "#7201a8"
             ],
             [
              0.3333333333333333,
              "#9c179e"
             ],
             [
              0.4444444444444444,
              "#bd3786"
             ],
             [
              0.5555555555555556,
              "#d8576b"
             ],
             [
              0.6666666666666666,
              "#ed7953"
             ],
             [
              0.7777777777777778,
              "#fb9f3a"
             ],
             [
              0.8888888888888888,
              "#fdca26"
             ],
             [
              1,
              "#f0f921"
             ]
            ],
            "type": "contour"
           }
          ],
          "contourcarpet": [
           {
            "colorbar": {
             "outlinewidth": 0,
             "ticks": ""
            },
            "type": "contourcarpet"
           }
          ],
          "heatmap": [
           {
            "colorbar": {
             "outlinewidth": 0,
             "ticks": ""
            },
            "colorscale": [
             [
              0,
              "#0d0887"
             ],
             [
              0.1111111111111111,
              "#46039f"
             ],
             [
              0.2222222222222222,
              "#7201a8"
             ],
             [
              0.3333333333333333,
              "#9c179e"
             ],
             [
              0.4444444444444444,
              "#bd3786"
             ],
             [
              0.5555555555555556,
              "#d8576b"
             ],
             [
              0.6666666666666666,
              "#ed7953"
             ],
             [
              0.7777777777777778,
              "#fb9f3a"
             ],
             [
              0.8888888888888888,
              "#fdca26"
             ],
             [
              1,
              "#f0f921"
             ]
            ],
            "type": "heatmap"
           }
          ],
          "heatmapgl": [
           {
            "colorbar": {
             "outlinewidth": 0,
             "ticks": ""
            },
            "colorscale": [
             [
              0,
              "#0d0887"
             ],
             [
              0.1111111111111111,
              "#46039f"
             ],
             [
              0.2222222222222222,
              "#7201a8"
             ],
             [
              0.3333333333333333,
              "#9c179e"
             ],
             [
              0.4444444444444444,
              "#bd3786"
             ],
             [
              0.5555555555555556,
              "#d8576b"
             ],
             [
              0.6666666666666666,
              "#ed7953"
             ],
             [
              0.7777777777777778,
              "#fb9f3a"
             ],
             [
              0.8888888888888888,
              "#fdca26"
             ],
             [
              1,
              "#f0f921"
             ]
            ],
            "type": "heatmapgl"
           }
          ],
          "histogram": [
           {
            "marker": {
             "pattern": {
              "fillmode": "overlay",
              "size": 10,
              "solidity": 0.2
             }
            },
            "type": "histogram"
           }
          ],
          "histogram2d": [
           {
            "colorbar": {
             "outlinewidth": 0,
             "ticks": ""
            },
            "colorscale": [
             [
              0,
              "#0d0887"
             ],
             [
              0.1111111111111111,
              "#46039f"
             ],
             [
              0.2222222222222222,
              "#7201a8"
             ],
             [
              0.3333333333333333,
              "#9c179e"
             ],
             [
              0.4444444444444444,
              "#bd3786"
             ],
             [
              0.5555555555555556,
              "#d8576b"
             ],
             [
              0.6666666666666666,
              "#ed7953"
             ],
             [
              0.7777777777777778,
              "#fb9f3a"
             ],
             [
              0.8888888888888888,
              "#fdca26"
             ],
             [
              1,
              "#f0f921"
             ]
            ],
            "type": "histogram2d"
           }
          ],
          "histogram2dcontour": [
           {
            "colorbar": {
             "outlinewidth": 0,
             "ticks": ""
            },
            "colorscale": [
             [
              0,
              "#0d0887"
             ],
             [
              0.1111111111111111,
              "#46039f"
             ],
             [
              0.2222222222222222,
              "#7201a8"
             ],
             [
              0.3333333333333333,
              "#9c179e"
             ],
             [
              0.4444444444444444,
              "#bd3786"
             ],
             [
              0.5555555555555556,
              "#d8576b"
             ],
             [
              0.6666666666666666,
              "#ed7953"
             ],
             [
              0.7777777777777778,
              "#fb9f3a"
             ],
             [
              0.8888888888888888,
              "#fdca26"
             ],
             [
              1,
              "#f0f921"
             ]
            ],
            "type": "histogram2dcontour"
           }
          ],
          "mesh3d": [
           {
            "colorbar": {
             "outlinewidth": 0,
             "ticks": ""
            },
            "type": "mesh3d"
           }
          ],
          "parcoords": [
           {
            "line": {
             "colorbar": {
              "outlinewidth": 0,
              "ticks": ""
             }
            },
            "type": "parcoords"
           }
          ],
          "pie": [
           {
            "automargin": true,
            "type": "pie"
           }
          ],
          "scatter": [
           {
            "marker": {
             "colorbar": {
              "outlinewidth": 0,
              "ticks": ""
             }
            },
            "type": "scatter"
           }
          ],
          "scatter3d": [
           {
            "line": {
             "colorbar": {
              "outlinewidth": 0,
              "ticks": ""
             }
            },
            "marker": {
             "colorbar": {
              "outlinewidth": 0,
              "ticks": ""
             }
            },
            "type": "scatter3d"
           }
          ],
          "scattercarpet": [
           {
            "marker": {
             "colorbar": {
              "outlinewidth": 0,
              "ticks": ""
             }
            },
            "type": "scattercarpet"
           }
          ],
          "scattergeo": [
           {
            "marker": {
             "colorbar": {
              "outlinewidth": 0,
              "ticks": ""
             }
            },
            "type": "scattergeo"
           }
          ],
          "scattergl": [
           {
            "marker": {
             "colorbar": {
              "outlinewidth": 0,
              "ticks": ""
             }
            },
            "type": "scattergl"
           }
          ],
          "scattermapbox": [
           {
            "marker": {
             "colorbar": {
              "outlinewidth": 0,
              "ticks": ""
             }
            },
            "type": "scattermapbox"
           }
          ],
          "scatterpolar": [
           {
            "marker": {
             "colorbar": {
              "outlinewidth": 0,
              "ticks": ""
             }
            },
            "type": "scatterpolar"
           }
          ],
          "scatterpolargl": [
           {
            "marker": {
             "colorbar": {
              "outlinewidth": 0,
              "ticks": ""
             }
            },
            "type": "scatterpolargl"
           }
          ],
          "scatterternary": [
           {
            "marker": {
             "colorbar": {
              "outlinewidth": 0,
              "ticks": ""
             }
            },
            "type": "scatterternary"
           }
          ],
          "surface": [
           {
            "colorbar": {
             "outlinewidth": 0,
             "ticks": ""
            },
            "colorscale": [
             [
              0,
              "#0d0887"
             ],
             [
              0.1111111111111111,
              "#46039f"
             ],
             [
              0.2222222222222222,
              "#7201a8"
             ],
             [
              0.3333333333333333,
              "#9c179e"
             ],
             [
              0.4444444444444444,
              "#bd3786"
             ],
             [
              0.5555555555555556,
              "#d8576b"
             ],
             [
              0.6666666666666666,
              "#ed7953"
             ],
             [
              0.7777777777777778,
              "#fb9f3a"
             ],
             [
              0.8888888888888888,
              "#fdca26"
             ],
             [
              1,
              "#f0f921"
             ]
            ],
            "type": "surface"
           }
          ],
          "table": [
           {
            "cells": {
             "fill": {
              "color": "#EBF0F8"
             },
             "line": {
              "color": "white"
             }
            },
            "header": {
             "fill": {
              "color": "#C8D4E3"
             },
             "line": {
              "color": "white"
             }
            },
            "type": "table"
           }
          ]
         },
         "layout": {
          "annotationdefaults": {
           "arrowcolor": "#2a3f5f",
           "arrowhead": 0,
           "arrowwidth": 1
          },
          "autotypenumbers": "strict",
          "coloraxis": {
           "colorbar": {
            "outlinewidth": 0,
            "ticks": ""
           }
          },
          "colorscale": {
           "diverging": [
            [
             0,
             "#8e0152"
            ],
            [
             0.1,
             "#c51b7d"
            ],
            [
             0.2,
             "#de77ae"
            ],
            [
             0.3,
             "#f1b6da"
            ],
            [
             0.4,
             "#fde0ef"
            ],
            [
             0.5,
             "#f7f7f7"
            ],
            [
             0.6,
             "#e6f5d0"
            ],
            [
             0.7,
             "#b8e186"
            ],
            [
             0.8,
             "#7fbc41"
            ],
            [
             0.9,
             "#4d9221"
            ],
            [
             1,
             "#276419"
            ]
           ],
           "sequential": [
            [
             0,
             "#0d0887"
            ],
            [
             0.1111111111111111,
             "#46039f"
            ],
            [
             0.2222222222222222,
             "#7201a8"
            ],
            [
             0.3333333333333333,
             "#9c179e"
            ],
            [
             0.4444444444444444,
             "#bd3786"
            ],
            [
             0.5555555555555556,
             "#d8576b"
            ],
            [
             0.6666666666666666,
             "#ed7953"
            ],
            [
             0.7777777777777778,
             "#fb9f3a"
            ],
            [
             0.8888888888888888,
             "#fdca26"
            ],
            [
             1,
             "#f0f921"
            ]
           ],
           "sequentialminus": [
            [
             0,
             "#0d0887"
            ],
            [
             0.1111111111111111,
             "#46039f"
            ],
            [
             0.2222222222222222,
             "#7201a8"
            ],
            [
             0.3333333333333333,
             "#9c179e"
            ],
            [
             0.4444444444444444,
             "#bd3786"
            ],
            [
             0.5555555555555556,
             "#d8576b"
            ],
            [
             0.6666666666666666,
             "#ed7953"
            ],
            [
             0.7777777777777778,
             "#fb9f3a"
            ],
            [
             0.8888888888888888,
             "#fdca26"
            ],
            [
             1,
             "#f0f921"
            ]
           ]
          },
          "colorway": [
           "#636efa",
           "#EF553B",
           "#00cc96",
           "#ab63fa",
           "#FFA15A",
           "#19d3f3",
           "#FF6692",
           "#B6E880",
           "#FF97FF",
           "#FECB52"
          ],
          "font": {
           "color": "#2a3f5f"
          },
          "geo": {
           "bgcolor": "white",
           "lakecolor": "white",
           "landcolor": "#E5ECF6",
           "showlakes": true,
           "showland": true,
           "subunitcolor": "white"
          },
          "hoverlabel": {
           "align": "left"
          },
          "hovermode": "closest",
          "mapbox": {
           "style": "light"
          },
          "paper_bgcolor": "white",
          "plot_bgcolor": "#E5ECF6",
          "polar": {
           "angularaxis": {
            "gridcolor": "white",
            "linecolor": "white",
            "ticks": ""
           },
           "bgcolor": "#E5ECF6",
           "radialaxis": {
            "gridcolor": "white",
            "linecolor": "white",
            "ticks": ""
           }
          },
          "scene": {
           "xaxis": {
            "backgroundcolor": "#E5ECF6",
            "gridcolor": "white",
            "gridwidth": 2,
            "linecolor": "white",
            "showbackground": true,
            "ticks": "",
            "zerolinecolor": "white"
           },
           "yaxis": {
            "backgroundcolor": "#E5ECF6",
            "gridcolor": "white",
            "gridwidth": 2,
            "linecolor": "white",
            "showbackground": true,
            "ticks": "",
            "zerolinecolor": "white"
           },
           "zaxis": {
            "backgroundcolor": "#E5ECF6",
            "gridcolor": "white",
            "gridwidth": 2,
            "linecolor": "white",
            "showbackground": true,
            "ticks": "",
            "zerolinecolor": "white"
           }
          },
          "shapedefaults": {
           "line": {
            "color": "#2a3f5f"
           }
          },
          "ternary": {
           "aaxis": {
            "gridcolor": "white",
            "linecolor": "white",
            "ticks": ""
           },
           "baxis": {
            "gridcolor": "white",
            "linecolor": "white",
            "ticks": ""
           },
           "bgcolor": "#E5ECF6",
           "caxis": {
            "gridcolor": "white",
            "linecolor": "white",
            "ticks": ""
           }
          },
          "title": {
           "x": 0.05
          },
          "xaxis": {
           "automargin": true,
           "gridcolor": "white",
           "linecolor": "white",
           "ticks": "",
           "title": {
            "standoff": 15
           },
           "zerolinecolor": "white",
           "zerolinewidth": 2
          },
          "yaxis": {
           "automargin": true,
           "gridcolor": "white",
           "linecolor": "white",
           "ticks": "",
           "title": {
            "standoff": 15
           },
           "zerolinecolor": "white",
           "zerolinewidth": 2
          }
         }
        }
       }
      },
      "image/png": "[encoded data removed]",
      "text/html": [
       "<div>                            <div id=\"d39354c8-6ff6-4adc-85bd-92efa6ee159e\" class=\"plotly-graph-div\" style=\"height:525px; width:100%;\"></div>            <script type=\"text/javascript\">                require([\"plotly\"], function(Plotly) {                    window.PLOTLYENV=window.PLOTLYENV || {};                                    if (document.getElementById(\"d39354c8-6ff6-4adc-85bd-92efa6ee159e\")) {                    Plotly.newPlot(                        \"d39354c8-6ff6-4adc-85bd-92efa6ee159e\",                        [{\"customdata\":[[\"Scrypt\"],[\"Scrypt\"],[\"X13\"],[\"SHA-256\"],[\"Ethash\"],[\"Scrypt\"],[\"X11\"],[\"CryptoNight-V7\"],[\"Ethash\"],[\"Equihash\"],[\"SHA-512\"],[\"Multiple\"],[\"SHA-256\"],[\"SHA-256\"],[\"Scrypt\"],[\"X15\"],[\"X11\"],[\"Scrypt\"],[\"Scrypt\"],[\"Scrypt\"],[\"Multiple\"],[\"Scrypt\"],[\"SHA-256\"],[\"Scrypt\"],[\"Scrypt\"],[\"Scrypt\"],[\"Quark\"],[\"Groestl\"],[\"Scrypt\"],[\"Scrypt\"],[\"Scrypt\"],[\"Scrypt\"],[\"Scrypt\"],[\"X11\"],[\"Scrypt\"],[\"Groestl\"],[\"Multiple\"],[\"SHA-256\"],[\"Scrypt\"],[\"Scrypt\"],[\"Scrypt\"],[\"Scrypt\"],[\"PoS\"],[\"Scrypt\"],[\"Scrypt\"],[\"NeoScrypt\"],[\"Scrypt\"],[\"Scrypt\"],[\"Scrypt\"],[\"Scrypt\"],[\"X11\"],[\"Scrypt\"],[\"X11\"],[\"SHA-256\"],[\"Scrypt\"],[\"Scrypt\"],[\"Scrypt\"],[\"SHA3\"],[\"Scrypt\"],[\"HybridScryptHash256\"],[\"Scrypt\"],[\"Scrypt\"],[\"SHA-256\"],[\"Scrypt\"],[\"X13\"],[\"Scrypt\"],[\"SHA-256\"],[\"Scrypt\"],[\"X13\"],[\"NeoScrypt\"],[\"Scrypt\"],[\"Scrypt\"],[\"Scrypt\"],[\"Scrypt\"],[\"Scrypt\"],[\"Scrypt\"],[\"X11\"],[\"X11\"],[\"SHA-256\"],[\"Multiple\"],[\"SHA-256\"],[\"PHI1612\"],[\"X11\"],[\"SHA-256\"],[\"SHA-256\"],[\"SHA-256\"],[\"X11\"],[\"Scrypt\"],[\"Scrypt\"],[\"Scrypt\"],[\"Scrypt\"],[\"Lyra2REv2\"],[\"Scrypt\"],[\"X11\"],[\"Multiple\"],[\"SHA-256\"],[\"X13\"],[\"Scrypt\"],[\"CryptoNight\"],[\"CryptoNight\"],[\"Shabal256\"],[\"Counterparty\"],[\"Scrypt\"],[\"SHA-256\"],[\"Groestl\"],[\"Scrypt\"],[\"Scrypt\"],[\"Scrypt\"],[\"X13\"],[\"Scrypt\"],[\"Scrypt\"],[\"Scrypt\"],[\"Scrypt\"],[\"X13\"],[\"Scrypt\"],[\"Stanford Folding\"],[\"X11\"],[\"Multiple\"],[\"QuBit\"],[\"Scrypt\"],[\"Scrypt\"],[\"Scrypt\"],[\"M7 POW\"],[\"Scrypt\"],[\"SHA-256\"],[\"Scrypt\"],[\"X11\"],[\"SHA3\"],[\"X11\"],[\"Lyra2RE\"],[\"SHA-256\"],[\"QUAIT\"],[\"X11\"],[\"X11\"],[\"Scrypt\"],[\"Scrypt\"],[\"Scrypt\"],[\"Ethash\"],[\"X13\"],[\"Blake2b\"],[\"SHA-256\"],[\"X15\"],[\"X11\"],[\"SHA-256\"],[\"BLAKE256\"],[\"Scrypt\"],[\"1GB AES Pattern Search\"],[\"SHA-256\"],[\"X11\"],[\"Scrypt\"],[\"SHA-256\"],[\"SHA-256\"],[\"NIST5\"],[\"Scrypt\"],[\"Scrypt\"],[\"X11\"],[\"Dagger\"],[\"Scrypt\"],[\"X11GOST\"],[\"X11\"],[\"Scrypt\"],[\"SHA-256\"],[\"Scrypt\"],[\"PoS\"],[\"Scrypt\"],[\"X11\"],[\"X11\"],[\"SHA-256\"],[\"SHA-256\"],[\"NIST5\"],[\"X11\"],[\"Scrypt\"],[\"POS 3.0\"],[\"Scrypt\"],[\"Scrypt\"],[\"Scrypt\"],[\"X13\"],[\"X11\"],[\"X11\"],[\"Equihash\"],[\"X11\"],[\"Scrypt\"],[\"CryptoNight\"],[\"SHA-256\"],[\"SHA-256\"],[\"X11\"],[\"Scrypt\"],[\"Multiple\"],[\"Scrypt\"],[\"Scrypt\"],[\"Scrypt\"],[\"SHA-256\"],[\"Scrypt\"],[\"Scrypt\"],[\"SHA-256D\"],[\"PoS\"],[\"Scrypt\"],[\"X11\"],[\"Lyra2Z\"],[\"PoS\"],[\"X13\"],[\"X14\"],[\"PoS\"],[\"SHA-256D\"],[\"Ethash\"],[\"Equihash\"],[\"DPoS\"],[\"X11\"],[\"Scrypt\"],[\"X11\"],[\"X13\"],[\"X11\"],[\"PoS\"],[\"Scrypt\"],[\"Scrypt\"],[\"X11\"],[\"PoS\"],[\"X11\"],[\"SHA-256\"],[\"Scrypt\"],[\"X11\"],[\"Scrypt\"],[\"Scrypt\"],[\"X11\"],[\"CryptoNight\"],[\"Scrypt\"],[\"Scrypt\"],[\"Scrypt\"],[\"Scrypt\"],[\"Quark\"],[\"QuBit\"],[\"Scrypt\"],[\"CryptoNight\"],[\"Lyra2RE\"],[\"Scrypt\"],[\"SHA-256\"],[\"X11\"],[\"Scrypt\"],[\"X11\"],[\"Scrypt\"],[\"CryptoNight-V7\"],[\"Scrypt\"],[\"Scrypt\"],[\"Scrypt\"],[\"X13\"],[\"X11\"],[\"Equihash\"],[\"Scrypt\"],[\"Scrypt\"],[\"Lyra2RE\"],[\"Scrypt\"],[\"Dagger-Hashimoto\"],[\"X11\"],[\"Blake2S\"],[\"X11\"],[\"Scrypt\"],[\"PoS\"],[\"X11\"],[\"NIST5\"],[\"PoS\"],[\"X11\"],[\"Scrypt\"],[\"Scrypt\"],[\"Scrypt\"],[\"SHA-256\"],[\"X11\"],[\"Scrypt\"],[\"Scrypt\"],[\"SHA-256\"],[\"PoS\"],[\"Scrypt\"],[\"X15\"],[\"SHA-256\"],[\"Scrypt\"],[\"POS 3.0\"],[\"CryptoNight-V7\"],[\"536\"],[\"Argon2d\"],[\"Blake2b\"],[\"Cloverhash\"],[\"CryptoNight\"],[\"NIST5\"],[\"X11\"],[\"NIST5\"],[\"Skein\"],[\"Scrypt\"],[\"X13\"],[\"Scrypt\"],[\"X11\"],[\"X11\"],[\"Scrypt\"],[\"CryptoNight\"],[\"X13\"],[\"Time Travel\"],[\"Scrypt\"],[\"Keccak\"],[\"SkunkHash v2 Raptor\"],[\"X11\"],[\"Skein\"],[\"SHA-256\"],[\"X11\"],[\"Scrypt\"],[\"VeChainThor Authority\"],[\"Scrypt\"],[\"PoS\"],[\"Scrypt\"],[\"Scrypt\"],[\"Scrypt\"],[\"Scrypt\"],[\"Scrypt\"],[\"Scrypt\"],[\"Scrypt\"],[\"CryptoNight\"],[\"SHA-512\"],[\"Ouroboros\"],[\"X11\"],[\"Equihash\"],[\"NeoScrypt\"],[\"X11\"],[\"Scrypt\"],[\"NeoScrypt\"],[\"Lyra2REv2\"],[\"Equihash\"],[\"Scrypt\"],[\"SHA-256\"],[\"NIST5\"],[\"PHI1612\"],[\"Dagger\"],[\"Scrypt\"],[\"Quark\"],[\"Scrypt\"],[\"POS 2.0\"],[\"Scrypt\"],[\"SHA-256\"],[\"X11\"],[\"NeoScrypt\"],[\"Ethash\"],[\"NeoScrypt\"],[\"X11\"],[\"DPoS\"],[\"NIST5\"],[\"X13\"],[\"Multiple\"],[\"Scrypt\"],[\"CryptoNight\"],[\"CryptoNight\"],[\"Ethash\"],[\"NIST5\"],[\"Quark\"],[\"X11\"],[\"CryptoNight-V7\"],[\"Scrypt\"],[\"Scrypt\"],[\"Scrypt\"],[\"X11\"],[\"BLAKE256\"],[\"X11\"],[\"NeoScrypt\"],[\"Quark\"],[\"NeoScrypt\"],[\"Scrypt\"],[\"Scrypt\"],[\"Scrypt\"],[\"X11\"],[\"X11\"],[\"SHA-256\"],[\"C11\"],[\"POS 3.0\"],[\"Ethash\"],[\"Scrypt\"],[\"CryptoNight\"],[\"SkunkHash\"],[\"Scrypt\"],[\"CryptoNight\"],[\"Scrypt\"],[\"Dagger\"],[\"Lyra2REv2\"],[\"X13\"],[\"Proof-of-BibleHash\"],[\"SHA-256 + Hive\"],[\"Scrypt\"],[\"Scrypt\"],[\"X11\"],[\"C11\"],[\"Proof-of-Authority\"],[\"X11\"],[\"XEVAN\"],[\"Scrypt\"],[\"VBFT\"],[\"Ethash\"],[\"CryptoNight\"],[\"Scrypt\"],[\"IMesh\"],[\"NIST5\"],[\"Scrypt\"],[\"Scrypt\"],[\"Equihash\"],[\"Scrypt\"],[\"Lyra2Z\"],[\"Green Protocol\"],[\"PoS\"],[\"Scrypt\"],[\"Semux BFT consensus\"],[\"X11\"],[\"Quark\"],[\"PoS\"],[\"CryptoNight\"],[\"X16R\"],[\"Scrypt\"],[\"NIST5\"],[\"Lyra2RE\"],[\"XEVAN\"],[\"Tribus\"],[\"Scrypt\"],[\"Lyra2Z\"],[\"CryptoNight\"],[\"CryptoNight Heavy\"],[\"CryptoNight\"],[\"Scrypt\"],[\"Scrypt\"],[\"Jump Consistent Hash\"],[\"SHA-256D\"],[\"CryptoNight\"],[\"Scrypt\"],[\"X15\"],[\"Scrypt\"],[\"Quark\"],[\"SHA-256\"],[\"DPoS\"],[\"X16R\"],[\"HMQ1725\"],[\"X11\"],[\"X16R\"],[\"Quark\"],[\"Quark\"],[\"Scrypt\"],[\"Lyra2REv2\"],[\"Quark\"],[\"Scrypt\"],[\"Scrypt\"],[\"CryptoNight-V7\"],[\"Cryptonight-GPU\"],[\"XEVAN\"],[\"CryptoNight Heavy\"],[\"X11\"],[\"X11\"],[\"Scrypt\"],[\"PoS\"],[\"SHA-256\"],[\"Keccak\"],[\"X11\"],[\"X11\"],[\"Scrypt\"],[\"SHA-512\"],[\"X16R\"],[\"ECC 256K1\"],[\"Equihash\"],[\"XEVAN\"],[\"Lyra2Z\"],[\"SHA-256\"],[\"XEVAN\"],[\"X11\"],[\"CryptoNight\"],[\"Quark\"],[\"Blake\"],[\"Blake\"],[\"Equihash\"],[\"Exosis\"],[\"Scrypt\"],[\"Scrypt\"],[\"Equihash\"],[\"Quark\"],[\"Equihash\"],[\"Quark\"],[\"Scrypt\"],[\"QuBit\"],[\"X11\"],[\"Scrypt\"],[\"XEVAN\"],[\"SHA-256D\"],[\"X11\"],[\"SHA-256\"],[\"X13\"],[\"SHA-256\"],[\"X11\"],[\"DPoS\"],[\"Scrypt\"],[\"Scrypt\"],[\"X11\"],[\"NeoScrypt\"],[\"Scrypt\"],[\"Blake\"],[\"Scrypt\"],[\"SHA-256\"],[\"Scrypt\"],[\"X11\"],[\"Scrypt\"],[\"Scrypt\"],[\"SHA-256\"],[\"X11\"],[\"SHA-256\"],[\"Scrypt\"],[\"Scrypt\"],[\"Scrypt\"],[\"Groestl\"],[\"X11\"],[\"Scrypt\"],[\"PoS\"],[\"Scrypt\"],[\"Scrypt\"],[\"X11\"],[\"SHA-256\"],[\"DPoS\"],[\"Scrypt\"],[\"Scrypt\"],[\"NeoScrypt\"],[\"Multiple\"],[\"X13\"],[\"Equihash+Scrypt\"],[\"DPoS\"],[\"Ethash\"],[\"DPoS\"],[\"SHA-256\"],[\"Leased POS\"],[\"PoS\"],[\"TRC10\"],[\"PoS\"],[\"SHA-256\"],[\"Scrypt\"],[\"CryptoNight\"],[\"Equihash\"],[\"Scrypt\"]],\"hovertemplate\":\"<b>%{hovertext}</b><br><br>PC1=%{x}<br>PC2=%{y}<br>PC3=%{z}<br>Algorithm=%{customdata[0]}<br>Class=%{marker.color}<extra></extra>\",\"hovertext\":[\"42 Coin\",\"404Coin\",\"EliteCoin\",\"Bitcoin\",\"Ethereum\",\"Litecoin\",\"Dash\",\"Monero\",\"Ethereum Classic\",\"ZCash\",\"Bitshares\",\"DigiByte\",\"BitcoinDark\",\"PayCoin\",\"ProsperCoin\",\"KoboCoin\",\"Spreadcoin\",\"Argentum\",\"Aurora Coin\",\"BlueCoin\",\"MyriadCoin\",\"MoonCoin\",\"ZetaCoin\",\"SexCoin\",\"Quatloo\",\"EnergyCoin\",\"QuarkCoin\",\"Riecoin\",\"Digitalcoin \",\"BitBar\",\"Catcoin\",\"CryptoBullion\",\"CannaCoin\",\"CryptCoin\",\"CasinoCoin\",\"Diamond\",\"Verge\",\"DevCoin\",\"EarthCoin\",\"E-Gulden\",\"Einsteinium\",\"Emerald\",\"Exclusive Coin\",\"FlutterCoin\",\"Franko\",\"FeatherCoin\",\"GrandCoin\",\"GlobalCoin\",\"GoldCoin\",\"HoboNickels\",\"HyperStake\",\"Infinite Coin\",\"IOCoin\",\"IXcoin\",\"KrugerCoin\",\"LuckyCoin\",\"Litebar \",\"MaxCoin\",\"MegaCoin\",\"MediterraneanCoin\",\"MintCoin\",\"MinCoin\",\"MazaCoin\",\"Nautilus Coin\",\"NavCoin\",\"NobleCoin\",\"Namecoin\",\"NyanCoin\",\"OpalCoin\",\"Orbitcoin\",\"PotCoin\",\"PhoenixCoin\",\"Reddcoin\",\"RonPaulCoin\",\"StableCoin\",\"SmartCoin\",\"SuperCoin\",\"SyncCoin\",\"SysCoin\",\"TeslaCoin\",\"TigerCoin\",\"TittieCoin\",\"TorCoin\",\"TerraCoin\",\"UnbreakableCoin\",\"Unobtanium\",\"UroCoin\",\"UnitaryStatus Dollar\",\"UltraCoin\",\"ViaCoin\",\"VeriCoin\",\"Vertcoin\",\"WorldCoin\",\"X11 Coin\",\"Crypti\",\"JouleCoin\",\"StealthCoin\",\"ZCC Coin\",\"ByteCoin\",\"DigitalNote \",\"BurstCoin\",\"StorjCoin\",\"MonaCoin\",\"Neutron\",\"FairCoin\",\"Gulden\",\"RubyCoin\",\"PesetaCoin\",\"Kore\",\"Wild Beast Coin\",\"Dnotes\",\"Flo\",\"8BIT Coin\",\"Sativa Coin\",\"ArtByte\",\"Folding Coin\",\"Ucoin\",\"Unitus\",\"CypherPunkCoin\",\"OmniCron\",\"Vtorrent\",\"GreenCoin\",\"Cryptonite\",\"MasterCoin\",\"SoonCoin\",\"1Credit\",\"IslaCoin\",\"Nexus\",\"MarsCoin \",\"Crypto\",\"Anarchists Prime\",\"Droidz\",\"BowsCoin\",\"Squall Coin\",\"Song Coin\",\"BitZeny\",\"Diggits\",\"Expanse\",\"Paycon\",\"Siacoin\",\"Emercoin\",\"EverGreenCoin\",\"MindCoin\",\"I0coin\",\"Decred\",\"Revolution VR\",\"HOdlcoin\",\"EDRCoin\",\"Hitcoin\",\"Gamecredits\",\"DubaiCoin\",\"CarpeDiemCoin\",\"PWR Coin\",\"BillaryCoin\",\"GPU Coin\",\"Adzcoin\",\"SoilCoin\",\"YoCoin\",\"SibCoin\",\"EuropeCoin\",\"ZeitCoin\",\"SwingCoin\",\"SafeExchangeCoin\",\"Nebuchadnezzar\",\"Francs\",\"BolivarCoin\",\"Ratecoin\",\"Revenu\",\"Clockcoin\",\"VIP Tokens\",\"BitSend\",\"Omni\",\"Let it Ride\",\"PutinCoin\",\"iBankCoin\",\"Frankywillcoin\",\"MudraCoin\",\"PizzaCoin\",\"Lutetium Coin\",\"Komodo\",\"GoldBlocks\",\"CarterCoin\",\"Karbo\",\"BitTokens\",\"ZayedCoin\",\"MustangCoin\",\"ZoneCoin\",\"Circuits of Value\",\"RootCoin\",\"DopeCoin\",\"BitCurrency\",\"DollarCoin\",\"Swiscoin\",\"Shilling\",\"BuzzCoin\",\"Opair\",\"PesoBit\",\"Halloween Coin\",\"ZCoin\",\"CoffeeCoin\",\"RoyalCoin\",\"GanjaCoin V2\",\"TeamUP\",\"LanaCoin\",\"Elementrem\",\"ZClassic\",\"ARK\",\"InsaneCoin\",\"KiloCoin\",\"ArtexCoin\",\"EmberCoin\",\"XenixCoin\",\"FreeCoin\",\"PLNCoin\",\"AquariusCoin\",\"Kurrent\",\"Creatio\",\"Eternity\",\"Eurocoin\",\"BitcoinFast\",\"Stakenet\",\"BitConnect Coin\",\"MoneyCoin\",\"Enigma\",\"Cannabis Industry Coin\",\"Russiacoin\",\"PandaCoin\",\"GameUnits\",\"GAKHcoin\",\"Allsafe\",\"LiteCreed\",\"OsmiumCoin\",\"Bikercoins\",\"HexxCoin\",\"Klingon Empire Darsek\",\"Internet of People\",\"KushCoin\",\"Printerium\",\"PacCoin\",\"Impeach\",\"Citadel\",\"Zilbercoin\",\"FirstCoin\",\"BeaverCoin\",\"FindCoin\",\"VaultCoin\",\"Zero\",\"OpenChat\",\"Canada eCoin\",\"Zoin\",\"RenosCoin\",\"DubaiCoin\",\"VirtacoinPlus\",\"TajCoin\",\"Impact\",\"EB3coin\",\"Atmos\",\"HappyCoin\",\"Coinonat\",\"MacronCoin\",\"Condensate\",\"Independent Money System\",\"ArgusCoin\",\"LomoCoin\",\"ProCurrency\",\"GoldReserve\",\"BenjiRolls\",\"GrowthCoin\",\"ILCoin\",\"Phreak\",\"Degas Coin\",\"HTML5 Coin\",\"Ultimate Secure Cash\",\"EquiTrader\",\"QTUM\",\"Quantum Resistant Ledger\",\"Espers\",\"Dynamic\",\"Nano\",\"ChanCoin\",\"Dinastycoin\",\"Denarius\",\"DigitalPrice\",\"Virta Unique Coin\",\"Bitcoin Planet\",\"Unify\",\"BritCoin\",\"SocialCoin\",\"ArcticCoin\",\"DAS\",\"Linda\",\"LeviarCoin\",\"DeepOnion\",\"Bitcore\",\"gCn Coin\",\"SmartCash\",\"Signatum\",\"Onix\",\"Cream\",\"Bitcoin Cash\",\"Monoeci\",\"Draftcoin\",\"Vechain\",\"Sojourn Coin\",\"Stakecoin\",\"NewYorkCoin\",\"FrazCoin\",\"Kronecoin\",\"AdCoin\",\"Linx\",\"CoinonatX\",\"Ethereum Dark\",\"Sumokoin\",\"Obsidian\",\"Cardano\",\"Regalcoin\",\"BitcoinZ\",\"TrezarCoin\",\"Elements\",\"TerraNovaCoin\",\"VIVO Coin\",\"Rupee\",\"Bitcoin Gold\",\"WomenCoin\",\"Theresa May Coin\",\"NamoCoin\",\"LUXCoin\",\"Pirl\",\"Xios\",\"Bitcloud 2.0\",\"eBoost\",\"KekCoin\",\"BlackholeCoin\",\"Infinity Economics\",\"Pura\",\"Innova\",\"Ellaism\",\"GoByte\",\"Magnet\",\"Lamden Tau\",\"Electra\",\"Bitcoin Diamond\",\"SHIELD\",\"Cash & Back Coin\",\"UltraNote\",\"BitCoal\",\"DaxxCoin\",\"Bulwark\",\"Kalkulus\",\"AC3\",\"Lethean\",\"GermanCoin\",\"LiteCoin Ultra\",\"PopularCoin\",\"PhantomX\",\"Photon\",\"Sucre\",\"SparksPay\",\"Digiwage\",\"GunCoin\",\"IrishCoin\",\"Trollcoin\",\"Litecoin Plus\",\"Monkey Project\",\"Pioneer Coin\",\"UnitedBitcoin\",\"Interzone\",\"TokenPay\",\"1717 Masonic Commemorative Token\",\"My Big Coin\",\"TurtleCoin\",\"MUNcoin\",\"Unified Society USDEX\",\"Niobio Cash\",\"ShareChain\",\"Travelflex\",\"KREDS\",\"Tokyo Coin\",\"BiblePay\",\"LitecoinCash\",\"BitFlip\",\"LottoCoin\",\"Crypto Improvement Fund\",\"Stipend\",\"Poa Network\",\"Pushi\",\"Ellerium\",\"Velox\",\"Ontology\",\"Callisto Network\",\"BitTube\",\"Poseidon\",\"Aidos Kuneen\",\"Bitspace\",\"Briacoin\",\"Ignition\",\"Bitrolium\",\"MedicCoin\",\"Alpenschillling\",\"Bitcoin Green\",\"Deviant Coin\",\"Abjcoin\",\"Semux\",\"FuturoCoin\",\"Carebit\",\"Zealium\",\"Monero Classic\",\"Proton\",\"iDealCash\",\"Jumpcoin\",\"Infinex\",\"Bitcoin Incognito\",\"KEYCO\",\"HollyWoodCoin\",\"GINcoin\",\"PlatinCoin\",\"Loki\",\"Newton Coin\",\"Swisscoin\",\"Xt3ch\",\"MassGrid\",\"TheVig\",\"PluraCoin\",\"EmaratCoin\",\"Dekado\",\"Lynx\",\"Poseidon Quark\",\"BitcoinWSpectrum\",\"Muse\",\"Motion\",\"PlusOneCoin\",\"Axe\",\"Trivechain\",\"Dystem\",\"Giant\",\"Peony Coin\",\"Absolute Coin\",\"Vitae\",\"HexCoin\",\"TPCash\",\"Webchain\",\"Ryo\",\"Urals Coin\",\"Qwertycoin\",\"ARENON\",\"EUNO\",\"MMOCoin\",\"Ketan\",\"Project Pai\",\"XDNA\",\"PAXEX\",\"Azart\",\"ThunderStake\",\"Kcash\",\"Xchange\",\"Acute Angle Cloud\",\"CrypticCoin\",\"Bettex coin\",\"Actinium\",\"Bitcoin SV\",\"BitMoney\",\"Junson Ming Chan Coin\",\"FREDEnergy\",\"HerbCoin\",\"Universal Molecule\",\"Lithium\",\"PirateCash\",\"Exosis\",\"Block-Logic\",\"Oduwa\",\"Beam\",\"Galilel\",\"Bithereum\",\"Crypto Sports\",\"Credit\",\"SLICE\",\"Dash Platinum\",\"Nasdacoin\",\"Beetle Coin\",\"Titan Coin\",\"Award\",\"BLAST\",\"Bitcoin Rhodium\",\"GlobalToken\",\"Insane Coin\",\"ALAX\",\"LiteDoge\",\"SolarCoin\",\"TruckCoin\",\"UFO Coin\",\"OrangeCoin\",\"BlakeCoin\",\"BitstarCoin\",\"NeosCoin\",\"HyperCoin\",\"PinkCoin\",\"Crypto Escudo\",\"AudioCoin\",\"IncaKoin\",\"Piggy Coin\",\"Crown Coin\",\"Genstake\",\"SmileyCoin\",\"XiaoMiCoin\",\"Groestlcoin\",\"CapriCoin\",\" ClubCoin\",\"Radium\",\"Bata\",\"Pakcoin\",\"Creditbit \",\"OKCash\",\"Lisk\",\"HiCoin\",\"WhiteCoin\",\"FriendshipCoin\",\"JoinCoin\",\"Triangles Coin\",\"Vollar\",\"EOS\",\"Reality Clash\",\"Oxycoin\",\"TigerCash\",\"Waves\",\"Particl\",\"BitTorrent\",\"Nxt\",\"ZEPHYR\",\"Gapcoin\",\"Beldex\",\"Horizen\",\"BitcoinPlus\"],\"legendgroup\":\"\",\"marker\":{\"color\":[0,0,0,1,1,1,0,1,1,1,0,1,0,0,1,0,1,1,0,0,1,1,1,1,1,0,1,1,1,0,1,0,1,1,0,0,1,1,1,1,1,1,0,0,1,1,1,1,1,0,0,1,0,1,1,1,1,0,1,1,0,1,0,0,0,1,1,1,0,0,0,0,0,1,1,1,0,0,1,0,1,0,0,1,1,1,1,0,0,1,0,1,1,0,0,1,0,0,1,1,0,0,1,0,0,1,0,1,0,1,0,1,0,0,1,1,0,1,1,1,0,1,1,1,1,1,0,0,1,1,1,0,1,0,1,1,0,1,0,1,0,0,1,1,0,1,1,0,0,1,0,1,0,0,0,1,1,1,1,0,0,0,0,0,1,1,0,0,0,0,0,1,0,0,0,0,0,1,0,1,0,0,1,0,1,0,0,1,0,1,0,1,0,1,0,0,0,0,1,0,0,0,0,0,1,1,0,0,1,1,0,0,0,0,0,1,0,0,0,0,0,0,0,0,1,0,0,0,0,0,0,1,1,1,0,0,0,0,1,0,1,0,0,1,0,1,1,0,1,1,0,1,0,0,0,1,0,0,1,0,0,0,0,0,0,0,1,0,1,0,0,0,0,1,0,1,0,1,1,1,1,0,1,0,0,1,0,1,1,1,0,1,0,1,1,1,0,1,0,1,0,0,0,1,0,1,1,1,1,1,0,0,1,0,0,0,1,0,1,0,1,0,1,0,0,0,0,1,0,0,1,0,0,0,1,1,1,1,0,0,0,0,1,0,1,1,1,0,0,1,1,0,0,1,0,1,1,1,0,1,1,0,0,0,1,1,1,0,0,0,1,1,0,1,1,1,1,0,3,3,1,1,1,0,3,0,0,0,0,1,1,1,1,0,0,0,1,0,1,0,0,0,0,1,0,0,1,0,0,1,1,0,1,0,1,1,1,1,0,0,1,0,1,0,0,0,0,0,0,1,1,1,0,0,0,0,0,0,1,0,1,1,1,1,0,0,0,0,1,0,0,1,0,0,1,3,1,0,1,1,0,0,1,0,1,1,0,1,1,0,1,0,1,0,0,1,0,0,0,0,0,1,1,1,0,0,0,1,0,1,0,1,0,0,0,0,1,0,0,0,1,0,1,0,1,0,0,0,1,1,0,0,0,0,0,0,1,0,1,0,1,0,0,3,0,2,0,0,0,1,1,0],\"coloraxis\":\"coloraxis\",\"symbol\":\"circle\"},\"mode\":\"markers\",\"name\":\"\",\"scene\":\"scene\",\"showlegend\":false,\"type\":\"scatter3d\",\"x\":[-0.3364370866007136,-0.31978061422118687,2.307322628477937,-0.14483091481499732,-0.15759103205989505,-0.1687020307402411,-0.391850185847779,-0.16313320188927236,-0.1560337774164657,-0.1278102671598798,-0.2573128426280714,0.16232491790010162,-0.3113970132922987,-0.26684319899063796,-0.16984786542429253,-0.25091362368619724,-0.22546850473636504,-0.1694645707220594,-0.33609678994768766,-0.32867662358896715,-0.09098419003410363,2.5507369505096134,-0.1419168652754537,-0.16672098897020152,-0.16926870421573603,-0.33493411527560374,-0.23027001255394863,-0.2010012684720305,-0.16931739047945488,-0.33643302467236536,-0.16983013639130995,-0.33641731120047147,-0.16991655682497311,-0.22555781940686712,0.6015299533103688,-0.3685001710161074,0.18607362342581715,0.2328813767938283,0.07872577823775478,-0.16966293336049715,-0.1652698570061898,-0.16960225915798394,-0.355217581508866,-0.27889431246588,-0.1699735412740543,-0.1748348967753272,-0.14920360943669886,-0.16876906393330562,-0.16904643725566249,-0.33449661462441976,-0.32712614803375956,1.5783230550174066,-0.39174491400317607,-0.14479229502603547,-0.1663368505797851,-0.16968936620879757,-0.1700440553162861,-0.4035329654340044,-0.1693035678293466,-0.15154885124403025,-0.031882945403895996,-0.16992536673779696,-0.27471770718469,-0.2916344708782603,-0.2754139358648184,-0.03488881361044681,-0.1448698839094117,-0.16359149861573674,-0.2760359554365953,-0.3460680201278531,-0.3307416398920864,-0.3348394472280718,0.0215953983760941,-0.16990482895264836,-0.16800001002235404,-0.16939175659021302,-0.34700670251857285,-0.3921163434359302,-0.13202673757685,-0.24596462237264705,-0.14433383727953447,-0.30410266202818653,-0.3920280233560202,-0.144620955189931,-0.14460399693204848,-0.14519442916785608,-0.22573164060181025,-0.3116788409458269,-0.33511501954564893,-0.16962140022576333,-0.3012329453837648,-0.19086988455771065,-0.16672572274641048,-0.39199250419903875,-0.24643208515377785,-0.14440111052274696,-0.2758168855499543,-0.32754424801149723,3.8560601568386623,0.45621692818493115,-0.15867350665672034,-0.33094369985634425,-0.16848942297384978,-0.3106090293730789,-0.36792190414688575,-0.15309477863154344,-0.29161471470019684,-0.16720868217800533,-0.27611133527958065,-0.17004626576269743,-0.28627104491145533,-0.1670737504629993,-0.33641916059582605,-0.27606353261066724,-0.15330238380951025,-0.12864144626771007,-0.34745143837080067,-0.12497854595400246,-0.1866728064862007,-0.16991937982212793,-0.3361536498172997,-0.04290651524694334,-0.11544816087730002,-0.17005515307223174,-0.144897653698099,0.4817932747356074,-0.39209787795357454,-0.38946487782873657,-0.22511904273808062,-0.1514788333587357,-0.14463763341231545,-0.4163393497276404,-0.22540384572764585,-0.3491012632218065,-0.1681797461976619,-0.16737226758149934,-0.2900168725218105,-0.15865821644902411,-0.2755853690360409,0.3588661888870596,-0.30395731497009293,-0.25335389355384297,-0.22543922575197092,-0.14479341706499554,-0.08381264188786908,-0.16601442784842144,-0.13050527104085022,-0.3113679360985092,-0.06969968978513358,-0.16861902038994425,-0.31143159573733437,0.2735441418035756,-0.23732463004085744,-0.33602959736689064,-0.2898861197648982,-0.22460027501183807,-0.1509498610305711,-0.16886649401950732,-0.17939802279606387,-0.3892684563329901,0.8610421279297714,-0.311231759021794,-0.12896593640531745,-0.3549009784862475,-0.16984514990756858,-0.22540249186689343,-0.38994163163799855,-0.3099759308403877,-0.30764528047728357,-0.3586464415225031,-0.3908336420135261,-0.17005521154661762,-0.3475461620790211,-0.3123358956102046,-0.3360676865852437,-0.3345072396941876,-0.23025254300236472,-0.22555242128917338,-0.33494689822257756,-0.16038889171082746,-0.39157201117629237,-0.3352722165532009,0.30117854650377657,-0.3114125676513891,-0.14505341422114343,-0.39208707686889,-0.3362567597108182,-0.10505821534560657,-0.33641339545002896,-0.16722298600312058,-0.2898754038723139,-0.14501205663119468,-0.24486839117759393,-0.1697187458924142,0.036093135147189814,-0.3538584478349539,-0.3360276698633599,-0.3782556928180447,-0.14931477006827354,-0.35318724576267396,-0.2316824451127242,-0.416405433819013,-0.3529366139774061,-0.27832017985732105,-0.15840045785292636,-0.12783187822807635,3.734011252907329,-0.3916797803879595,-0.09681543880133901,-0.21214011877396388,0.8557571000882864,-0.3920420015572787,-0.3543220241711263,-0.3359552989074831,-0.3361095826561721,-0.22338145660441122,-0.3549009784862475,-0.3916171123744297,-0.3112752810886777,-0.33595602704090544,-0.37260278145807596,-0.336103366032999,-0.33169358617899847,-0.39207098814234637,0.3011728965755742,-0.33531446650838065,0.3513969714762387,-0.33630256114241824,-0.3363730977329401,-0.35683497438971384,-0.35219277129350396,-0.17003695739414626,0.30130357073379027,-0.15201905024953669,-0.33260168350972624,-0.3113889885329357,-0.3919809729760378,-0.336150999512185,0.48935452665073104,-0.3362779165707932,-0.16189850743646975,-0.2915213277107712,-0.3053445716851915,-0.1700052542172468,-0.23145038618391517,-0.21828985818868266,-0.12784424399875663,-0.31713861024054,-0.16813917279925886,-0.1517375237506143,-0.2912625094158056,-0.14886074796688942,-0.3912470648609106,-0.41677800891538397,-0.38998583344904036,-0.14094259083821026,-0.3531481885217765,-0.3911449811923811,-0.19346781337367028,-0.3475501975199799,-0.3870877450429785,-0.3362212194124015,-0.3362204196540379,-0.32934555365324625,0.26555674622803543,-0.3916232328609307,-0.16956779783336606,-0.27417136158373673,-0.11139137016504913,-0.35493527581404566,-0.3354322619004508,0.8805536171705163,-0.2655342634598554,-0.16938996329791464,-0.34632497543457713,-0.1617561701289244,0.6110524003901293,-0.16517740534895922,-0.041326545430374964,-0.14566234925873464,0.3372821235140797,-0.36018151434362966,-0.2246086887593923,-0.3586843479395137,-0.3982565916795877,-0.16970906207452197,-0.2757487497843725,-0.16947258671765247,-0.22500320320855832,-0.2255804375267271,0.12830046753361554,0.30156772834778,-0.27581948550188856,-0.15191253328023488,3.2384183869146557,-0.1123100572194747,-0.32812004631908354,-0.21645661449497894,-0.3977616280251905,-0.14483007926349772,-0.39189549278823094,-0.29159545628085465,4.401072072965927,-0.09566419616449158,-0.3548016337603459,1.5764804909215784,-0.16980688356006834,-0.16925876865362285,-0.16895984917419332,-0.1689467837152051,-0.3358565634124052,-0.33635603380714246,0.3017512381375633,-0.31535449825984174,0.6648644498240882,-0.39183636228201085,0.08439370132048209,-0.34106932294301523,-0.17998250526162154,-0.3363116781726502,-0.1795219006736585,-0.31350649642226847,-0.12769034349952826,0.4325365504489543,-0.309735869886887,-0.34495461463389765,-0.384176501797099,-0.14970947857991115,-0.33626203919247133,-0.39976790990739514,-0.1681373824494601,-0.34018947156818724,-0.33613246957872833,-0.09339197204066937,-0.22112656597172525,-0.17936738079647468,-0.15676647107661756,-0.17946753953785574,-0.39062954202829964,3.7388652751518423,0.19909974275654735,-0.272491610940858,-0.11521399652314862,-0.33359378032670384,1.1387633190910609,0.30115568303508145,-0.08169023519735327,-0.31545477772452674,-0.35672091973376485,-0.22086849471406025,-0.1508725156218511,0.07781867230018161,-0.3352714467453111,-0.08622498408067583,-0.3912103786016707,1.0874570666460202,-0.22555444459705318,-0.17951945150731236,-0.35588604625881803,-0.17255992539125875,-0.1690581539584528,-0.3228420125658933,-0.33637815828695994,-0.3474233777630825,-0.22547987720109292,-0.1448094811797825,-0.2070748779430182,-0.34782798114288427,-0.2807545714607623,-0.2890515188463218,8.035438850660185,-0.1743076813696829,-0.33192507912151914,0.3050285839374533,0.02291766365292582,-0.14921275168765746,-0.17643336611609628,-0.22324969964060848,-0.2656365562551759,-0.33137218011424346,-0.16963168612408744,0.13733369095341158,-0.21962308331188904,-0.37347891043641523,-0.38255421993580657,-0.3919127534346626,-0.30383466615997706,-0.29075583941466265,-0.320024315546022,-0.10982680458059481,0.30907522714998625,-0.16986860437814225,-0.14717682253741204,-0.35978065079388044,-0.3364055033127151,-0.33638722257536485,-0.12668178285620724,-0.2851394867533312,-0.1470992909259998,-0.3316443276421373,-0.35439625058545227,-0.3361038535253922,3.9380034717334578,-0.2246494499822608,-0.39843634493726704,-0.35458485121970845,0.3013381430909139,-0.3119516370864093,-0.2829968287230847,-0.1935272196058212,-0.15186435461829886,-0.26097185445633264,-0.16290435447893076,-0.2912897709338805,-0.14939910777348378,0.30526444604013686,0.5753603190179334,2.109062802470111,-0.13959262026991723,-0.2915417758694161,-0.15038328243489751,-0.3436054206561055,0.3149379414091018,-0.335578117709639,-0.2082075574545065,2.250954650072525,-0.35243100830091184,-0.2656618172550945,1.0246920418186356,-0.19018899559534527,-0.14211432451014866,-0.22553661143398918,-0.35577881072503476,-0.35683441829981566,-0.4014512849944619,-0.172331982394974,-0.35792521018829004,-0.35555444785258283,-0.16989318104504883,-0.3292856632684793,-0.1507535008994613,-0.1524335049974609,-0.13622689784503336,3.0969594526877775,-0.3470009597387514,-0.3913862842362807,-0.2887883836579353,-0.35368509558675243,-0.10467185221189576,-0.3388263973797179,-0.34686243961937774,-0.22550799064861268,-0.19595412510046856,-0.2801437993299767,-0.18961698715331562,-0.39625336788899207,-0.022476355505333983,-0.25933737897267184,-0.14879713101638536,-0.14483011681862606,0.5533686094011678,-0.1374403398061061,0.3810648429167467,-0.4007461944958022,-0.14189342227483398,-0.14228522439974053,-0.24902029100767223,-0.16397705382575326,-0.168785922773425,-0.33610781449065924,-0.12575132702569208,-0.4012021273740687,-0.1275232224372188,-0.35695134911162596,0.5700288052151347,-0.18588413998255207,-0.34747767442274113,-0.3355909757486581,-0.29829255731697235,-0.2983454631048515,-0.388952157363764,-0.14410651968932447,-0.10982190927611879,-0.1429749184795743,-0.3916134250884124,3.751102574218663,0.09864319865534153,0.5256919225601029,-0.3891537952354317,-0.10471130839937019,-0.33497680257506357,-0.09277426974847999,-0.3358013574152775,-0.26687582961382006,-0.3363194610847842,-0.3832444426732093,-0.1534529285802195,-0.2500623661123589,-0.09112364460628905,-0.37899475172763597,-0.14462032581378528,-0.3355980230065034,0.545514992554447,-0.3286649792115802,-0.20056241922039,-0.3881833234451055,-0.3340378799057086,-0.35517651011949963,-0.16996997380034579,-0.16792650056370584,-0.3771425613421712,-0.3099126412575552,3.7344029014933167,-0.09889635602186271,-0.3312337027012904,-0.34569406540480957,-0.12571323361775188,-0.2762184912940392,-0.10839673650945687,3.7442680582718473,-0.1584336048196522,3.7455118079239034,-0.24777978928429772,-0.3986390664189754,-0.35511239603642414,34.05813510618342,-0.3715844558789343,2.4789810760410327,-0.33448337699068986,0.32290483938594033,-0.1278113238176944,-0.29193806754763485],\"y\":[1.0244572375368224,1.0248159866388447,1.6591819117607862,-1.3123760342121715,-2.005180360075354,-1.1259183589860562,1.2287621085723408,-2.275630200072841,-2.005257308605102,-1.996029820674264,1.2724638691959753,-1.8426026324568034,0.8379918786308311,0.6375367057448733,-1.125924835478301,1.8711626909619548,-0.9216131477103519,-1.1259377852339445,1.024460499529159,1.0247952684234578,-1.8405371883536272,-1.2721466586711114,-1.3123516874240795,-1.125946513400011,-1.1259540730166784,1.024522704108858,-0.4461812405805922,-1.2279328219398917,-1.1259204579673112,1.0244570697823558,-1.1259240632356893,1.0244574095177852,-1.1259224086520057,-0.9216156592329315,0.7870194217957415,0.9224500413088975,-1.8385036840029796,-1.3103870895662273,-1.1243902239974892,-1.1259167801929342,-1.1259176331163518,-1.1259217210319614,1.5494923944218058,0.389199855002239,-1.1259235779882752,-1.6639180638383249,-1.1259905392105132,-1.1259116268531553,-1.1259252569470555,1.0244590296252434,1.0291941296974594,-1.1122254255743964,1.2287666940116213,-1.3123743520083722,-1.1259404125768762,-1.1259172421305894,-1.125919833903723,2.240975539135999,-1.125915604875877,-2.2642707202850083,0.8353206297984562,-1.1259206275958968,0.8379368656953744,0.8239951975209848,1.7632725696725866,-1.1303731969590056,-1.3123777316310508,-1.12587017891247,1.7632454756952,0.4864762999370269,1.024415761181307,1.0244592638771695,1.0400524446805592,-1.1259273167001453,-1.126002225099506,-1.1259257889319898,1.0283281709429974,1.2287656819511914,-1.312416041566941,0.10924357250362722,-1.3123723158080076,1.5583205129969453,1.2287626354293189,-1.312381366729315,-1.3124068262644486,-1.3123775626005407,-0.9216108208744969,1.0244325768907472,1.0244458816236506,-1.1259163499422435,0.23870880796190352,-1.2416586950567563,-1.1259573511012675,1.2287672849944753,0.10929215336587138,-1.3123738589973104,1.7632550179585373,1.024155166099865,-2.2883631140222,-2.3161712880709,1.720028732193441,1.5715338823958345,-1.1259236588864194,0.8379944880806172,0.9224782491903817,-1.1263388616513417,0.824007212981746,-1.1259101106777303,1.7632339191769404,-1.1259208112734969,0.82389525975632,-1.1258998306343162,1.024458018388105,1.7632373802222054,-1.1258790945629724,-2.2128627332159008,1.028295010575239,-1.840639064324104,-1.5773482525565365,-1.1259157968418998,1.0244557949989004,-1.1272753004970282,-2.1655933414756112,-1.1259198136594757,-1.3123789412296885,-1.1609533529083036,1.2287664869615493,2.780021017577429,-0.9216068883607336,-2.2521779488030225,-1.312390200855429,1.807277902813287,-0.9216110207145971,1.0778247572008124,-1.1259826424671775,-1.1259748818449395,0.8240078692741131,-2.005238500293729,1.7632306310516432,-2.2318327765471246,0.8376416785483981,1.8712795662088937,-0.9216091146683372,-1.3123744008822331,0.8851073604450893,-1.1258881598980277,-2.0824729098714414,0.837993145177523,1.2245052609129954,-1.1259147432146943,0.8379983006898946,-1.3090476716359702,1.4921561013464764,1.0244460311038677,0.8239301077292959,-0.9216194525831761,-2.234122254238132,-1.1259836767059523,-2.274583292379242,1.228624991382491,0.8059615139388746,0.8379866671136276,0.7812969495684274,1.5494923965125849,-1.125924027769182,-0.9216137194487362,1.2288087019259029,0.837915393132184,0.8378085154103252,1.486809507969983,1.2287257243764804,-1.1259198141175453,1.5745477370998067,1.0241281862808538,1.0244427633492663,1.0244723553461796,1.562699426904662,-0.921620250086293,1.0284005196829993,-1.1909677166228838,1.2287549213865578,1.0244459286883225,-2.31603709206757,0.8379918905392635,-1.3123779601595063,1.2287648891567604,1.024450614303628,-1.8405986847116986,1.0244582695067785,-1.1259339081048185,0.8240829740194621,-1.3123767807704412,0.29356772463636843,-1.125925416117437,1.8771654383697693,1.5495005781175042,1.024475070972193,1.2283352863074333,-2.2326598991272544,1.5495532549589848,1.5627733047502135,1.8765287428451065,1.5493842316299584,1.8720838922793874,-2.005233683898798,-1.9960307620108708,1.5395541806390483,1.228764015695327,-1.1296234696253693,-0.9213635135126877,1.8119581940801806,1.2287662642446944,1.549496931857298,1.0244516528174419,1.024442547098352,-0.9216656406008396,1.5494923965125849,1.2287460626007451,0.8379985599045783,1.0244554405237598,0.8250377562836652,1.0244524698525046,1.0242152732453946,1.22876421109792,-2.316044921858295,1.0244068593343438,0.8295989235230341,1.0244541346926952,1.0244577388053402,1.5036872802918408,0.5730115662151656,-1.1259204653066963,-2.316041987648755,-2.25216301713218,1.0242795871410095,0.8379929176003581,1.22876513022294,1.0244559104410986,-0.9594056842077052,1.0244490492870224,-2.2757039630440175,0.8239733622860312,0.38967980087288207,-1.1259195295495226,1.5627751226263544,-0.9219760975593492,-1.9960285429343698,1.024608415687567,-1.1259048727984808,-2.2521583380702146,0.823998819881363,-2.2002953771968197,1.2287346041022986,1.9719631608161892,1.2287826466549647,-1.1274090050134313,1.5495064963427256,1.2287390506707543,-0.6635907476665309,1.5495506003649053,1.2286400055105757,1.0244520161289161,1.0244469575658242,1.0240767046871755,0.6090286601266465,1.2287595845326735,-1.1259226470196726,0.8233881590715341,-1.3126285600135932,1.5494840083226056,1.0244286160240907,1.858640150681562,0.6374643949566283,-1.1259400508893251,1.5745550827861656,-2.2756426089901534,1.8690685126973023,-2.284268885155697,-2.2494990027724207,-2.26523673094516,-2.3158364482148155,1.4867977972616528,-0.9216308498927009,1.4867871740464524,1.980536563565662,-1.1259176014514642,1.7632373030287294,-1.1259457180860186,-0.9216204571269592,-0.9216172649185594,1.0102289910688942,-2.3160504748170583,1.7632418757996398,-2.2144536456842765,-1.1153381138782597,-1.1677426848502372,1.5694232140607407,-0.9219651876292803,1.9805581232314153,-1.3123759978171563,1.2287687479065992,0.823996051760095,2.426871384698565,-1.1299180369221182,1.5494680436626884,-1.049843649751256,-1.1259223609606108,-1.1259426094198355,-1.1259406198845092,-1.12594005077822,1.0244492578364264,1.0244578724787294,-2.3160665348046447,1.2723550087043372,1.537896950035148,1.2287592635681657,-2.0012501005727783,0.4864208621482436,-0.9208590440127457,1.0244518531403692,-1.6639091879561871,0.7082623558467993,-1.9960245970300432,1.04071659097482,0.8380104595844343,1.4866406343064436,1.7587793665721767,-2.234155304761439,1.0244503843395512,1.7040920612051296,-1.125904794814284,1.5436253604822952,1.0244603106696635,0.6388956878966907,-0.9216515319216854,-1.6639148670429382,-2.0053374831830846,-1.6639101293364167,1.228731167447535,1.5395070776109119,1.4904831156316363,1.7632550809813843,-1.8406687607551624,1.0244363069740106,-2.3381478608397273,-2.316039811522406,-2.0087685314811186,1.286331393026502,1.5036888011613672,-0.9217781761191602,-2.2757852171083663,1.008030101065261,1.024404596633996,-1.1257150376258698,1.22877067340666,-1.2835321835910103,-0.9216167532002715,-1.6639049447166392,1.503656224002996,-1.6639320363901988,-1.1259200825006195,1.0244289290837034,1.0244570466641847,1.0282955434149672,-0.9216157113523481,-1.3123745256225663,-1.2333266290546503,1.5745413217275153,-0.05532474222322206,0.32167723576109064,-2.668567107695377,-2.3620155855162084,1.0244938250108164,-2.3160941448500196,-1.1244081257400491,-2.2340948489428305,-1.2417303253028813,1.5625908014493093,3.6885288088902235,2.0794406494164526,-1.1259285182254866,-1.1252203775132668,-0.9216894570700414,0.9170515553888534,2.002579656668098,1.2287573149691915,1.721223897716856,0.8239591350618545,1.5752261842020534,-2.00758111388336,-2.3163756599951615,-1.1259257388272823,-2.195582705962251,1.4867876810505334,1.0244565449938323,1.02445596241477,-1.9960144479612594,0.8239445482554895,-2.232755471315517,1.5667753502518262,1.5494675004930467,1.0244510697654163,1.4429955086258455,-0.9216326253732496,1.7041500616167324,1.5494648008232235,-2.316035931528882,0.6525173713802561,1.0232537839838578,-0.663574547038844,-2.2521675027506545,1.5703032273839965,-2.106680879562875,0.8240034418207262,-2.2326560579675796,-2.3162658800841265,-2.244842895780745,-2.3641366960664767,1.0259992547328585,0.8239800552942379,-2.286610047647326,1.8743460847561704,-2.3161202914267705,1.0244367407802806,1.6707997350405788,0.45175306925893066,1.5034413228110346,0.6375276588798384,1.505798127817068,-1.2973845777895636,-2.2046716077093005,-0.9216168037336666,0.8529848592948782,1.5036831679554805,1.7041530706708725,0.8175654215044544,0.9087103143503733,1.5036844563209908,-1.1259275713371928,1.024079313397261,-2.2762974603332915,-2.167455813618018,-0.42920274538013264,-2.262081961774215,1.0282905026339126,1.228763011295205,0.8239510716601035,1.5494143670141487,-1.3120601001513794,0.9832094021483371,1.0282655121148987,-0.9216183147729603,1.0181667297383374,0.9233064127326119,-1.2974133852726988,4.140059258899329,-1.9966668407709307,1.5207666073316233,-2.2326805098591467,-1.3123759994529858,1.9363513622589488,1.0374564790377347,-2.318121069764738,1.7041501052666388,-2.204527099963836,-2.204489087005945,-0.04614590774340232,-2.3284333731025355,-1.1259468325132367,1.024457102071232,-1.9961068405083928,1.7041543508128179,-1.9960241332273456,1.5036833349976373,1.0123720532987466,-1.577382842401794,1.0282940746111557,1.0244361807088065,1.7211619537010274,1.8729393320466199,1.2286139494064405,-1.3123741262887705,-0.38713990909221374,-1.312396536262865,1.2287669060046789,1.5396953976312813,1.0192785738402999,-1.1632467133674782,1.2288947255479319,-1.6633896734976497,1.0243829594465181,-2.207141076547059,1.0244475231052719,0.637529424292987,1.0244623611072412,1.2288074123772046,-1.125885652003924,1.020980576934356,0.8474707396932198,1.228647807535363,-1.312381339314899,1.0244834441673263,-1.129221847341223,1.0245200050589718,-1.2279281844646919,1.228793596737415,1.0244514341710496,1.54948797857476,-1.1259191234616928,-1.1259521421716272,0.6462747745026933,0.8379993126310398,1.5395471664311497,0.8255012985927926,1.0244770590421548,0.4864537063145866,-1.840672996301091,1.7632374420528065,-2.0793964774418114,1.5400871256765918,-2.005233943561594,1.54014130102167,0.6376862626452352,3.8759976268621226,1.5494910234945816,1.926038338300903,1.6096539566477979,0.6715863262136155,1.0243699807954967,-2.316049192703065,-1.9960298667002478,0.8239924389265806],\"z\":[-0.5807460489366233,-0.5812248346536664,-0.6756933812882581,0.18268585598238377,0.34088670582277336,-0.01955911483415244,-0.48295853008788714,0.34480419504652937,0.3408532559859184,0.5282655800862319,0.061895079564204085,0.3982728016731539,-0.3785313148395821,-0.09499814657657857,-0.019528041909512912,-0.6387839084593979,0.07826428696386516,-0.019536888397206437,-0.5807554142111828,-0.5809866183365834,0.4047839975344101,-0.07675905888386718,0.1826060259034803,-0.0196088077953283,-0.019540418865948712,-0.5807926400907727,0.004982044964558635,0.16508350514949927,-0.019542568625041123,-0.5807461395613954,-0.019528591498212386,-0.5807465913736012,-0.01952646736344559,0.07826691448006035,-0.4430331715694281,-0.39611044037033943,0.3972228309795713,0.1724579400213543,-0.02628217306530701,-0.01953377468537989,-0.019650277071274112,-0.019534879048394422,-0.16483268047457386,-0.25420414493461585,-0.0195248352999523,0.24900458794705183,-0.02006920113447415,-0.019558025118814788,-0.019549268197271024,-0.5807977314386753,-0.20005150825631282,-0.06732618223108787,-0.48296179344783446,0.18268465879358983,-0.019619627273887615,-0.01953302587473838,-0.0195233472568685,-0.7481358723706556,-0.01954343238107807,0.27377641144022563,-0.30527205414346265,-0.01952641591680465,-0.3794991296997909,-0.2972187805906635,-0.6178069429734442,-0.022654307119481687,0.18268706399942078,-0.01969967860027647,-0.6177876607639847,-0.3120914310480503,-0.5808929560250236,-0.5807886568439447,-0.5918448273091054,-0.019526276076514845,-0.01956915895958456,-0.019540049150695016,-0.19943522376440684,-0.48295183229907473,0.18235013686660076,0.12798846406392875,0.18267228310120298,-0.24097491590610975,-0.4829538643279963,0.18268082977435168,0.18268298652859533,0.18269565993659717,0.0782710321921593,-0.5814005935043359,-0.580779973096552,-0.019534921004482893,-0.4047685923158344,0.265053084973789,-0.019607572485083366,-0.4829552830576602,0.12799589603420156,0.18267422650239892,-0.6177944517905571,-0.5809511304823934,0.3045736469044558,0.39765082395548423,-0.454956752956122,-0.1303851200133541,-0.01956421466198105,-0.37855249466221746,-0.39612867546155295,-0.019930266806524835,-0.297220535178287,-0.01959959199432856,-0.6177844769477085,-0.019523188519432428,-0.2973508901419555,-0.01960422558399879,-0.5807466046343007,-0.6177860999814626,-0.019971832904835313,0.37280046049161536,-0.19942002542154968,0.4056966193089824,0.25749263062852734,-0.019527069429817665,-0.5807534234833832,-0.022758717358803512,0.35357949944400247,-0.01952305480163521,0.18268792484513435,-0.0332356322801086,-0.4829524047878251,-0.7530252602547483,0.07825437154516976,0.4272627767327533,0.18268217693609454,-0.7078719131368578,0.07826235316666444,-0.15816142321322887,-0.01956639394211151,-0.019588618574330578,-0.29726300818793466,0.34092098129290815,-0.617798099115932,0.3240096049392306,-0.3786929029592034,-0.6387311120267146,0.07826309697095311,0.18268469357608103,-0.5254315266420126,-0.019633534369798863,0.5036905280855346,-0.3785322162140188,-0.49107235766841795,-0.01956168810199648,-0.3785310545997723,0.17124162986602268,-0.6205924764195926,-0.5807557160330921,-0.29725851624091837,0.07824189020644565,0.45283680540480165,-0.019548062153989524,0.31794826903653933,-0.48301300819382625,-0.3259636745181344,-0.37853516698249495,-0.42306030395693245,-0.16484108315059168,-0.019528196679570942,0.07826259356094135,-0.4830139527384364,-0.37856119815490136,-0.3786121090014666,-0.6168252245786703,-0.48298178317696766,-0.019523053202856813,-0.1754858062254749,-0.5813519889198312,-0.5807543705798672,-0.5807988138837761,-0.33427782049065563,0.0782672412772765,-0.19976269185690454,0.9974196751466698,-0.4829651767833714,-0.5807758059974537,0.4017517129381357,-0.37853090325515826,0.1826919581873921,-0.48295252784223036,-0.5807501565517637,0.405163810711301,-0.5807467833501381,-0.01959677574661235,-0.297274452703105,0.1826907398224317,-0.3571241633070338,-0.019531409215571453,-0.6928217742671893,-0.16486958903315962,-0.5807587405969731,-0.4832756175256165,0.43192405113517657,-0.1648927959622352,-0.334247436107558,-0.6795426312458468,-0.1648821411883252,-0.6839571234373635,0.3409136473746821,0.5282662500155422,0.2940568251648975,-0.48296324782211625,-0.021087575158654358,0.07788499908293801,-0.6528125204846645,-0.4829538649111045,-0.1648569126413835,-0.5807582634819591,-0.5807532365402086,0.07821427268567697,-0.16484108315059168,-0.4829630727672953,-0.3785352296416953,-0.5807586319831751,-0.20648450358767628,-0.5807544175223909,-0.5808471638419952,-0.4829528854009301,0.40175266458081427,-0.5807706843740376,-0.3148582336308157,-0.5807493014628271,-0.5807477984895196,-0.27257660453256055,-0.3037514752220693,-0.019523470981917052,0.40174889612846265,0.42727558491553425,-0.5808296485989212,-0.37853163419277097,-0.48295536846136605,-0.580753505641149,0.06316289509942227,-0.580749434817918,0.34477897960022397,-0.2972195476227525,-0.41115603952063706,-0.019524408178702116,-0.33425378095132346,0.07811093246407574,0.5282663509834399,-0.5812736986075195,-0.019575433618461213,0.42726763427245357,-0.29722902312931854,0.5045808590532741,-0.48297172037292074,-0.629040576391913,-0.48301011183343867,-0.020143206271480585,-0.1648890448769446,-0.4829748849014476,-0.055567919495513624,-0.1650421281717464,-0.48307242032129116,-0.5807512433045307,-0.5807507465804329,-0.5808952911579398,-0.10620877919415282,-0.4829642948516002,-0.019535698819687742,-0.2976200864365892,0.18182424598352404,-0.16483931404759633,-0.5807697858322971,-0.6675302074131952,-0.0950254810282092,-0.019538636453514262,-0.1755189679450539,0.34476891997268655,-0.6033876937775757,0.35786723260623005,0.3364393449074148,0.5605661460463144,0.4007730007491194,-0.616783285563531,0.07824328047962822,-0.6168219317807363,-0.6684620565246295,-0.019532466366727723,-0.6177944462325576,-0.019535863407949893,0.07825268654463255,0.0782676791590269,-0.5916230776097736,0.4017427545435812,-0.6177930371560186,0.4309649894861934,-0.11106544660392735,0.20104002856280098,-0.06558585383011,0.07806116215779715,-0.6684774000817975,0.18268583008081948,-0.4829580074730761,-0.2972199034816574,2.4893224586710807,-0.021087967558193577,-0.16484122619992433,-0.07366458803414397,-0.019529382911903752,-0.0195418563144107,-0.019549993174980008,-0.01955039819586393,-0.5807606386416513,-0.5807482650431821,0.4017395286909038,0.06344661797758613,-0.03454751648727241,-0.48295860565572646,0.5231683164369068,-0.312218417285927,0.07697990160821314,-0.5807488258926209,0.2491280695253213,-0.012615199250409593,0.5282618625293511,-0.6028189712204682,-0.3785773031438641,-0.6171713067086483,-0.5235657800110551,0.45280727043103475,-0.5807499928912042,-0.5561476303218449,-0.019575489118161475,-0.08596296229475905,-0.5807544479568827,-0.09974058925363445,0.07815298459060868,0.24912455014174567,0.3408809103756032,0.24912672320054477,-0.4829877571922876,0.29393282511564156,-0.632003630028652,-0.6178827091171702,0.4054405144237139,-0.5808193655556421,0.3817866298003726,0.4017525981679978,0.3392397373344027,-0.3332535565748848,-0.2725797872001823,0.07815910270121897,0.34449467577646864,-0.590058174198769,-0.5807715944145739,-0.02176882636063865,-0.4829763871622208,0.010992231776150661,0.07826693692650444,0.2491275700580855,-0.2725986086673089,0.2489456421740186,-0.01954948705731182,-0.5811039558554157,-0.5807475933165929,-0.19942082469169364,0.07826485127533007,0.18268513268067432,0.08263995798201426,-0.1754776700360628,0.0632391056803047,-0.3831576213853639,0.23258465112194085,0.303199156241465,-0.5808695412302275,0.4016553768288808,-0.024799224864740413,0.45278789747878323,0.26467728234853566,-0.3344525496980349,11.653283235757176,15.518270335762445,-0.019533402105048277,-0.02775259342404616,0.07811696620446516,-0.47858256569302,9.089704619628282,-0.4829563787603308,-0.47168131446919725,-0.29723840650763955,-0.24851821073885588,0.33986488530671866,0.40157680574761795,-0.019527399015188927,0.46572941469999946,-0.6167928884465985,-0.5807468162290326,-0.5807472417386675,0.5282340567414661,-0.29738596772216463,0.43187503928632914,-0.14014092294802794,-0.16485192922053823,-0.5807542612288902,0.3983013609030144,0.07824454405150416,-0.5561889079854873,-0.1648466474475209,0.4017473585083647,-0.04620121751435717,-0.5820411003027111,-0.05556800168002762,0.42727193866763463,-0.14688893812636541,0.3938932396503356,-0.29722877286739,0.4319258961107387,0.40166670125520537,0.3987773318859154,0.3586964521310441,-0.5861280757835623,-0.29721969024140676,0.353493804956116,-0.6824561179396876,0.40139506534992797,-0.5807667468016176,-0.3552111441751835,-0.3516295731351458,-0.2726682995272185,-0.09502857345389876,0.07767420523284455,0.23148830554273053,0.4402543180028858,0.07826646881876763,-0.3297549313451735,-0.2725761982263489,-0.5561092013109666,-0.29972665143435095,-0.2961512143190297,-0.2726102998215978,-0.01952655913284072,-0.5808971477216174,0.3445439660766804,0.40735625170239886,0.08951422445993941,0.3336206606540063,-0.1994315192943501,-0.4829709341998937,-0.2972897960342951,-0.1648653624968914,0.18158770890898315,-0.3586459112923596,-0.1994326367447576,0.0782658639557957,-0.583830297094005,0.47722699523186024,0.23147607438299334,13.889841509252179,0.5255353035738096,-0.18814642919713778,0.4319124236376135,0.1826858312450045,-0.1787966589499478,-0.20593164716464687,0.3998449563155373,-0.5561276103773916,0.377667854574758,0.377674360608662,0.2505632376160697,0.5050864995686166,-0.019553972966844677,-0.5807547737584614,0.5282188231061782,-0.5561159448852444,0.5282573797435454,-0.2725731120534677,-0.6035657227669142,0.25747524154799994,-0.19941923329792774,-0.5807663482106197,-0.4718220563632429,-0.6835132529255822,-0.483020271992002,0.18266643559941306,-0.0565593577136452,0.18263869812511416,-0.4829653047940231,0.2935887720471097,-0.5917625828239206,-0.03416585860524989,-0.4830436694717888,0.24708944608874656,-0.5807771986569774,0.3766319071322786,-0.5807619261568971,-0.0949965350265221,-0.5807496952554675,-0.48319156024015025,-0.01996716611309195,-0.5826824069840476,-0.3853477893367424,-0.4832880025583725,0.1826808102640931,-0.580771000513525,-0.03817577733813801,-0.5809587429952948,0.1650713835092299,-0.4830590705965107,-0.58080912829102,-0.16483331834444762,-0.019525386080224298,-0.01957623787847792,-0.07218077646634163,-0.37857147039040273,0.29404714922574393,-0.3024881497607117,-0.5808861732850692,-0.31209904221693013,0.40571959181150224,-0.6177819937980912,0.587549156817803,0.29373004690258075,0.3409145536631204,0.2936914914577129,-0.09551939171303517,18.226533580613104,-0.16483533166641595,-0.7806659469653497,-0.1312430048520811,0.12038559141297159,-0.5807889649962625,0.40117634862463103,0.5282656128419477,-0.2972104408557586]}],                        {\"coloraxis\":{\"colorbar\":{\"title\":{\"text\":\"Class\"}},\"colorscale\":[[0.0,\"#0d0887\"],[0.1111111111111111,\"#46039f\"],[0.2222222222222222,\"#7201a8\"],[0.3333333333333333,\"#9c179e\"],[0.4444444444444444,\"#bd3786\"],[0.5555555555555556,\"#d8576b\"],[0.6666666666666666,\"#ed7953\"],[0.7777777777777778,\"#fb9f3a\"],[0.8888888888888888,\"#fdca26\"],[1.0,\"#f0f921\"]]},\"legend\":{\"tracegroupgap\":0},\"margin\":{\"t\":60},\"scene\":{\"domain\":{\"x\":[0.0,1.0],\"y\":[0.0,1.0]},\"xaxis\":{\"title\":{\"text\":\"PC1\"}},\"yaxis\":{\"title\":{\"text\":\"PC2\"}},\"zaxis\":{\"title\":{\"text\":\"PC3\"}}},\"template\":{\"data\":{\"bar\":[{\"error_x\":{\"color\":\"#2a3f5f\"},\"error_y\":{\"color\":\"#2a3f5f\"},\"marker\":{\"line\":{\"color\":\"#E5ECF6\",\"width\":0.5},\"pattern\":{\"fillmode\":\"overlay\",\"size\":10,\"solidity\":0.2}},\"type\":\"bar\"}],\"barpolar\":[{\"marker\":{\"line\":{\"color\":\"#E5ECF6\",\"width\":0.5},\"pattern\":{\"fillmode\":\"overlay\",\"size\":10,\"solidity\":0.2}},\"type\":\"barpolar\"}],\"carpet\":[{\"aaxis\":{\"endlinecolor\":\"#2a3f5f\",\"gridcolor\":\"white\",\"linecolor\":\"white\",\"minorgridcolor\":\"white\",\"startlinecolor\":\"#2a3f5f\"},\"baxis\":{\"endlinecolor\":\"#2a3f5f\",\"gridcolor\":\"white\",\"linecolor\":\"white\",\"minorgridcolor\":\"white\",\"startlinecolor\":\"#2a3f5f\"},\"type\":\"carpet\"}],\"choropleth\":[{\"colorbar\":{\"outlinewidth\":0,\"ticks\":\"\"},\"type\":\"choropleth\"}],\"contour\":[{\"colorbar\":{\"outlinewidth\":0,\"ticks\":\"\"},\"colorscale\":[[0.0,\"#0d0887\"],[0.1111111111111111,\"#46039f\"],[0.2222222222222222,\"#7201a8\"],[0.3333333333333333,\"#9c179e\"],[0.4444444444444444,\"#bd3786\"],[0.5555555555555556,\"#d8576b\"],[0.6666666666666666,\"#ed7953\"],[0.7777777777777778,\"#fb9f3a\"],[0.8888888888888888,\"#fdca26\"],[1.0,\"#f0f921\"]],\"type\":\"contour\"}],\"contourcarpet\":[{\"colorbar\":{\"outlinewidth\":0,\"ticks\":\"\"},\"type\":\"contourcarpet\"}],\"heatmap\":[{\"colorbar\":{\"outlinewidth\":0,\"ticks\":\"\"},\"colorscale\":[[0.0,\"#0d0887\"],[0.1111111111111111,\"#46039f\"],[0.2222222222222222,\"#7201a8\"],[0.3333333333333333,\"#9c179e\"],[0.4444444444444444,\"#bd3786\"],[0.5555555555555556,\"#d8576b\"],[0.6666666666666666,\"#ed7953\"],[0.7777777777777778,\"#fb9f3a\"],[0.8888888888888888,\"#fdca26\"],[1.0,\"#f0f921\"]],\"type\":\"heatmap\"}],\"heatmapgl\":[{\"colorbar\":{\"outlinewidth\":0,\"ticks\":\"\"},\"colorscale\":[[0.0,\"#0d0887\"],[0.1111111111111111,\"#46039f\"],[0.2222222222222222,\"#7201a8\"],[0.3333333333333333,\"#9c179e\"],[0.4444444444444444,\"#bd3786\"],[0.5555555555555556,\"#d8576b\"],[0.6666666666666666,\"#ed7953\"],[0.7777777777777778,\"#fb9f3a\"],[0.8888888888888888,\"#fdca26\"],[1.0,\"#f0f921\"]],\"type\":\"heatmapgl\"}],\"histogram\":[{\"marker\":{\"pattern\":{\"fillmode\":\"overlay\",\"size\":10,\"solidity\":0.2}},\"type\":\"histogram\"}],\"histogram2d\":[{\"colorbar\":{\"outlinewidth\":0,\"ticks\":\"\"},\"colorscale\":[[0.0,\"#0d0887\"],[0.1111111111111111,\"#46039f\"],[0.2222222222222222,\"#7201a8\"],[0.3333333333333333,\"#9c179e\"],[0.4444444444444444,\"#bd3786\"],[0.5555555555555556,\"#d8576b\"],[0.6666666666666666,\"#ed7953\"],[0.7777777777777778,\"#fb9f3a\"],[0.8888888888888888,\"#fdca26\"],[1.0,\"#f0f921\"]],\"type\":\"histogram2d\"}],\"histogram2dcontour\":[{\"colorbar\":{\"outlinewidth\":0,\"ticks\":\"\"},\"colorscale\":[[0.0,\"#0d0887\"],[0.1111111111111111,\"#46039f\"],[0.2222222222222222,\"#7201a8\"],[0.3333333333333333,\"#9c179e\"],[0.4444444444444444,\"#bd3786\"],[0.5555555555555556,\"#d8576b\"],[0.6666666666666666,\"#ed7953\"],[0.7777777777777778,\"#fb9f3a\"],[0.8888888888888888,\"#fdca26\"],[1.0,\"#f0f921\"]],\"type\":\"histogram2dcontour\"}],\"mesh3d\":[{\"colorbar\":{\"outlinewidth\":0,\"ticks\":\"\"},\"type\":\"mesh3d\"}],\"parcoords\":[{\"line\":{\"colorbar\":{\"outlinewidth\":0,\"ticks\":\"\"}},\"type\":\"parcoords\"}],\"pie\":[{\"automargin\":true,\"type\":\"pie\"}],\"scatter\":[{\"marker\":{\"colorbar\":{\"outlinewidth\":0,\"ticks\":\"\"}},\"type\":\"scatter\"}],\"scatter3d\":[{\"line\":{\"colorbar\":{\"outlinewidth\":0,\"ticks\":\"\"}},\"marker\":{\"colorbar\":{\"outlinewidth\":0,\"ticks\":\"\"}},\"type\":\"scatter3d\"}],\"scattercarpet\":[{\"marker\":{\"colorbar\":{\"outlinewidth\":0,\"ticks\":\"\"}},\"type\":\"scattercarpet\"}],\"scattergeo\":[{\"marker\":{\"colorbar\":{\"outlinewidth\":0,\"ticks\":\"\"}},\"type\":\"scattergeo\"}],\"scattergl\":[{\"marker\":{\"colorbar\":{\"outlinewidth\":0,\"ticks\":\"\"}},\"type\":\"scattergl\"}],\"scattermapbox\":[{\"marker\":{\"colorbar\":{\"outlinewidth\":0,\"ticks\":\"\"}},\"type\":\"scattermapbox\"}],\"scatterpolar\":[{\"marker\":{\"colorbar\":{\"outlinewidth\":0,\"ticks\":\"\"}},\"type\":\"scatterpolar\"}],\"scatterpolargl\":[{\"marker\":{\"colorbar\":{\"outlinewidth\":0,\"ticks\":\"\"}},\"type\":\"scatterpolargl\"}],\"scatterternary\":[{\"marker\":{\"colorbar\":{\"outlinewidth\":0,\"ticks\":\"\"}},\"type\":\"scatterternary\"}],\"surface\":[{\"colorbar\":{\"outlinewidth\":0,\"ticks\":\"\"},\"colorscale\":[[0.0,\"#0d0887\"],[0.1111111111111111,\"#46039f\"],[0.2222222222222222,\"#7201a8\"],[0.3333333333333333,\"#9c179e\"],[0.4444444444444444,\"#bd3786\"],[0.5555555555555556,\"#d8576b\"],[0.6666666666666666,\"#ed7953\"],[0.7777777777777778,\"#fb9f3a\"],[0.8888888888888888,\"#fdca26\"],[1.0,\"#f0f921\"]],\"type\":\"surface\"}],\"table\":[{\"cells\":{\"fill\":{\"color\":\"#EBF0F8\"},\"line\":{\"color\":\"white\"}},\"header\":{\"fill\":{\"color\":\"#C8D4E3\"},\"line\":{\"color\":\"white\"}},\"type\":\"table\"}]},\"layout\":{\"annotationdefaults\":{\"arrowcolor\":\"#2a3f5f\",\"arrowhead\":0,\"arrowwidth\":1},\"autotypenumbers\":\"strict\",\"coloraxis\":{\"colorbar\":{\"outlinewidth\":0,\"ticks\":\"\"}},\"colorscale\":{\"diverging\":[[0,\"#8e0152\"],[0.1,\"#c51b7d\"],[0.2,\"#de77ae\"],[0.3,\"#f1b6da\"],[0.4,\"#fde0ef\"],[0.5,\"#f7f7f7\"],[0.6,\"#e6f5d0\"],[0.7,\"#b8e186\"],[0.8,\"#7fbc41\"],[0.9,\"#4d9221\"],[1,\"#276419\"]],\"sequential\":[[0.0,\"#0d0887\"],[0.1111111111111111,\"#46039f\"],[0.2222222222222222,\"#7201a8\"],[0.3333333333333333,\"#9c179e\"],[0.4444444444444444,\"#bd3786\"],[0.5555555555555556,\"#d8576b\"],[0.6666666666666666,\"#ed7953\"],[0.7777777777777778,\"#fb9f3a\"],[0.8888888888888888,\"#fdca26\"],[1.0,\"#f0f921\"]],\"sequentialminus\":[[0.0,\"#0d0887\"],[0.1111111111111111,\"#46039f\"],[0.2222222222222222,\"#7201a8\"],[0.3333333333333333,\"#9c179e\"],[0.4444444444444444,\"#bd3786\"],[0.5555555555555556,\"#d8576b\"],[0.6666666666666666,\"#ed7953\"],[0.7777777777777778,\"#fb9f3a\"],[0.8888888888888888,\"#fdca26\"],[1.0,\"#f0f921\"]]},\"colorway\":[\"#636efa\",\"#EF553B\",\"#00cc96\",\"#ab63fa\",\"#FFA15A\",\"#19d3f3\",\"#FF6692\",\"#B6E880\",\"#FF97FF\",\"#FECB52\"],\"font\":{\"color\":\"#2a3f5f\"},\"geo\":{\"bgcolor\":\"white\",\"lakecolor\":\"white\",\"landcolor\":\"#E5ECF6\",\"showlakes\":true,\"showland\":true,\"subunitcolor\":\"white\"},\"hoverlabel\":{\"align\":\"left\"},\"hovermode\":\"closest\",\"mapbox\":{\"style\":\"light\"},\"paper_bgcolor\":\"white\",\"plot_bgcolor\":\"#E5ECF6\",\"polar\":{\"angularaxis\":{\"gridcolor\":\"white\",\"linecolor\":\"white\",\"ticks\":\"\"},\"bgcolor\":\"#E5ECF6\",\"radialaxis\":{\"gridcolor\":\"white\",\"linecolor\":\"white\",\"ticks\":\"\"}},\"scene\":{\"xaxis\":{\"backgroundcolor\":\"#E5ECF6\",\"gridcolor\":\"white\",\"gridwidth\":2,\"linecolor\":\"white\",\"showbackground\":true,\"ticks\":\"\",\"zerolinecolor\":\"white\"},\"yaxis\":{\"backgroundcolor\":\"#E5ECF6\",\"gridcolor\":\"white\",\"gridwidth\":2,\"linecolor\":\"white\",\"showbackground\":true,\"ticks\":\"\",\"zerolinecolor\":\"white\"},\"zaxis\":{\"backgroundcolor\":\"#E5ECF6\",\"gridcolor\":\"white\",\"gridwidth\":2,\"linecolor\":\"white\",\"showbackground\":true,\"ticks\":\"\",\"zerolinecolor\":\"white\"}},\"shapedefaults\":{\"line\":{\"color\":\"#2a3f5f\"}},\"ternary\":{\"aaxis\":{\"gridcolor\":\"white\",\"linecolor\":\"white\",\"ticks\":\"\"},\"baxis\":{\"gridcolor\":\"white\",\"linecolor\":\"white\",\"ticks\":\"\"},\"bgcolor\":\"#E5ECF6\",\"caxis\":{\"gridcolor\":\"white\",\"linecolor\":\"white\",\"ticks\":\"\"}},\"title\":{\"x\":0.05},\"xaxis\":{\"automargin\":true,\"gridcolor\":\"white\",\"linecolor\":\"white\",\"ticks\":\"\",\"title\":{\"standoff\":15},\"zerolinecolor\":\"white\",\"zerolinewidth\":2},\"yaxis\":{\"automargin\":true,\"gridcolor\":\"white\",\"linecolor\":\"white\",\"ticks\":\"\",\"title\":{\"standoff\":15},\"zerolinecolor\":\"white\",\"zerolinewidth\":2}}}},                        {\"responsive\": true}                    ).then(function(){\n",
       "                            \n",
       "var gd = document.getElementById('d39354c8-6ff6-4adc-85bd-92efa6ee159e');\n",
       "var x = new MutationObserver(function (mutations, observer) {{\n",
       "        var display = window.getComputedStyle(gd).display;\n",
       "        if (!display || display === 'none') {{\n",
       "            console.log([gd, 'removed!']);\n",
       "            Plotly.purge(gd);\n",
       "            observer.disconnect();\n",
       "        }}\n",
       "}});\n",
       "\n",
       "// Listen for the removal of the full notebook cells\n",
       "var notebookContainer = gd.closest('#notebook-container');\n",
       "if (notebookContainer) {{\n",
       "    x.observe(notebookContainer, {childList: true});\n",
       "}}\n",
       "\n",
       "// Listen for the clearing of the current output cell\n",
       "var outputEl = gd.closest('.output');\n",
       "if (outputEl) {{\n",
       "    x.observe(outputEl, {childList: true});\n",
       "}}\n",
       "\n",
       "                        })                };                });            </script>        </div>"
      ]
     },
     "metadata": {},
     "output_type": "display_data"
    }
   ],
   "source": [
    "# Create a 3D-Scatter with the PCA data and the clusters\n",
    "fig = px.scatter_3d(clustered_crypto_df, x=\"PC1\", y=\"PC2\", z=\"PC3\", hover_name=\"CoinName\", hover_data=[\"Algorithm\"], color=\"Class\",)\n",
    "fig.show()"
   ]
  },
  {
   "cell_type": "markdown",
   "metadata": {},
   "source": [
    "#### Table of Tradable Cryptocurrencies"
   ]
  },
  {
   "cell_type": "code",
   "execution_count": 69,
   "metadata": {},
   "outputs": [
    {
     "data": {},
     "metadata": {},
     "output_type": "display_data"
    },
    {
     "data": {
      "application/vnd.holoviews_exec.v0+json": "",
      "text/html": [
       "<div id='1120'>\n",
       "\n",
       "\n",
       "\n",
       "\n",
       "\n",
       "  <div class=\"bk-root\" id=\"c7da5fdc-aa3c-444d-9fe4-b55e956ed7d0\" data-root-id=\"1120\"></div>\n",
       "</div>\n",
       "<script type=\"application/javascript\">(function(root) {\n",
       "  function embed_document(root) {\n",
       "    var docs_json = {\"e2378044-909e-4107-8c82-6a87deff8f2b\":{\"defs\":[{\"extends\":null,\"module\":null,\"name\":\"ReactiveHTML1\",\"overrides\":[],\"properties\":[]},{\"extends\":null,\"module\":null,\"name\":\"FlexBox1\",\"overrides\":[],\"properties\":[{\"default\":\"flex-start\",\"kind\":null,\"name\":\"align_content\"},{\"default\":\"flex-start\",\"kind\":null,\"name\":\"align_items\"},{\"default\":\"row\",\"kind\":null,\"name\":\"flex_direction\"},{\"default\":\"wrap\",\"kind\":null,\"name\":\"flex_wrap\"},{\"default\":\"flex-start\",\"kind\":null,\"name\":\"justify_content\"}]},{\"extends\":null,\"module\":null,\"name\":\"TemplateActions1\",\"overrides\":[],\"properties\":[{\"default\":0,\"kind\":null,\"name\":\"open_modal\"},{\"default\":0,\"kind\":null,\"name\":\"close_modal\"}]},{\"extends\":null,\"module\":null,\"name\":\"MaterialTemplateActions1\",\"overrides\":[],\"properties\":[{\"default\":0,\"kind\":null,\"name\":\"open_modal\"},{\"default\":0,\"kind\":null,\"name\":\"close_modal\"}]}],\"roots\":{\"references\":[{\"attributes\":{},\"id\":\"1124\",\"type\":\"StringFormatter\"},{\"attributes\":{\"editor\":{\"id\":\"1145\"},\"field\":\"Class\",\"formatter\":{\"id\":\"1144\"},\"title\":\"Class\"},\"id\":\"1146\",\"type\":\"TableColumn\"},{\"attributes\":{\"children\":[{\"id\":\"1121\"},{\"id\":\"1154\"},{\"id\":\"1161\"}],\"margin\":[0,0,0,0],\"name\":\"Row01797\",\"tags\":[\"embedded\"]},\"id\":\"1120\",\"type\":\"Row\"},{\"attributes\":{\"editor\":{\"id\":\"1150\"},\"field\":\"CoinName\",\"formatter\":{\"id\":\"1149\"},\"title\":\"CoinName\"},\"id\":\"1151\",\"type\":\"TableColumn\"},{\"attributes\":{},\"id\":\"1139\",\"type\":\"StringFormatter\"},{\"attributes\":{},\"id\":\"1140\",\"type\":\"StringEditor\"},{\"attributes\":{},\"id\":\"1130\",\"type\":\"StringEditor\"},{\"attributes\":{\"editor\":{\"id\":\"1135\"},\"field\":\"TotalCoinsMined\",\"formatter\":{\"id\":\"1134\"},\"title\":\"TotalCoinsMined\"},\"id\":\"1136\",\"type\":\"TableColumn\"},{\"attributes\":{},\"id\":\"1125\",\"type\":\"StringEditor\"},{\"attributes\":{},\"id\":\"1145\",\"type\":\"IntEditor\"},{\"attributes\":{},\"id\":\"1123\",\"type\":\"Selection\"},{\"attributes\":{},\"id\":\"1129\",\"type\":\"StringFormatter\"},{\"attributes\":{\"source\":{\"id\":\"1122\"}},\"id\":\"1156\",\"type\":\"CDSView\"},{\"attributes\":{\"margin\":[5,5,5,5],\"name\":\"HSpacer01802\",\"sizing_mode\":\"stretch_width\"},\"id\":\"1161\",\"type\":\"Spacer\"},{\"attributes\":{\"margin\":[5,5,5,5],\"name\":\"HSpacer01801\",\"sizing_mode\":\"stretch_width\"},\"id\":\"1121\",\"type\":\"Spacer\"},{\"attributes\":{},\"id\":\"1135\",\"type\":\"NumberEditor\"},{\"attributes\":{},\"id\":\"1150\",\"type\":\"StringEditor\"},{\"attributes\":{},\"id\":\"1157\",\"type\":\"UnionRenderers\"},{\"attributes\":{\"editor\":{\"id\":\"1125\"},\"field\":\"Algorithm\",\"formatter\":{\"id\":\"1124\"},\"title\":\"Algorithm\"},\"id\":\"1126\",\"type\":\"TableColumn\"},{\"attributes\":{},\"id\":\"1144\",\"type\":\"NumberFormatter\"},{\"attributes\":{\"columns\":[{\"id\":\"1126\"},{\"id\":\"1131\"},{\"id\":\"1136\"},{\"id\":\"1141\"},{\"id\":\"1146\"},{\"id\":\"1151\"}],\"height\":300,\"reorderable\":false,\"source\":{\"id\":\"1122\"},\"view\":{\"id\":\"1156\"},\"width\":700},\"id\":\"1154\",\"type\":\"DataTable\"},{\"attributes\":{\"format\":\"0,0.0[00000]\"},\"id\":\"1134\",\"type\":\"NumberFormatter\"},{\"attributes\":{\"editor\":{\"id\":\"1140\"},\"field\":\"TotalCoinSupply\",\"formatter\":{\"id\":\"1139\"},\"title\":\"TotalCoinSupply\"},\"id\":\"1141\",\"type\":\"TableColumn\"},{\"attributes\":{\"editor\":{\"id\":\"1130\"},\"field\":\"ProofType\",\"formatter\":{\"id\":\"1129\"},\"title\":\"ProofType\"},\"id\":\"1131\",\"type\":\"TableColumn\"},{\"attributes\":{},\"id\":\"1149\",\"type\":\"StringFormatter\"},{\"attributes\":{\"data\":{\"Algorithm\":[\"Scrypt\",\"Scrypt\",\"X13\",\"SHA-256\",\"Ethash\",\"Scrypt\",\"X11\",\"CryptoNight-V7\",\"Ethash\",\"Equihash\",\"SHA-512\",\"Multiple\",\"SHA-256\",\"SHA-256\",\"Scrypt\",\"X15\",\"X11\",\"Scrypt\",\"Scrypt\",\"Scrypt\",\"Multiple\",\"Scrypt\",\"SHA-256\",\"Scrypt\",\"Scrypt\",\"Scrypt\",\"Quark\",\"Groestl\",\"Scrypt\",\"Scrypt\",\"Scrypt\",\"Scrypt\",\"Scrypt\",\"X11\",\"Scrypt\",\"Groestl\",\"Multiple\",\"SHA-256\",\"Scrypt\",\"Scrypt\",\"Scrypt\",\"Scrypt\",\"PoS\",\"Scrypt\",\"Scrypt\",\"NeoScrypt\",\"Scrypt\",\"Scrypt\",\"Scrypt\",\"Scrypt\",\"X11\",\"Scrypt\",\"X11\",\"SHA-256\",\"Scrypt\",\"Scrypt\",\"Scrypt\",\"SHA3\",\"Scrypt\",\"HybridScryptHash256\",\"Scrypt\",\"Scrypt\",\"SHA-256\",\"Scrypt\",\"X13\",\"Scrypt\",\"SHA-256\",\"Scrypt\",\"X13\",\"NeoScrypt\",\"Scrypt\",\"Scrypt\",\"Scrypt\",\"Scrypt\",\"Scrypt\",\"Scrypt\",\"X11\",\"X11\",\"SHA-256\",\"Multiple\",\"SHA-256\",\"PHI1612\",\"X11\",\"SHA-256\",\"SHA-256\",\"SHA-256\",\"X11\",\"Scrypt\",\"Scrypt\",\"Scrypt\",\"Scrypt\",\"Lyra2REv2\",\"Scrypt\",\"X11\",\"Multiple\",\"SHA-256\",\"X13\",\"Scrypt\",\"CryptoNight\",\"CryptoNight\",\"Shabal256\",\"Counterparty\",\"Scrypt\",\"SHA-256\",\"Groestl\",\"Scrypt\",\"Scrypt\",\"Scrypt\",\"X13\",\"Scrypt\",\"Scrypt\",\"Scrypt\",\"Scrypt\",\"X13\",\"Scrypt\",\"Stanford Folding\",\"X11\",\"Multiple\",\"QuBit\",\"Scrypt\",\"Scrypt\",\"Scrypt\",\"M7 POW\",\"Scrypt\",\"SHA-256\",\"Scrypt\",\"X11\",\"SHA3\",\"X11\",\"Lyra2RE\",\"SHA-256\",\"QUAIT\",\"X11\",\"X11\",\"Scrypt\",\"Scrypt\",\"Scrypt\",\"Ethash\",\"X13\",\"Blake2b\",\"SHA-256\",\"X15\",\"X11\",\"SHA-256\",\"BLAKE256\",\"Scrypt\",\"1GB AES Pattern Search\",\"SHA-256\",\"X11\",\"Scrypt\",\"SHA-256\",\"SHA-256\",\"NIST5\",\"Scrypt\",\"Scrypt\",\"X11\",\"Dagger\",\"Scrypt\",\"X11GOST\",\"X11\",\"Scrypt\",\"SHA-256\",\"Scrypt\",\"PoS\",\"Scrypt\",\"X11\",\"X11\",\"SHA-256\",\"SHA-256\",\"NIST5\",\"X11\",\"Scrypt\",\"POS 3.0\",\"Scrypt\",\"Scrypt\",\"Scrypt\",\"X13\",\"X11\",\"X11\",\"Equihash\",\"X11\",\"Scrypt\",\"CryptoNight\",\"SHA-256\",\"SHA-256\",\"X11\",\"Scrypt\",\"Multiple\",\"Scrypt\",\"Scrypt\",\"Scrypt\",\"SHA-256\",\"Scrypt\",\"Scrypt\",\"SHA-256D\",\"PoS\",\"Scrypt\",\"X11\",\"Lyra2Z\",\"PoS\",\"X13\",\"X14\",\"PoS\",\"SHA-256D\",\"Ethash\",\"Equihash\",\"DPoS\",\"X11\",\"Scrypt\",\"X11\",\"X13\",\"X11\",\"PoS\",\"Scrypt\",\"Scrypt\",\"X11\",\"PoS\",\"X11\",\"SHA-256\",\"Scrypt\",\"X11\",\"Scrypt\",\"Scrypt\",\"X11\",\"CryptoNight\",\"Scrypt\",\"Scrypt\",\"Scrypt\",\"Scrypt\",\"Quark\",\"QuBit\",\"Scrypt\",\"CryptoNight\",\"Lyra2RE\",\"Scrypt\",\"SHA-256\",\"X11\",\"Scrypt\",\"X11\",\"Scrypt\",\"CryptoNight-V7\",\"Scrypt\",\"Scrypt\",\"Scrypt\",\"X13\",\"X11\",\"Equihash\",\"Scrypt\",\"Scrypt\",\"Lyra2RE\",\"Scrypt\",\"Dagger-Hashimoto\",\"X11\",\"Blake2S\",\"X11\",\"Scrypt\",\"PoS\",\"X11\",\"NIST5\",\"PoS\",\"X11\",\"Scrypt\",\"Scrypt\",\"Scrypt\",\"SHA-256\",\"X11\",\"Scrypt\",\"Scrypt\",\"SHA-256\",\"PoS\",\"Scrypt\",\"X15\",\"SHA-256\",\"Scrypt\",\"POS 3.0\",\"CryptoNight-V7\",\"536\",\"Argon2d\",\"Blake2b\",\"Cloverhash\",\"CryptoNight\",\"NIST5\",\"X11\",\"NIST5\",\"Skein\",\"Scrypt\",\"X13\",\"Scrypt\",\"X11\",\"X11\",\"Scrypt\",\"CryptoNight\",\"X13\",\"Time Travel\",\"Scrypt\",\"Keccak\",\"SkunkHash v2 Raptor\",\"X11\",\"Skein\",\"SHA-256\",\"X11\",\"Scrypt\",\"VeChainThor Authority\",\"Scrypt\",\"PoS\",\"Scrypt\",\"Scrypt\",\"Scrypt\",\"Scrypt\",\"Scrypt\",\"Scrypt\",\"Scrypt\",\"CryptoNight\",\"SHA-512\",\"Ouroboros\",\"X11\",\"Equihash\",\"NeoScrypt\",\"X11\",\"Scrypt\",\"NeoScrypt\",\"Lyra2REv2\",\"Equihash\",\"Scrypt\",\"SHA-256\",\"NIST5\",\"PHI1612\",\"Dagger\",\"Scrypt\",\"Quark\",\"Scrypt\",\"POS 2.0\",\"Scrypt\",\"SHA-256\",\"X11\",\"NeoScrypt\",\"Ethash\",\"NeoScrypt\",\"X11\",\"DPoS\",\"NIST5\",\"X13\",\"Multiple\",\"Scrypt\",\"CryptoNight\",\"CryptoNight\",\"Ethash\",\"NIST5\",\"Quark\",\"X11\",\"CryptoNight-V7\",\"Scrypt\",\"Scrypt\",\"Scrypt\",\"X11\",\"BLAKE256\",\"X11\",\"NeoScrypt\",\"Quark\",\"NeoScrypt\",\"Scrypt\",\"Scrypt\",\"Scrypt\",\"X11\",\"X11\",\"SHA-256\",\"C11\",\"POS 3.0\",\"Ethash\",\"Scrypt\",\"CryptoNight\",\"SkunkHash\",\"Scrypt\",\"CryptoNight\",\"Scrypt\",\"Dagger\",\"Lyra2REv2\",\"X13\",\"Proof-of-BibleHash\",\"SHA-256 + Hive\",\"Scrypt\",\"Scrypt\",\"X11\",\"C11\",\"Proof-of-Authority\",\"X11\",\"XEVAN\",\"Scrypt\",\"VBFT\",\"Ethash\",\"CryptoNight\",\"Scrypt\",\"IMesh\",\"NIST5\",\"Scrypt\",\"Scrypt\",\"Equihash\",\"Scrypt\",\"Lyra2Z\",\"Green Protocol\",\"PoS\",\"Scrypt\",\"Semux BFT consensus\",\"X11\",\"Quark\",\"PoS\",\"CryptoNight\",\"X16R\",\"Scrypt\",\"NIST5\",\"Lyra2RE\",\"XEVAN\",\"Tribus\",\"Scrypt\",\"Lyra2Z\",\"CryptoNight\",\"CryptoNight Heavy\",\"CryptoNight\",\"Scrypt\",\"Scrypt\",\"Jump Consistent Hash\",\"SHA-256D\",\"CryptoNight\",\"Scrypt\",\"X15\",\"Scrypt\",\"Quark\",\"SHA-256\",\"DPoS\",\"X16R\",\"HMQ1725\",\"X11\",\"X16R\",\"Quark\",\"Quark\",\"Scrypt\",\"Lyra2REv2\",\"Quark\",\"Scrypt\",\"Scrypt\",\"CryptoNight-V7\",\"Cryptonight-GPU\",\"XEVAN\",\"CryptoNight Heavy\",\"X11\",\"X11\",\"Scrypt\",\"PoS\",\"SHA-256\",\"Keccak\",\"X11\",\"X11\",\"Scrypt\",\"SHA-512\",\"X16R\",\"ECC 256K1\",\"Equihash\",\"XEVAN\",\"Lyra2Z\",\"SHA-256\",\"XEVAN\",\"X11\",\"CryptoNight\",\"Quark\",\"Blake\",\"Blake\",\"Equihash\",\"Exosis\",\"Scrypt\",\"Scrypt\",\"Equihash\",\"Quark\",\"Equihash\",\"Quark\",\"Scrypt\",\"QuBit\",\"X11\",\"Scrypt\",\"XEVAN\",\"SHA-256D\",\"X11\",\"SHA-256\",\"X13\",\"SHA-256\",\"X11\",\"DPoS\",\"Scrypt\",\"Scrypt\",\"X11\",\"NeoScrypt\",\"Scrypt\",\"Blake\",\"Scrypt\",\"SHA-256\",\"Scrypt\",\"X11\",\"Scrypt\",\"Scrypt\",\"SHA-256\",\"X11\",\"SHA-256\",\"Scrypt\",\"Scrypt\",\"Scrypt\",\"Groestl\",\"X11\",\"Scrypt\",\"PoS\",\"Scrypt\",\"Scrypt\",\"X11\",\"SHA-256\",\"DPoS\",\"Scrypt\",\"Scrypt\",\"NeoScrypt\",\"Multiple\",\"X13\",\"Equihash+Scrypt\",\"DPoS\",\"Ethash\",\"DPoS\",\"SHA-256\",\"Leased POS\",\"PoS\",\"TRC10\",\"PoS\",\"SHA-256\",\"Scrypt\",\"CryptoNight\",\"Equihash\",\"Scrypt\"],\"Class\":{\"__ndarray__\":\"AAAAAAAAAAAAAAAAAQAAAAEAAAABAAAAAAAAAAEAAAABAAAAAQAAAAAAAAABAAAAAAAAAAAAAAABAAAAAAAAAAEAAAABAAAAAAAAAAAAAAABAAAAAQAAAAEAAAABAAAAAQAAAAAAAAABAAAAAQAAAAEAAAAAAAAAAQAAAAAAAAABAAAAAQAAAAAAAAAAAAAAAQAAAAEAAAABAAAAAQAAAAEAAAABAAAAAAAAAAAAAAABAAAAAQAAAAEAAAABAAAAAQAAAAAAAAAAAAAAAQAAAAAAAAABAAAAAQAAAAEAAAABAAAAAAAAAAEAAAABAAAAAAAAAAEAAAAAAAAAAAAAAAAAAAABAAAAAQAAAAEAAAAAAAAAAAAAAAAAAAAAAAAAAAAAAAEAAAABAAAAAQAAAAAAAAAAAAAAAQAAAAAAAAABAAAAAAAAAAAAAAABAAAAAQAAAAEAAAABAAAAAAAAAAAAAAABAAAAAAAAAAEAAAABAAAAAAAAAAAAAAABAAAAAAAAAAAAAAABAAAAAQAAAAAAAAAAAAAAAQAAAAAAAAAAAAAAAQAAAAAAAAABAAAAAAAAAAEAAAAAAAAAAQAAAAAAAAAAAAAAAQAAAAEAAAAAAAAAAQAAAAEAAAABAAAAAAAAAAEAAAABAAAAAQAAAAEAAAABAAAAAAAAAAAAAAABAAAAAQAAAAEAAAAAAAAAAQAAAAAAAAABAAAAAQAAAAAAAAABAAAAAAAAAAEAAAAAAAAAAAAAAAEAAAABAAAAAAAAAAEAAAABAAAAAAAAAAAAAAABAAAAAAAAAAEAAAAAAAAAAAAAAAAAAAABAAAAAQAAAAEAAAABAAAAAAAAAAAAAAAAAAAAAAAAAAAAAAABAAAAAQAAAAAAAAAAAAAAAAAAAAAAAAAAAAAAAQAAAAAAAAAAAAAAAAAAAAAAAAAAAAAAAQAAAAAAAAABAAAAAAAAAAAAAAABAAAAAAAAAAEAAAAAAAAAAAAAAAEAAAAAAAAAAQAAAAAAAAABAAAAAAAAAAEAAAAAAAAAAAAAAAAAAAAAAAAAAQAAAAAAAAAAAAAAAAAAAAAAAAAAAAAAAQAAAAEAAAAAAAAAAAAAAAEAAAABAAAAAAAAAAAAAAAAAAAAAAAAAAAAAAABAAAAAAAAAAAAAAAAAAAAAAAAAAAAAAAAAAAAAAAAAAAAAAABAAAAAAAAAAAAAAAAAAAAAAAAAAAAAAAAAAAAAQAAAAEAAAABAAAAAAAAAAAAAAAAAAAAAAAAAAEAAAAAAAAAAQAAAAAAAAAAAAAAAQAAAAAAAAABAAAAAQAAAAAAAAABAAAAAQAAAAAAAAABAAAAAAAAAAAAAAAAAAAAAQAAAAAAAAAAAAAAAQAAAAAAAAAAAAAAAAAAAAAAAAAAAAAAAAAAAAAAAAABAAAAAAAAAAEAAAAAAAAAAAAAAAAAAAAAAAAAAQAAAAAAAAABAAAAAAAAAAEAAAABAAAAAQAAAAEAAAAAAAAAAQAAAAAAAAAAAAAAAQAAAAAAAAABAAAAAQAAAAEAAAAAAAAAAQAAAAAAAAABAAAAAQAAAAEAAAAAAAAAAQAAAAAAAAABAAAAAAAAAAAAAAAAAAAAAQAAAAAAAAABAAAAAQAAAAEAAAABAAAAAQAAAAAAAAAAAAAAAQAAAAAAAAAAAAAAAAAAAAEAAAAAAAAAAQAAAAAAAAABAAAAAAAAAAEAAAAAAAAAAAAAAAAAAAAAAAAAAQAAAAAAAAAAAAAAAQAAAAAAAAAAAAAAAAAAAAEAAAABAAAAAQAAAAEAAAAAAAAAAAAAAAAAAAAAAAAAAQAAAAAAAAABAAAAAQAAAAEAAAAAAAAAAAAAAAEAAAABAAAAAAAAAAAAAAABAAAAAAAAAAEAAAABAAAAAQAAAAAAAAABAAAAAQAAAAAAAAAAAAAAAAAAAAEAAAABAAAAAQAAAAAAAAAAAAAAAAAAAAEAAAABAAAAAAAAAAEAAAABAAAAAQAAAAEAAAAAAAAAAwAAAAMAAAABAAAAAQAAAAEAAAAAAAAAAwAAAAAAAAAAAAAAAAAAAAAAAAABAAAAAQAAAAEAAAABAAAAAAAAAAAAAAAAAAAAAQAAAAAAAAABAAAAAAAAAAAAAAAAAAAAAAAAAAEAAAAAAAAAAAAAAAEAAAAAAAAAAAAAAAEAAAABAAAAAAAAAAEAAAAAAAAAAQAAAAEAAAABAAAAAQAAAAAAAAAAAAAAAQAAAAAAAAABAAAAAAAAAAAAAAAAAAAAAAAAAAAAAAAAAAAAAQAAAAEAAAABAAAAAAAAAAAAAAAAAAAAAAAAAAAAAAAAAAAAAQAAAAAAAAABAAAAAQAAAAEAAAABAAAAAAAAAAAAAAAAAAAAAAAAAAEAAAAAAAAAAAAAAAEAAAAAAAAAAAAAAAEAAAADAAAAAQAAAAAAAAABAAAAAQAAAAAAAAAAAAAAAQAAAAAAAAABAAAAAQAAAAAAAAABAAAAAQAAAAAAAAABAAAAAAAAAAEAAAAAAAAAAAAAAAEAAAAAAAAAAAAAAAAAAAAAAAAAAAAAAAEAAAABAAAAAQAAAAAAAAAAAAAAAAAAAAEAAAAAAAAAAQAAAAAAAAABAAAAAAAAAAAAAAAAAAAAAAAAAAEAAAAAAAAAAAAAAAAAAAABAAAAAAAAAAEAAAAAAAAAAQAAAAAAAAAAAAAAAAAAAAEAAAABAAAAAAAAAAAAAAAAAAAAAAAAAAAAAAAAAAAAAQAAAAAAAAABAAAAAAAAAAEAAAAAAAAAAAAAAAMAAAAAAAAAAgAAAAAAAAAAAAAAAAAAAAEAAAABAAAAAAAAAA==\",\"dtype\":\"int32\",\"order\":\"little\",\"shape\":[532]},\"CoinName\":[\"42 Coin\",\"404Coin\",\"EliteCoin\",\"Bitcoin\",\"Ethereum\",\"Litecoin\",\"Dash\",\"Monero\",\"Ethereum Classic\",\"ZCash\",\"Bitshares\",\"DigiByte\",\"BitcoinDark\",\"PayCoin\",\"ProsperCoin\",\"KoboCoin\",\"Spreadcoin\",\"Argentum\",\"Aurora Coin\",\"BlueCoin\",\"MyriadCoin\",\"MoonCoin\",\"ZetaCoin\",\"SexCoin\",\"Quatloo\",\"EnergyCoin\",\"QuarkCoin\",\"Riecoin\",\"Digitalcoin \",\"BitBar\",\"Catcoin\",\"CryptoBullion\",\"CannaCoin\",\"CryptCoin\",\"CasinoCoin\",\"Diamond\",\"Verge\",\"DevCoin\",\"EarthCoin\",\"E-Gulden\",\"Einsteinium\",\"Emerald\",\"Exclusive Coin\",\"FlutterCoin\",\"Franko\",\"FeatherCoin\",\"GrandCoin\",\"GlobalCoin\",\"GoldCoin\",\"HoboNickels\",\"HyperStake\",\"Infinite Coin\",\"IOCoin\",\"IXcoin\",\"KrugerCoin\",\"LuckyCoin\",\"Litebar \",\"MaxCoin\",\"MegaCoin\",\"MediterraneanCoin\",\"MintCoin\",\"MinCoin\",\"MazaCoin\",\"Nautilus Coin\",\"NavCoin\",\"NobleCoin\",\"Namecoin\",\"NyanCoin\",\"OpalCoin\",\"Orbitcoin\",\"PotCoin\",\"PhoenixCoin\",\"Reddcoin\",\"RonPaulCoin\",\"StableCoin\",\"SmartCoin\",\"SuperCoin\",\"SyncCoin\",\"SysCoin\",\"TeslaCoin\",\"TigerCoin\",\"TittieCoin\",\"TorCoin\",\"TerraCoin\",\"UnbreakableCoin\",\"Unobtanium\",\"UroCoin\",\"UnitaryStatus Dollar\",\"UltraCoin\",\"ViaCoin\",\"VeriCoin\",\"Vertcoin\",\"WorldCoin\",\"X11 Coin\",\"Crypti\",\"JouleCoin\",\"StealthCoin\",\"ZCC Coin\",\"ByteCoin\",\"DigitalNote \",\"BurstCoin\",\"StorjCoin\",\"MonaCoin\",\"Neutron\",\"FairCoin\",\"Gulden\",\"RubyCoin\",\"PesetaCoin\",\"Kore\",\"Wild Beast Coin\",\"Dnotes\",\"Flo\",\"8BIT Coin\",\"Sativa Coin\",\"ArtByte\",\"Folding Coin\",\"Ucoin\",\"Unitus\",\"CypherPunkCoin\",\"OmniCron\",\"Vtorrent\",\"GreenCoin\",\"Cryptonite\",\"MasterCoin\",\"SoonCoin\",\"1Credit\",\"IslaCoin\",\"Nexus\",\"MarsCoin \",\"Crypto\",\"Anarchists Prime\",\"Droidz\",\"BowsCoin\",\"Squall Coin\",\"Song Coin\",\"BitZeny\",\"Diggits\",\"Expanse\",\"Paycon\",\"Siacoin\",\"Emercoin\",\"EverGreenCoin\",\"MindCoin\",\"I0coin\",\"Decred\",\"Revolution VR\",\"HOdlcoin\",\"EDRCoin\",\"Hitcoin\",\"Gamecredits\",\"DubaiCoin\",\"CarpeDiemCoin\",\"PWR Coin\",\"BillaryCoin\",\"GPU Coin\",\"Adzcoin\",\"SoilCoin\",\"YoCoin\",\"SibCoin\",\"EuropeCoin\",\"ZeitCoin\",\"SwingCoin\",\"SafeExchangeCoin\",\"Nebuchadnezzar\",\"Francs\",\"BolivarCoin\",\"Ratecoin\",\"Revenu\",\"Clockcoin\",\"VIP Tokens\",\"BitSend\",\"Omni\",\"Let it Ride\",\"PutinCoin\",\"iBankCoin\",\"Frankywillcoin\",\"MudraCoin\",\"PizzaCoin\",\"Lutetium Coin\",\"Komodo\",\"GoldBlocks\",\"CarterCoin\",\"Karbo\",\"BitTokens\",\"ZayedCoin\",\"MustangCoin\",\"ZoneCoin\",\"Circuits of Value\",\"RootCoin\",\"DopeCoin\",\"BitCurrency\",\"DollarCoin\",\"Swiscoin\",\"Shilling\",\"BuzzCoin\",\"Opair\",\"PesoBit\",\"Halloween Coin\",\"ZCoin\",\"CoffeeCoin\",\"RoyalCoin\",\"GanjaCoin V2\",\"TeamUP\",\"LanaCoin\",\"Elementrem\",\"ZClassic\",\"ARK\",\"InsaneCoin\",\"KiloCoin\",\"ArtexCoin\",\"EmberCoin\",\"XenixCoin\",\"FreeCoin\",\"PLNCoin\",\"AquariusCoin\",\"Kurrent\",\"Creatio\",\"Eternity\",\"Eurocoin\",\"BitcoinFast\",\"Stakenet\",\"BitConnect Coin\",\"MoneyCoin\",\"Enigma\",\"Cannabis Industry Coin\",\"Russiacoin\",\"PandaCoin\",\"GameUnits\",\"GAKHcoin\",\"Allsafe\",\"LiteCreed\",\"OsmiumCoin\",\"Bikercoins\",\"HexxCoin\",\"Klingon Empire Darsek\",\"Internet of People\",\"KushCoin\",\"Printerium\",\"PacCoin\",\"Impeach\",\"Citadel\",\"Zilbercoin\",\"FirstCoin\",\"BeaverCoin\",\"FindCoin\",\"VaultCoin\",\"Zero\",\"OpenChat\",\"Canada eCoin\",\"Zoin\",\"RenosCoin\",\"DubaiCoin\",\"VirtacoinPlus\",\"TajCoin\",\"Impact\",\"EB3coin\",\"Atmos\",\"HappyCoin\",\"Coinonat\",\"MacronCoin\",\"Condensate\",\"Independent Money System\",\"ArgusCoin\",\"LomoCoin\",\"ProCurrency\",\"GoldReserve\",\"BenjiRolls\",\"GrowthCoin\",\"ILCoin\",\"Phreak\",\"Degas Coin\",\"HTML5 Coin\",\"Ultimate Secure Cash\",\"EquiTrader\",\"QTUM\",\"Quantum Resistant Ledger\",\"Espers\",\"Dynamic\",\"Nano\",\"ChanCoin\",\"Dinastycoin\",\"Denarius\",\"DigitalPrice\",\"Virta Unique Coin\",\"Bitcoin Planet\",\"Unify\",\"BritCoin\",\"SocialCoin\",\"ArcticCoin\",\"DAS\",\"Linda\",\"LeviarCoin\",\"DeepOnion\",\"Bitcore\",\"gCn Coin\",\"SmartCash\",\"Signatum\",\"Onix\",\"Cream\",\"Bitcoin Cash\",\"Monoeci\",\"Draftcoin\",\"Vechain\",\"Sojourn Coin\",\"Stakecoin\",\"NewYorkCoin\",\"FrazCoin\",\"Kronecoin\",\"AdCoin\",\"Linx\",\"CoinonatX\",\"Ethereum Dark\",\"Sumokoin\",\"Obsidian\",\"Cardano\",\"Regalcoin\",\"BitcoinZ\",\"TrezarCoin\",\"Elements\",\"TerraNovaCoin\",\"VIVO Coin\",\"Rupee\",\"Bitcoin Gold\",\"WomenCoin\",\"Theresa May Coin\",\"NamoCoin\",\"LUXCoin\",\"Pirl\",\"Xios\",\"Bitcloud 2.0\",\"eBoost\",\"KekCoin\",\"BlackholeCoin\",\"Infinity Economics\",\"Pura\",\"Innova\",\"Ellaism\",\"GoByte\",\"Magnet\",\"Lamden Tau\",\"Electra\",\"Bitcoin Diamond\",\"SHIELD\",\"Cash & Back Coin\",\"UltraNote\",\"BitCoal\",\"DaxxCoin\",\"Bulwark\",\"Kalkulus\",\"AC3\",\"Lethean\",\"GermanCoin\",\"LiteCoin Ultra\",\"PopularCoin\",\"PhantomX\",\"Photon\",\"Sucre\",\"SparksPay\",\"Digiwage\",\"GunCoin\",\"IrishCoin\",\"Trollcoin\",\"Litecoin Plus\",\"Monkey Project\",\"Pioneer Coin\",\"UnitedBitcoin\",\"Interzone\",\"TokenPay\",\"1717 Masonic Commemorative Token\",\"My Big Coin\",\"TurtleCoin\",\"MUNcoin\",\"Unified Society USDEX\",\"Niobio Cash\",\"ShareChain\",\"Travelflex\",\"KREDS\",\"Tokyo Coin\",\"BiblePay\",\"LitecoinCash\",\"BitFlip\",\"LottoCoin\",\"Crypto Improvement Fund\",\"Stipend\",\"Poa Network\",\"Pushi\",\"Ellerium\",\"Velox\",\"Ontology\",\"Callisto Network\",\"BitTube\",\"Poseidon\",\"Aidos Kuneen\",\"Bitspace\",\"Briacoin\",\"Ignition\",\"Bitrolium\",\"MedicCoin\",\"Alpenschillling\",\"Bitcoin Green\",\"Deviant Coin\",\"Abjcoin\",\"Semux\",\"FuturoCoin\",\"Carebit\",\"Zealium\",\"Monero Classic\",\"Proton\",\"iDealCash\",\"Jumpcoin\",\"Infinex\",\"Bitcoin Incognito\",\"KEYCO\",\"HollyWoodCoin\",\"GINcoin\",\"PlatinCoin\",\"Loki\",\"Newton Coin\",\"Swisscoin\",\"Xt3ch\",\"MassGrid\",\"TheVig\",\"PluraCoin\",\"EmaratCoin\",\"Dekado\",\"Lynx\",\"Poseidon Quark\",\"BitcoinWSpectrum\",\"Muse\",\"Motion\",\"PlusOneCoin\",\"Axe\",\"Trivechain\",\"Dystem\",\"Giant\",\"Peony Coin\",\"Absolute Coin\",\"Vitae\",\"HexCoin\",\"TPCash\",\"Webchain\",\"Ryo\",\"Urals Coin\",\"Qwertycoin\",\"ARENON\",\"EUNO\",\"MMOCoin\",\"Ketan\",\"Project Pai\",\"XDNA\",\"PAXEX\",\"Azart\",\"ThunderStake\",\"Kcash\",\"Xchange\",\"Acute Angle Cloud\",\"CrypticCoin\",\"Bettex coin\",\"Actinium\",\"Bitcoin SV\",\"BitMoney\",\"Junson Ming Chan Coin\",\"FREDEnergy\",\"HerbCoin\",\"Universal Molecule\",\"Lithium\",\"PirateCash\",\"Exosis\",\"Block-Logic\",\"Oduwa\",\"Beam\",\"Galilel\",\"Bithereum\",\"Crypto Sports\",\"Credit\",\"SLICE\",\"Dash Platinum\",\"Nasdacoin\",\"Beetle Coin\",\"Titan Coin\",\"Award\",\"BLAST\",\"Bitcoin Rhodium\",\"GlobalToken\",\"Insane Coin\",\"ALAX\",\"LiteDoge\",\"SolarCoin\",\"TruckCoin\",\"UFO Coin\",\"OrangeCoin\",\"BlakeCoin\",\"BitstarCoin\",\"NeosCoin\",\"HyperCoin\",\"PinkCoin\",\"Crypto Escudo\",\"AudioCoin\",\"IncaKoin\",\"Piggy Coin\",\"Crown Coin\",\"Genstake\",\"SmileyCoin\",\"XiaoMiCoin\",\"Groestlcoin\",\"CapriCoin\",\" ClubCoin\",\"Radium\",\"Bata\",\"Pakcoin\",\"Creditbit \",\"OKCash\",\"Lisk\",\"HiCoin\",\"WhiteCoin\",\"FriendshipCoin\",\"JoinCoin\",\"Triangles Coin\",\"Vollar\",\"EOS\",\"Reality Clash\",\"Oxycoin\",\"TigerCash\",\"Waves\",\"Particl\",\"BitTorrent\",\"Nxt\",\"ZEPHYR\",\"Gapcoin\",\"Beldex\",\"Horizen\",\"BitcoinPlus\"],\"ProofType\":[\"PoW/PoS\",\"PoW/PoS\",\"PoW/PoS\",\"PoW\",\"PoW\",\"PoW\",\"PoW/PoS\",\"PoW\",\"PoW\",\"PoW\",\"PoS\",\"PoW\",\"PoW/PoS\",\"PoS\",\"PoW\",\"PoW/PoS\",\"PoW\",\"PoW\",\"PoW/PoS\",\"PoW/PoS\",\"PoW\",\"PoW\",\"PoW\",\"PoW\",\"PoW\",\"PoW/PoS\",\"PoW\",\"PoW\",\"PoW\",\"PoW/PoS\",\"PoW\",\"PoW/PoS\",\"PoW\",\"PoW\",\"PoC\",\"PoW/PoS\",\"PoW\",\"PoW\",\"PoW\",\"PoW\",\"PoW\",\"PoW\",\"PoS\",\"PoS/PoW/PoT\",\"PoW\",\"PoW\",\"PoW\",\"PoW\",\"PoW\",\"PoW/PoS\",\"PoS\",\"PoW\",\"PoW/PoS\",\"PoW\",\"PoW\",\"PoW\",\"PoW\",\"PoW/PoS\",\"PoW\",\"PoW\",\"PoS\",\"PoW\",\"PoW/PoS\",\"PoS\",\"PoW/PoS\",\"PoW\",\"PoW\",\"PoW\",\"PoW/PoS\",\"PoW/PoS\",\"PoW/PoS\",\"PoW/PoS\",\"PoW/PoS\",\"PoW\",\"PoW\",\"PoW\",\"PoS\",\"PoW/PoS\",\"PoW\",\"PoS\",\"PoW\",\"PoS\",\"PoW/PoS\",\"PoW\",\"PoW\",\"PoW\",\"PoW\",\"PoW/PoS\",\"PoW/PoS\",\"PoW\",\"PoST\",\"PoW\",\"PoW\",\"PoW/PoS\",\"PoS\",\"PoW\",\"PoW/PoS\",\"PoW/PoS\",\"PoW\",\"PoW\",\"PoC\",\"PoS\",\"PoW\",\"PoW/PoS\",\"PoW/PoS\",\"PoW\",\"PoS\",\"PoW\",\"PoW/PoS\",\"PoW\",\"PoS\",\"PoW\",\"PoW/PoS\",\"PoW/PoS\",\"PoW\",\"PoW\",\"PoS\",\"PoW\",\"PoW\",\"PoW\",\"PoW/PoS\",\"PoW\",\"PoW\",\"PoW\",\"PoW\",\"PoW\",\"PoW/PoS\",\"PoW/nPoS\",\"PoW\",\"PoW\",\"PoW\",\"PoW/PoS\",\"PoW\",\"PoS/PoW\",\"PoW\",\"PoW\",\"PoS\",\"PoW\",\"PoW/PoS\",\"PoW\",\"PoW/PoS\",\"PoW/PoS\",\"PoW\",\"PoW\",\"PoW/PoS\",\"PoW\",\"PoW\",\"PoW/PoS\",\"PoW/PoS\",\"PoW\",\"PoW/PoS\",\"PoW\",\"PoW/PoS\",\"PoW/PoS\",\"PoS\",\"PoW\",\"PoW\",\"PoW\",\"PoW\",\"PoW/PoS\",\"PoS\",\"PoW/PoS\",\"PoC\",\"PoS\",\"PoW\",\"PoW\",\"PoW/PoS\",\"PoW/PoS\",\"PoW/PoS\",\"PoW/PoS\",\"PoW/PoS\",\"PoW\",\"PoS\",\"PoW/PoS\",\"PoW/PoS\",\"PoW/PoS\",\"PoS\",\"PoW\",\"PoS\",\"dPoW/PoW\",\"PoW/PoS\",\"PoW/PoS\",\"PoW\",\"PoW/PoS\",\"PoW\",\"PoW/PoS\",\"PoW/PoS\",\"PoW\",\"PoW/PoS\",\"PoW\",\"PoS\",\"PoW\",\"PoW/PoW\",\"PoW\",\"PoW/PoS\",\"PoS\",\"PoW/PoS\",\"PoW/PoS\",\"PoW\",\"PoS\",\"PoS\",\"PoW/PoS\",\"PoS\",\"PoW/PoS\",\"PoW\",\"PoW\",\"DPoS\",\"PoW/PoS\",\"PoW\",\"PoW\",\"PoW/PoS\",\"PoW/PoS\",\"PoS\",\"PoW/PoS\",\"PoW/PoS\",\"PoW\",\"PoS\",\"PoW/PoS\",\"PoW/PoS\",\"PoW/PoS\",\"TPoS\",\"PoW/PoS\",\"PoW/PoS\",\"PoW/PoS\",\"PoW\",\"PoW/PoS\",\"PoS\",\"PoW/PoS\",\"PoW/PoS\",\"PoS\",\"PoW/PoS\",\"PoW\",\"PoW\",\"PoW\",\"PoW/PoS\",\"PoW/PoS\",\"PoW/PoS\",\"PoW/PoS\",\"PoW\",\"PoW/PoS\",\"PoW\",\"PoS\",\"PoW/PoS \",\"PoW\",\"PoS\",\"PoW\",\"PoW\",\"PoW/PoS\",\"PoW\",\"PoW\",\"PoS\",\"PoW\",\"PoW/PoS\",\"PoW/PoS\",\"PoW/PoS\",\"PoW\",\"PoS\",\"PoW/PoS\",\"PoW\",\"PoS\",\"PoW/PoS\",\"PoW/PoS\",\"PoW/PoS\",\"PoW/PoS\",\"PoS\",\"PoW/PoS\",\"PoW\",\"PoS\",\"PoW\",\"PoS\",\"PoW/PoS\",\"PoW/PoS\",\"PoS\",\"PoW\",\"PoS\",\"PoW\",\"PoW/PoS\",\"PoW\",\"PoW\",\"PoW\",\"PoW\",\"PoW/PoS\",\"PoW\",\"PoW/PoS\",\"PoW/PoS\",\"PoW\",\"PoW/PoS\",\"PoW\",\"PoW\",\"PoW\",\"PoW/PoS\",\"PoW\",\"PoW/PoS\",\"PoW\",\"PoW\",\"PoW\",\"PoS\",\"PoW\",\"PoW/PoS\",\"PoW\",\"PoW/PoS\",\"PoS\",\"Proof of Authority\",\"PoW\",\"PoS\",\"PoW\",\"PoW\",\"PoW\",\"PoW\",\"PoW\",\"PoW/PoS\",\"PoW/PoS\",\"PoW\",\"PoS\",\"PoS\",\"PoW/PoS\",\"PoW\",\"PoW/PoS\",\"PoW\",\"PoW/PoS\",\"PoW\",\"PoS\",\"PoW\",\"PoW/PoS\",\"PoW/PoS\",\"PoW/PoS\",\"PoW/PoS\",\"PoW\",\"PoW/PoS\",\"PoW/PoS\",\"PoW\",\"PoS\",\"PoW/PoS\",\"PoS\",\"PoW\",\"PoW\",\"PoW\",\"PoW\",\"PoW/PoS\",\"DPoS\",\"PoW/PoS\",\"PoW/PoS\",\"PoW\",\"PoW/PoS\",\"PoW\",\"PoW\",\"PoW\",\"PoS\",\"PoS\",\"PoW\",\"PoW\",\"PoW/PoS\",\"PoW/PoS\",\"PoW\",\"PoW/PoS\",\"PoW\",\"PoW\",\"PoW\",\"PoS\",\"PoW\",\"PoW\",\"PoW/PoS\",\"PoW/PoS\",\"PoS\",\"PoW\",\"PoW\",\"PoW\",\"PoS\",\"PoS\",\"PoW and PoS\",\"PoW\",\"PoW\",\"PoW/PoS\",\"PoW\",\"PoW\",\"PoW\",\"PoW\",\"PoS\",\"POBh\",\"PoW + Hive\",\"PoW\",\"PoW\",\"PoW\",\"PoW/PoS\",\"PoA\",\"PoW/PoS\",\"PoW/PoS\",\"PoS\",\"PoS\",\"PoW\",\"PoW\",\"PoW\",\"PoW\",\"PoW/PoS\",\"PoW/PoS\",\"PoW/PoS\",\"PoW\",\"PoS\",\"PoW\",\"PoS\",\"PoS\",\"PoW/PoS\",\"DPoS\",\"PoW\",\"PoW/PoS\",\"PoS\",\"PoW\",\"PoS\",\"PoW/PoS\",\"PoW\",\"PoW\",\"PoS/PoW\",\"PoW\",\"PoS\",\"PoW\",\"PoW\",\"PoW\",\"PoW\",\"PoW/PoS\",\"PoS\",\"PoW\",\"PoW/PoS\",\"PoW\",\"PoW/PoS\",\"PoS\",\"HPoW\",\"PoS\",\"PoS\",\"PoS\",\"PoW\",\"PoW\",\"PoW\",\"PoW/PoS\",\"PoS\",\"PoW/PoS\",\"PoS\",\"PoW/PoS\",\"PoS\",\"PoW\",\"PoW/PoS\",\"PoW\",\"PoW\",\"PoW\",\"PoW\",\"PoS\",\"PoW/PoS\",\"PoS\",\"PoS\",\"PoW\",\"PoW/PoS\",\"PoS\",\"PoW\",\"PoW/PoS\",\"Zero-Knowledge Proof\",\"PoW\",\"DPOS\",\"PoW\",\"PoS\",\"PoW\",\"PoW\",\"Pos\",\"PoS\",\"PoW\",\"PoW/PoS\",\"PoW\",\"PoW\",\"PoS\",\"PoW\",\"PoW\",\"PoW/PoS\",\"PoW\",\"PoW/PoS\",\"PoW\",\"PoS\",\"PoW/PoS\",\"PoW\",\"PoS\",\"PoW/PoS\",\"PoW/PoS\",\"PoW/PoS\",\"PoW/PoS\",\"PoW\",\"PoW\",\"PoW\",\"PoW/PoS\",\"DPoS\",\"PoW/PoS\",\"PoW\",\"PoW/PoS\",\"PoW\",\"PoW/PoS\",\"PoW\",\"PoW/PoS\",\"PoS\",\"PoW/PoS\",\"PoW/PoS\",\"PoW\",\"PoW/PoS\",\"PoW/PoS\",\"PoW/PoS\",\"PoW\",\"PoW/PoS\",\"PoW\",\"PoW/PoS\",\"PoW\",\"PoW/PoS\",\"PoW/PoS\",\"PoS\",\"PoW\",\"PoW\",\"Proof of Trust\",\"PoW/PoS\",\"DPoS\",\"PoS\",\"PoW/PoS\",\"PoW/PoS\",\"PoW\",\"PoW/PoS\",\"PoW\",\"DPoS\",\"PoW\",\"DPoS\",\"PoS\",\"LPoS\",\"PoS\",\"DPoS\",\"PoS/LPoS\",\"DPoS\",\"PoW/PoS\",\"PoW\",\"PoW\",\"PoS\"],\"TotalCoinSupply\":[\"42\",\"532000000\",\"314159265359\",\"21000000\",\"0\",\"84000000\",\"22000000\",\"0\",\"210000000\",\"21000000\",\"3600570502\",\"21000000000\",\"22000000\",\"12500000\",\"21000000\",\"350000000\",\"20000000\",\"64000000\",\"16768584\",\"0\",\"2000000000\",\"384000000000\",\"169795588\",\"250000000\",\"100000000\",\"0\",\"247000000\",\"84000000\",\"48166000\",\"500000\",\"21000000 \",\"1000000\",\"13140000\",\"18000000\",\"40000000000\",\"4380000\",\"16555000000\",\"21000000000\",\"13500000000\",\"21000000 \",\"299792458\",\"32000000\",\"0\",\"0\",\"11235813\",\"336000000\",\"1420609614\",\"70000000\",\"72245700\",\"120000000\",\"0\",\"90600000000\",\"22000000\",\"21000000\",\"265420800\",\"20000000\",\"1350000\",\"100000000\",\"42000000\",\"200000000\",\"0\",\"10000000\",\"2419200000\",\"16180000\",\"0\",\"15000000000\",\"21000000\",\"337000000\",\"0\",\"3770000\",\"420000000\",\"98000000\",\"0\",\"21000000\",\"250000000\",\"51200000\",\"0\",\"1000\",\"888000000\",\"100000000\",\"47011968\",\"2300000000\",\"10000000\",\"42000000\",\"80000000\",\"250000\",\"0\",\"1600000000\",\"100000000\",\"23000000\",\"0\",\"84000000\",\"265420800\",\"5500000\",\"0\",\"45000000\",\"0\",\"1000000000\",\"184467440735\",\"10000000000\",\"2158812800\",\"500000000\",\"105120000\",\"68000000\",\"0\",\"1680000000\",\"0\",\"166386000\",\"12000000\",\"2628000\",\"500000000\",\"160000000\",\"0\",\"10000000\",\"1000000000\",\"1000000000\",\"20000000\",\"0\",\"0\",\"3371337\",\"20000000\",\"10000000000\",\"1840000000\",\"619478\",\"21000000\",\"92000000000\",\"0\",\"78000000\",\"33000000\",\"65789100\",\"53760000\",\"5060000\",\"21000000\",\"0\",\"210240000\",\"250000000\",\"100000000\",\"16906397\",\"50000000\",\"0\",\"1000000000\",\"26298000\",\"16000000\",\"21000000\",\"21000000\",\"210000000\",\"81962100\",\"22000000\",\"26550000000\",\"84000000\",\"10500000\",\"21626280000 \",\"0\",\"42000000\",\"221052632\",\"84000000\",\"30000000\",\"168351300\",\"24000000\",\"384000000\",\" 99000000000\",\"40000000\",\"2147483647\",\"20000000\",\"20000000\",\"25000000\",\"75000000\",\"222725000\",\"525000000\",\"90000000\",\"139000000\",\"616448\",\"33500000\",\"2000000000\",\"44333333\",\"100000000\",\"200000000\",\"25000000\",\"657000000\",\"200000000\",\"50000000\",\"90000000\",\"10000000\",\"21000000\",\"9736000\",\"3000000\",\"21000000\",\"1200000000\",\"0\",\"200000000\",\"0\",\"10638298\",\"3100000000\",\"30000000\",\"20000000000\",\"74000000\",\"0\",\"1500000000\",\"21400000\",\"39999898\",\"2500124\",\"100000000\",\"301000000\",\"7506000000\",\"26205539\",\"21000000\",\"125000000\",\"30000000\",\"10000000000\",\"500000000\",\"850000000\",\"3853326.77707314\",\"50000000\",\"38540000 \",\"42000000\",\"228000000\",\"20000000\",\"60000000\",\"20000000\",\"33000000\",\"76500000\",\"28000000\",\"650659833\",\"5000000\",\"21000000\",\"144000000\",\"32514916898\",\"13000000\",\"3315789\",\"15000000\",\"78835200\",\"2714286\",\"25000000\",\"9999999\",\"500000000\",\"21000000\",\"9354000\",\"20000000\",\"100000000000\",\"21933333\",\"185000000\",\"55000000\",\"110000000\",\"3360000\",\"14524851.4827\",\"1000000000\",\"17000000\",\"1000000000\",\"100000000 \",\"21000000\",\"34426423\",\"2232901\",\"100000000\",\"36900000\",\"110000000\",\"4000000000\",\"110290030\",\"100000000\",\"48252000\",\"400000000\",\"500000000\",\"21212121\",\"28600000\",\"1000000000\",\"75000000000\",\"40000000\",\"35520400\",\"2000000000\",\"2500000000\",\"30000000\",\"105000000\",\"90000000000\",\"200084200\",\"72000000\",\"100000000\",\"105000000\",\"50000000000\",\"0\",\"340282367\",\"30000000\",\"2000000000\",\"10000000\",\"100000000\",\"120000000\",\"100000000\",\"19276800\",\"30000000\",\" 75000000\",\"60000000\",\"18900000\",\"50000000000\",\"54000000\",\"18898187.6216583\",\"21000000\",\"200000000000\",\"5000000000\",\"137500000\",\"1100000000\",\"100000000\",\"21000000\",\"9507271\",\"17405891.19707116\",\"86712634466\",\"10500000000\",\"61599965\",\"0\",\"20000000\",\"84000000\",\"100000000\",\"100000000\",\"48252000\",\"4200000\",\"88888888\",\"91388946\",\"45000000000\",\"27000000\",\"21000000000\",\"400000000\",\"1800000000\",\"15733333\",\"27000000\",\"24000000\",\"21000000\",\"25000000000\",\"100000000\",\"1200000000\",\"60000000\",\"156306732.71\",\"21000000\",\"200000000\",\"100000000\",\"21000000\",\"14788275.991\",\"9000000000\",\"350000000\",\"45000000\",\"280000000\",\"31800000\",\"144000000\",\"500000000\",\"30000000000\",\"210000000\",\"660000000\",\"210000000\",\"85000000000\",\"12500000\",\"10000000000\",\"27716121\",\"20000000\",\"550000000\",\"999481516\",\"50000000000\",\"150000000\",\"4999999999\",\"50000000\",\" 90000000000\",\"19800000\",\"21000000\",\"120000000\",\"500000000\",\"64000000\",\"900000000\",\"4000000\",\"21000000\",\"23000000\",\"20166000\",\"23000000\",\"25000000\",\"1618033\",\"30000000\",\"1000000000000\",\"16600000\",\"232000000\",\"336000000\",\"10000000000\",\"100000000\",\"1100000000\",\"800000000\",\"5200000000\",\"840000000\",\"40000000\",\"18406979840\",\"500000000\",\"19340594\",\"252460800\",\"25000000\",\"60000000\",\"124000000\",\"1000000000\",\"6500000000\",\"1000000000\",\"21000000\",\"25000000\",\"50000000\",\"3000000\",\"5000000\",\"70000000\",\"500000000\",\"300000000\",\"21000000\",\"88000000\",\"30000000\",\"100000000\",\"100000000\",\"200000000\",\"80000000\",\"18400000\",\"45000000\",\"5121951220\",\"21000000\",\"26280000\",\"21000000\",\"18000000\",\"26000000\",\"10500000\",\"600000518\",\"150000000\",\"184000000000\",\"10200000000\",\"44000000\",\"168000000\",\"100000000\",\"1000000000\",\"84000000\",\"90000000\",\"92000000000\",\"650000000 \",\"100262205\",\"18081806 \",\"22075700\",\"21000000\",\"21000000\",\"82546564\",\"21000000\",\"5151000\",\"16880000000\",\"52500000\",\"100000000\",\"22105263\",\"1000000000\",\"1750000000\",\"88188888\",\"210000000\",\"184470000000\",\"55000000\",\"50000000\",\"260000000\",\"210000000\",\"2100000000\",\"366000000\",\"100000000\",\"25000000\",\"18000000000\",\"1000000000\",\"100000000\",\"1000000000\",\"7600000000\",\"50000000\",\"84000000\",\"21000000\",\"70000000000\",\"0\",\"8080000000\",\"54000000\",\"105120001.44\",\"25228800\",\"105000000\",\"21000000\",\"120000000\",\"21000000\",\"262800000\",\"19035999\",\"30886000\",\"13370000\",\"74800000000\",\"100000000\",\"19700000\",\"84000000\",\"500000000\",\"5000000000\",\"420000000\",\"64000000\",\"2100000\",\"168000000\",\"30000000\",\"1000000000\",\"35000000000\",\"98100000000\",\"0\",\"4000000000\",\"200000000\",\"7000000000\",\"54256119\",\"21000000\",\"0\",\"500000000\",\"1000000000\",\"10500000000\",\"190000000\",\"1000000000\",\"42000000\",\"15000000\",\"50000000000\",\"400000000\",\"105000000\",\"208000000\",\"160000000\",\"9000000\",\"5000000\",\"182000000\",\"16504333\",\"105000000\",\"159918400\",\"10008835635\",\"300000000\",\"60168145\",\"2800000\",\"120000\",\"2100000000\",\"0\",\"24487944\",\"0\",\"1000000000\",\"100000000\",\"8634140\",\"990000000000\",\"1000000000\",\"2000000000\",\"250000000\",\"1400222610\",\"21000000\",\"1000000\"],\"TotalCoinsMined\":{\"__ndarray__\":\"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\",\"dtype\":\"float64\",\"order\":\"little\",\"shape\":[532]}},\"selected\":{\"id\":\"1123\"},\"selection_policy\":{\"id\":\"1157\"}},\"id\":\"1122\",\"type\":\"ColumnDataSource\"}],\"root_ids\":[\"1120\"]},\"title\":\"Bokeh Application\",\"version\":\"2.4.0\"}};\n",
       "    var render_items = [{\"docid\":\"e2378044-909e-4107-8c82-6a87deff8f2b\",\"root_ids\":[\"1120\"],\"roots\":{\"1120\":\"c7da5fdc-aa3c-444d-9fe4-b55e956ed7d0\"}}];\n",
       "    root.Bokeh.embed.embed_items_notebook(docs_json, render_items);\n",
       "  }\n",
       "  if (root.Bokeh !== undefined && root.Bokeh.Panel !== undefined) {\n",
       "    embed_document(root);\n",
       "  } else {\n",
       "    var attempts = 0;\n",
       "    var timer = setInterval(function(root) {\n",
       "      if (root.Bokeh !== undefined && root.Bokeh.Panel !== undefined) {\n",
       "        clearInterval(timer);\n",
       "        embed_document(root);\n",
       "      } else if (document.readyState == \"complete\") {\n",
       "        attempts++;\n",
       "        if (attempts > 200) {\n",
       "          clearInterval(timer);\n",
       "          console.log(\"Bokeh: ERROR: Unable to run BokehJS code because BokehJS library is missing\");\n",
       "        }\n",
       "      }\n",
       "    }, 25, root)\n",
       "  }\n",
       "})(window);</script>"
      ],
      "text/plain": [
       ":Table   [Algorithm,ProofType,TotalCoinsMined,TotalCoinSupply,Class,CoinName]"
      ]
     },
     "execution_count": 69,
     "metadata": {
      "application/vnd.holoviews_exec.v0+json": {
       "id": "1120"
      }
     },
     "output_type": "execute_result"
    }
   ],
   "source": [
    "# Table with tradable cryptos\n",
    "clustered_crypto_df.hvplot.table(columns=['Algorithm', 'ProofType', 'TotalCoinsMined', 'TotalCoinSupply', 'Class', 'CoinName'])"
   ]
  },
  {
   "cell_type": "code",
   "execution_count": 78,
   "metadata": {},
   "outputs": [
    {
     "name": "stdout",
     "output_type": "stream",
     "text": [
      "Algorithm          531\n",
      "ProofType          531\n",
      "TotalCoinsMined    531\n",
      "TotalCoinSupply    531\n",
      "PC1                531\n",
      "PC2                531\n",
      "PC3                531\n",
      "class              531\n",
      "Class              531\n",
      "CoinName           531\n",
      "dtype: int64\n"
     ]
    }
   ],
   "source": [
    "# Print the total number of tradable cryptocurrencies\n",
    "total_tradeable_cryptos = clustered_crypto_df.count()\n",
    "print(total_tradeable_cryptos - 1)"
   ]
  },
  {
   "cell_type": "markdown",
   "metadata": {},
   "source": [
    "#### Scatter Plot with Tradable Cryptocurrencies"
   ]
  },
  {
   "cell_type": "code",
   "execution_count": 74,
   "metadata": {},
   "outputs": [],
   "source": [
    "# Scale data to create the scatter plot\n",
    "clustered_crypto_df['TotalCoinSupply'] = clustered_crypto_df['TotalCoinSupply'].astype(\"float\")\n",
    "scaled_crypto_df = clustered_crypto_df[['TotalCoinSupply', 'TotalCoinsMined']]\n",
    "scaled_crypto_df = StandardScaler().fit_transform(scaled_crypto_df)\n",
    "scaled_crypto_df = pd.DataFrame(scaled_crypto_df, columns=['TotalCoinSupply', 'TotalCoinsMined'])"
   ]
  },
  {
   "cell_type": "code",
   "execution_count": 75,
   "metadata": {},
   "outputs": [
    {
     "data": {},
     "metadata": {},
     "output_type": "display_data"
    },
    {
     "data": {
      "application/vnd.holoviews_exec.v0+json": "",
      "text/html": [
       "<div id='1173'>\n",
       "\n",
       "\n",
       "\n",
       "\n",
       "\n",
       "  <div class=\"bk-root\" id=\"7b5075ce-21ed-469f-b46c-20f6ac07f202\" data-root-id=\"1173\"></div>\n",
       "</div>\n",
       "<script type=\"application/javascript\">(function(root) {\n",
       "  function embed_document(root) {\n",
       "    var docs_json = {\"5f4c9d19-c8ee-443e-b47c-50e69c12ec47\":{\"defs\":[{\"extends\":null,\"module\":null,\"name\":\"ReactiveHTML1\",\"overrides\":[],\"properties\":[]},{\"extends\":null,\"module\":null,\"name\":\"FlexBox1\",\"overrides\":[],\"properties\":[{\"default\":\"flex-start\",\"kind\":null,\"name\":\"align_content\"},{\"default\":\"flex-start\",\"kind\":null,\"name\":\"align_items\"},{\"default\":\"row\",\"kind\":null,\"name\":\"flex_direction\"},{\"default\":\"wrap\",\"kind\":null,\"name\":\"flex_wrap\"},{\"default\":\"flex-start\",\"kind\":null,\"name\":\"justify_content\"}]},{\"extends\":null,\"module\":null,\"name\":\"TemplateActions1\",\"overrides\":[],\"properties\":[{\"default\":0,\"kind\":null,\"name\":\"open_modal\"},{\"default\":0,\"kind\":null,\"name\":\"close_modal\"}]},{\"extends\":null,\"module\":null,\"name\":\"MaterialTemplateActions1\",\"overrides\":[],\"properties\":[{\"default\":0,\"kind\":null,\"name\":\"open_modal\"},{\"default\":0,\"kind\":null,\"name\":\"close_modal\"}]}],\"roots\":{\"references\":[{\"attributes\":{\"fill_alpha\":{\"value\":0.1},\"fill_color\":{\"value\":\"#30a2da\"},\"hatch_alpha\":{\"value\":0.1},\"hatch_color\":{\"value\":\"#30a2da\"},\"line_alpha\":{\"value\":0.1},\"line_color\":{\"value\":\"#30a2da\"},\"size\":{\"value\":5.477225575051661},\"x\":{\"field\":\"TotalCoinsMined\"},\"y\":{\"field\":\"TotalCoinSupply\"}},\"id\":\"1212\",\"type\":\"Scatter\"},{\"attributes\":{},\"id\":\"1195\",\"type\":\"SaveTool\"},{\"attributes\":{},\"id\":\"1221\",\"type\":\"BasicTickFormatter\"},{\"attributes\":{\"source\":{\"id\":\"1208\"}},\"id\":\"1215\",\"type\":\"CDSView\"},{\"attributes\":{\"overlay\":{\"id\":\"1200\"}},\"id\":\"1198\",\"type\":\"BoxZoomTool\"},{\"attributes\":{\"fill_alpha\":{\"value\":0.2},\"fill_color\":{\"value\":\"#30a2da\"},\"hatch_alpha\":{\"value\":0.2},\"hatch_color\":{\"value\":\"#30a2da\"},\"line_alpha\":{\"value\":0.2},\"line_color\":{\"value\":\"#30a2da\"},\"size\":{\"value\":5.477225575051661},\"x\":{\"field\":\"TotalCoinsMined\"},\"y\":{\"field\":\"TotalCoinSupply\"}},\"id\":\"1213\",\"type\":\"Scatter\"},{\"attributes\":{\"margin\":[5,5,5,5],\"name\":\"HSpacer01919\",\"sizing_mode\":\"stretch_width\"},\"id\":\"1174\",\"type\":\"Spacer\"},{\"attributes\":{},\"id\":\"1199\",\"type\":\"ResetTool\"},{\"attributes\":{},\"id\":\"1183\",\"type\":\"LinearScale\"},{\"attributes\":{\"children\":[{\"id\":\"1174\"},{\"id\":\"1178\"},{\"id\":\"1243\"}],\"margin\":[0,0,0,0],\"name\":\"Row01915\",\"tags\":[\"embedded\"]},\"id\":\"1173\",\"type\":\"Row\"},{\"attributes\":{\"bottom_units\":\"screen\",\"coordinates\":null,\"fill_alpha\":0.5,\"fill_color\":\"lightgrey\",\"group\":null,\"left_units\":\"screen\",\"level\":\"overlay\",\"line_alpha\":1.0,\"line_color\":\"black\",\"line_dash\":[4,4],\"line_width\":2,\"right_units\":\"screen\",\"syncable\":false,\"top_units\":\"screen\"},\"id\":\"1200\",\"type\":\"BoxAnnotation\"},{\"attributes\":{\"coordinates\":null,\"data_source\":{\"id\":\"1208\"},\"glyph\":{\"id\":\"1211\"},\"group\":null,\"hover_glyph\":null,\"muted_glyph\":{\"id\":\"1213\"},\"nonselection_glyph\":{\"id\":\"1212\"},\"selection_glyph\":{\"id\":\"1216\"},\"view\":{\"id\":\"1215\"}},\"id\":\"1214\",\"type\":\"GlyphRenderer\"},{\"attributes\":{\"margin\":[5,5,5,5],\"name\":\"HSpacer01920\",\"sizing_mode\":\"stretch_width\"},\"id\":\"1243\",\"type\":\"Spacer\"},{\"attributes\":{\"angle\":{\"value\":0.0},\"fill_alpha\":{\"value\":1.0},\"fill_color\":{\"value\":\"#30a2da\"},\"hatch_alpha\":{\"value\":1.0},\"hatch_color\":{\"value\":\"#30a2da\"},\"hatch_scale\":{\"value\":12.0},\"hatch_weight\":{\"value\":1.0},\"line_alpha\":{\"value\":1.0},\"line_cap\":{\"value\":\"butt\"},\"line_color\":{\"value\":\"#30a2da\"},\"line_dash\":{\"value\":[]},\"line_dash_offset\":{\"value\":0},\"line_join\":{\"value\":\"bevel\"},\"line_width\":{\"value\":1},\"marker\":{\"value\":\"circle\"},\"size\":{\"value\":5.477225575051661},\"x\":{\"field\":\"TotalCoinsMined\"},\"y\":{\"field\":\"TotalCoinSupply\"}},\"id\":\"1216\",\"type\":\"Scatter\"},{\"attributes\":{\"end\":16.101700136496554,\"reset_end\":16.101700136496554,\"reset_start\":-1.6305585196728132,\"start\":-1.6305585196728132,\"tags\":[[[\"TotalCoinSupply\",\"TotalCoinSupply\",null]]]},\"id\":\"1176\",\"type\":\"Range1d\"},{\"attributes\":{},\"id\":\"1196\",\"type\":\"PanTool\"},{\"attributes\":{\"callback\":null,\"renderers\":[{\"id\":\"1214\"}],\"tags\":[\"hv_created\"],\"tooltips\":[[\"TotalCoinsMined\",\"@{TotalCoinsMined}\"],[\"TotalCoinSupply\",\"@{TotalCoinSupply}\"]]},\"id\":\"1177\",\"type\":\"HoverTool\"},{\"attributes\":{},\"id\":\"1185\",\"type\":\"LinearScale\"},{\"attributes\":{},\"id\":\"1222\",\"type\":\"AllLabels\"},{\"attributes\":{},\"id\":\"1230\",\"type\":\"UnionRenderers\"},{\"attributes\":{\"coordinates\":null,\"group\":null,\"text_color\":\"black\",\"text_font_size\":\"12pt\"},\"id\":\"1179\",\"type\":\"Title\"},{\"attributes\":{},\"id\":\"1218\",\"type\":\"BasicTickFormatter\"},{\"attributes\":{\"end\":22.52224074112297,\"reset_end\":22.52224074112297,\"reset_start\":-1.0474923722602518,\"start\":-1.0474923722602518,\"tags\":[[[\"TotalCoinsMined\",\"TotalCoinsMined\",null]]]},\"id\":\"1175\",\"type\":\"Range1d\"},{\"attributes\":{\"below\":[{\"id\":\"1187\"}],\"center\":[{\"id\":\"1190\"},{\"id\":\"1194\"}],\"height\":300,\"left\":[{\"id\":\"1191\"}],\"margin\":[5,5,5,5],\"min_border_bottom\":10,\"min_border_left\":10,\"min_border_right\":10,\"min_border_top\":10,\"renderers\":[{\"id\":\"1214\"}],\"sizing_mode\":\"fixed\",\"title\":{\"id\":\"1179\"},\"toolbar\":{\"id\":\"1201\"},\"width\":700,\"x_range\":{\"id\":\"1175\"},\"x_scale\":{\"id\":\"1183\"},\"y_range\":{\"id\":\"1176\"},\"y_scale\":{\"id\":\"1185\"}},\"id\":\"1178\",\"subtype\":\"Figure\",\"type\":\"Plot\"},{\"attributes\":{},\"id\":\"1209\",\"type\":\"Selection\"},{\"attributes\":{\"fill_color\":{\"value\":\"#30a2da\"},\"hatch_color\":{\"value\":\"#30a2da\"},\"line_color\":{\"value\":\"#30a2da\"},\"size\":{\"value\":5.477225575051661},\"x\":{\"field\":\"TotalCoinsMined\"},\"y\":{\"field\":\"TotalCoinSupply\"}},\"id\":\"1211\",\"type\":\"Scatter\"},{\"attributes\":{\"axis\":{\"id\":\"1187\"},\"coordinates\":null,\"grid_line_color\":null,\"group\":null,\"ticker\":null},\"id\":\"1190\",\"type\":\"Grid\"},{\"attributes\":{\"data\":{\"TotalCoinSupply\":{\"__ndarray__\":\"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\",\"dtype\":\"float64\",\"order\":\"little\",\"shape\":[532]},\"TotalCoinsMined\":{\"__ndarray__\":\"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\",\"dtype\":\"float64\",\"order\":\"little\",\"shape\":[532]}},\"selected\":{\"id\":\"1209\"},\"selection_policy\":{\"id\":\"1230\"}},\"id\":\"1208\",\"type\":\"ColumnDataSource\"},{\"attributes\":{\"axis_label\":\"TotalCoinsMined\",\"coordinates\":null,\"formatter\":{\"id\":\"1218\"},\"group\":null,\"major_label_policy\":{\"id\":\"1219\"},\"ticker\":{\"id\":\"1188\"}},\"id\":\"1187\",\"type\":\"LinearAxis\"},{\"attributes\":{\"tools\":[{\"id\":\"1177\"},{\"id\":\"1195\"},{\"id\":\"1196\"},{\"id\":\"1197\"},{\"id\":\"1198\"},{\"id\":\"1199\"}]},\"id\":\"1201\",\"type\":\"Toolbar\"},{\"attributes\":{\"axis\":{\"id\":\"1191\"},\"coordinates\":null,\"dimension\":1,\"grid_line_color\":null,\"group\":null,\"ticker\":null},\"id\":\"1194\",\"type\":\"Grid\"},{\"attributes\":{},\"id\":\"1188\",\"type\":\"BasicTicker\"},{\"attributes\":{},\"id\":\"1197\",\"type\":\"WheelZoomTool\"},{\"attributes\":{\"axis_label\":\"TotalCoinSupply\",\"coordinates\":null,\"formatter\":{\"id\":\"1221\"},\"group\":null,\"major_label_policy\":{\"id\":\"1222\"},\"ticker\":{\"id\":\"1192\"}},\"id\":\"1191\",\"type\":\"LinearAxis\"},{\"attributes\":{},\"id\":\"1219\",\"type\":\"AllLabels\"},{\"attributes\":{},\"id\":\"1192\",\"type\":\"BasicTicker\"}],\"root_ids\":[\"1173\"]},\"title\":\"Bokeh Application\",\"version\":\"2.4.0\"}};\n",
       "    var render_items = [{\"docid\":\"5f4c9d19-c8ee-443e-b47c-50e69c12ec47\",\"root_ids\":[\"1173\"],\"roots\":{\"1173\":\"7b5075ce-21ed-469f-b46c-20f6ac07f202\"}}];\n",
       "    root.Bokeh.embed.embed_items_notebook(docs_json, render_items);\n",
       "  }\n",
       "  if (root.Bokeh !== undefined && root.Bokeh.Panel !== undefined) {\n",
       "    embed_document(root);\n",
       "  } else {\n",
       "    var attempts = 0;\n",
       "    var timer = setInterval(function(root) {\n",
       "      if (root.Bokeh !== undefined && root.Bokeh.Panel !== undefined) {\n",
       "        clearInterval(timer);\n",
       "        embed_document(root);\n",
       "      } else if (document.readyState == \"complete\") {\n",
       "        attempts++;\n",
       "        if (attempts > 200) {\n",
       "          clearInterval(timer);\n",
       "          console.log(\"Bokeh: ERROR: Unable to run BokehJS code because BokehJS library is missing\");\n",
       "        }\n",
       "      }\n",
       "    }, 25, root)\n",
       "  }\n",
       "})(window);</script>"
      ],
      "text/plain": [
       ":Scatter   [TotalCoinsMined]   (TotalCoinSupply)"
      ]
     },
     "execution_count": 75,
     "metadata": {
      "application/vnd.holoviews_exec.v0+json": {
       "id": "1173"
      }
     },
     "output_type": "execute_result"
    }
   ],
   "source": [
    "# Plot the scatter with x=\"TotalCoinsMined\" and y=\"TotalCoinSupply\"\n",
    "scaled_crypto_df.hvplot.scatter(x=\"TotalCoinsMined\", y=\"TotalCoinSupply\")"
   ]
  }
 ],
 "metadata": {
  "file_extension": ".py",
  "kernelspec": {
   "display_name": "Python 3 (ipykernel)",
   "language": "python",
   "name": "python3"
  },
  "language_info": {
   "codemirror_mode": {
    "name": "ipython",
    "version": 3
   },
   "file_extension": ".py",
   "mimetype": "text/x-python",
   "name": "python",
   "nbconvert_exporter": "python",
   "pygments_lexer": "ipython3",
   "version": "3.8.8"
  },
  "mimetype": "text/x-python",
  "name": "python",
  "npconvert_exporter": "python",
  "pygments_lexer": "ipython3",
  "version": 3
 },
 "nbformat": 4,
 "nbformat_minor": 4
}
